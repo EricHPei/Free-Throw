{
 "cells": [
  {
   "cell_type": "code",
   "execution_count": 2,
   "metadata": {
    "collapsed": true
   },
   "outputs": [],
   "source": [
    "from scripts import make_df"
   ]
  },
  {
   "cell_type": "code",
   "execution_count": 3,
   "metadata": {
    "collapsed": false
   },
   "outputs": [
    {
     "name": "stderr",
     "output_type": "stream",
     "text": [
      "/Users/ericpei/anaconda/lib/python2.7/site-packages/matplotlib/font_manager.py:273: UserWarning: Matplotlib is building the font cache using fc-list. This may take a moment.\n",
      "  warnings.warn('Matplotlib is building the font cache using fc-list. This may take a moment.')\n"
     ]
    }
   ],
   "source": [
    "from scripts import random_forest"
   ]
  },
  {
   "cell_type": "code",
   "execution_count": 70,
   "metadata": {
    "collapsed": true
   },
   "outputs": [],
   "source": [
    "make_df.create_csvs('alldata')"
   ]
  },
  {
   "cell_type": "code",
   "execution_count": 71,
   "metadata": {
    "collapsed": false,
    "scrolled": true
   },
   "outputs": [],
   "source": [
    "df = make_df.create_df()"
   ]
  },
  {
   "cell_type": "code",
   "execution_count": 72,
   "metadata": {
    "collapsed": false
   },
   "outputs": [],
   "source": [
    "df = make_df.clean_df(df)"
   ]
  },
  {
   "cell_type": "code",
   "execution_count": 74,
   "metadata": {
    "collapsed": false
   },
   "outputs": [],
   "source": [
    "df = make_df.drop_zerominutes(df)"
   ]
  },
  {
   "cell_type": "code",
   "execution_count": 75,
   "metadata": {
    "collapsed": true
   },
   "outputs": [],
   "source": [
    "df = make_df.add_features(df)"
   ]
  },
  {
   "cell_type": "code",
   "execution_count": 76,
   "metadata": {
    "collapsed": false
   },
   "outputs": [],
   "source": [
    "Player_Averages = make_df.make_averages(df)"
   ]
  },
  {
   "cell_type": "code",
   "execution_count": 559,
   "metadata": {
    "collapsed": false
   },
   "outputs": [
    {
     "data": {
      "text/html": [
       "<div>\n",
       "<table border=\"1\" class=\"dataframe\">\n",
       "  <thead>\n",
       "    <tr style=\"text-align: right;\">\n",
       "      <th></th>\n",
       "      <th>Player Name</th>\n",
       "      <th>FG</th>\n",
       "      <th>FGA</th>\n",
       "      <th>FG%</th>\n",
       "      <th>3P</th>\n",
       "      <th>3PA</th>\n",
       "      <th>3P%</th>\n",
       "      <th>FT</th>\n",
       "      <th>FTA</th>\n",
       "      <th>FT%</th>\n",
       "      <th>...</th>\n",
       "      <th>TOV%</th>\n",
       "      <th>USG%</th>\n",
       "      <th>ORtg</th>\n",
       "      <th>DRtg</th>\n",
       "      <th>Away</th>\n",
       "      <th>Home</th>\n",
       "      <th>OneisHome</th>\n",
       "      <th>Date</th>\n",
       "      <th>SP</th>\n",
       "      <th>Season</th>\n",
       "    </tr>\n",
       "  </thead>\n",
       "  <tbody>\n",
       "    <tr>\n",
       "      <th>0</th>\n",
       "      <td>A.J. Price</td>\n",
       "      <td>0</td>\n",
       "      <td>0</td>\n",
       "      <td>0.000</td>\n",
       "      <td>0</td>\n",
       "      <td>0</td>\n",
       "      <td>0.0</td>\n",
       "      <td>0</td>\n",
       "      <td>0</td>\n",
       "      <td>0.0</td>\n",
       "      <td>...</td>\n",
       "      <td>0.0</td>\n",
       "      <td>0.0</td>\n",
       "      <td>0</td>\n",
       "      <td>117</td>\n",
       "      <td>MIA</td>\n",
       "      <td>IND</td>\n",
       "      <td>1</td>\n",
       "      <td>2009-10-30</td>\n",
       "      <td>79</td>\n",
       "      <td>2010</td>\n",
       "    </tr>\n",
       "    <tr>\n",
       "      <th>1</th>\n",
       "      <td>A.J. Price</td>\n",
       "      <td>1</td>\n",
       "      <td>2</td>\n",
       "      <td>0.500</td>\n",
       "      <td>1</td>\n",
       "      <td>2</td>\n",
       "      <td>0.5</td>\n",
       "      <td>0</td>\n",
       "      <td>0</td>\n",
       "      <td>0.0</td>\n",
       "      <td>...</td>\n",
       "      <td>0.0</td>\n",
       "      <td>13.5</td>\n",
       "      <td>166</td>\n",
       "      <td>124</td>\n",
       "      <td>DEN</td>\n",
       "      <td>IND</td>\n",
       "      <td>1</td>\n",
       "      <td>2009-11-03</td>\n",
       "      <td>369</td>\n",
       "      <td>2010</td>\n",
       "    </tr>\n",
       "    <tr>\n",
       "      <th>2</th>\n",
       "      <td>A.J. Price</td>\n",
       "      <td>2</td>\n",
       "      <td>4</td>\n",
       "      <td>0.500</td>\n",
       "      <td>2</td>\n",
       "      <td>4</td>\n",
       "      <td>0.5</td>\n",
       "      <td>0</td>\n",
       "      <td>0</td>\n",
       "      <td>0.0</td>\n",
       "      <td>...</td>\n",
       "      <td>0.0</td>\n",
       "      <td>15.0</td>\n",
       "      <td>150</td>\n",
       "      <td>93</td>\n",
       "      <td>WAS</td>\n",
       "      <td>IND</td>\n",
       "      <td>1</td>\n",
       "      <td>2009-11-06</td>\n",
       "      <td>685</td>\n",
       "      <td>2010</td>\n",
       "    </tr>\n",
       "    <tr>\n",
       "      <th>3</th>\n",
       "      <td>A.J. Price</td>\n",
       "      <td>0</td>\n",
       "      <td>1</td>\n",
       "      <td>0.000</td>\n",
       "      <td>0</td>\n",
       "      <td>0</td>\n",
       "      <td>0.0</td>\n",
       "      <td>1</td>\n",
       "      <td>2</td>\n",
       "      <td>0.5</td>\n",
       "      <td>...</td>\n",
       "      <td>0.0</td>\n",
       "      <td>9.4</td>\n",
       "      <td>87</td>\n",
       "      <td>98</td>\n",
       "      <td>GSW</td>\n",
       "      <td>IND</td>\n",
       "      <td>1</td>\n",
       "      <td>2009-11-11</td>\n",
       "      <td>487</td>\n",
       "      <td>2010</td>\n",
       "    </tr>\n",
       "    <tr>\n",
       "      <th>4</th>\n",
       "      <td>A.J. Price</td>\n",
       "      <td>2</td>\n",
       "      <td>3</td>\n",
       "      <td>0.667</td>\n",
       "      <td>1</td>\n",
       "      <td>2</td>\n",
       "      <td>0.5</td>\n",
       "      <td>1</td>\n",
       "      <td>1</td>\n",
       "      <td>1.0</td>\n",
       "      <td>...</td>\n",
       "      <td>22.5</td>\n",
       "      <td>36.1</td>\n",
       "      <td>115</td>\n",
       "      <td>118</td>\n",
       "      <td>IND</td>\n",
       "      <td>CHA</td>\n",
       "      <td>0</td>\n",
       "      <td>2009-11-22</td>\n",
       "      <td>332</td>\n",
       "      <td>2010</td>\n",
       "    </tr>\n",
       "  </tbody>\n",
       "</table>\n",
       "<p>5 rows × 40 columns</p>\n",
       "</div>"
      ],
      "text/plain": [
       "  Player Name  FG  FGA    FG%  3P  3PA  3P%  FT  FTA  FT%   ...    TOV%  USG%  \\\n",
       "0  A.J. Price   0    0  0.000   0    0  0.0   0    0  0.0   ...     0.0   0.0   \n",
       "1  A.J. Price   1    2  0.500   1    2  0.5   0    0  0.0   ...     0.0  13.5   \n",
       "2  A.J. Price   2    4  0.500   2    4  0.5   0    0  0.0   ...     0.0  15.0   \n",
       "3  A.J. Price   0    1  0.000   0    0  0.0   1    2  0.5   ...     0.0   9.4   \n",
       "4  A.J. Price   2    3  0.667   1    2  0.5   1    1  1.0   ...    22.5  36.1   \n",
       "\n",
       "   ORtg  DRtg  Away  Home  OneisHome       Date   SP  Season  \n",
       "0     0   117   MIA   IND          1 2009-10-30   79    2010  \n",
       "1   166   124   DEN   IND          1 2009-11-03  369    2010  \n",
       "2   150    93   WAS   IND          1 2009-11-06  685    2010  \n",
       "3    87    98   GSW   IND          1 2009-11-11  487    2010  \n",
       "4   115   118   IND   CHA          0 2009-11-22  332    2010  \n",
       "\n",
       "[5 rows x 40 columns]"
      ]
     },
     "execution_count": 559,
     "metadata": {},
     "output_type": "execute_result"
    }
   ],
   "source": [
    "df.head()"
   ]
  },
  {
   "cell_type": "code",
   "execution_count": 560,
   "metadata": {
    "collapsed": true
   },
   "outputs": [],
   "source": [
    "def check_year(date):\n",
    "    if date.month < 7:\n",
    "        return date.year\n",
    "    else:\n",
    "        return (date.year + 1)"
   ]
  },
  {
   "cell_type": "code",
   "execution_count": 199,
   "metadata": {
    "collapsed": true
   },
   "outputs": [],
   "source": [
    "from datetime import timedelta"
   ]
  },
  {
   "cell_type": "code",
   "execution_count": 196,
   "metadata": {
    "collapsed": true
   },
   "outputs": [],
   "source": [
    "from pandas import Timedelta"
   ]
  },
  {
   "cell_type": "code",
   "execution_count": 216,
   "metadata": {
    "collapsed": false
   },
   "outputs": [],
   "source": [
    "df['Season'] = df.apply(lambda x: check_year(x['Date']), axis=1)"
   ]
  },
  {
   "cell_type": "code",
   "execution_count": 217,
   "metadata": {
    "collapsed": false
   },
   "outputs": [
    {
     "data": {
      "text/html": [
       "<div>\n",
       "<table border=\"1\" class=\"dataframe\">\n",
       "  <thead>\n",
       "    <tr style=\"text-align: right;\">\n",
       "      <th></th>\n",
       "      <th>Player Name</th>\n",
       "      <th>FG</th>\n",
       "      <th>FGA</th>\n",
       "      <th>FG%</th>\n",
       "      <th>3P</th>\n",
       "      <th>3PA</th>\n",
       "      <th>3P%</th>\n",
       "      <th>FT</th>\n",
       "      <th>FTA</th>\n",
       "      <th>FT%</th>\n",
       "      <th>...</th>\n",
       "      <th>TOV%</th>\n",
       "      <th>USG%</th>\n",
       "      <th>ORtg</th>\n",
       "      <th>DRtg</th>\n",
       "      <th>Away</th>\n",
       "      <th>Home</th>\n",
       "      <th>OneisHome</th>\n",
       "      <th>Date</th>\n",
       "      <th>SP</th>\n",
       "      <th>Season</th>\n",
       "    </tr>\n",
       "  </thead>\n",
       "  <tbody>\n",
       "    <tr>\n",
       "      <th>0</th>\n",
       "      <td>A.J. Price</td>\n",
       "      <td>0</td>\n",
       "      <td>0</td>\n",
       "      <td>0.000</td>\n",
       "      <td>0</td>\n",
       "      <td>0</td>\n",
       "      <td>0.0</td>\n",
       "      <td>0</td>\n",
       "      <td>0</td>\n",
       "      <td>0.0</td>\n",
       "      <td>...</td>\n",
       "      <td>0.0</td>\n",
       "      <td>0.0</td>\n",
       "      <td>0</td>\n",
       "      <td>117</td>\n",
       "      <td>MIA</td>\n",
       "      <td>IND</td>\n",
       "      <td>1</td>\n",
       "      <td>2009-10-30</td>\n",
       "      <td>79</td>\n",
       "      <td>2010</td>\n",
       "    </tr>\n",
       "    <tr>\n",
       "      <th>1</th>\n",
       "      <td>A.J. Price</td>\n",
       "      <td>1</td>\n",
       "      <td>2</td>\n",
       "      <td>0.500</td>\n",
       "      <td>1</td>\n",
       "      <td>2</td>\n",
       "      <td>0.5</td>\n",
       "      <td>0</td>\n",
       "      <td>0</td>\n",
       "      <td>0.0</td>\n",
       "      <td>...</td>\n",
       "      <td>0.0</td>\n",
       "      <td>13.5</td>\n",
       "      <td>166</td>\n",
       "      <td>124</td>\n",
       "      <td>DEN</td>\n",
       "      <td>IND</td>\n",
       "      <td>1</td>\n",
       "      <td>2009-11-03</td>\n",
       "      <td>369</td>\n",
       "      <td>2010</td>\n",
       "    </tr>\n",
       "    <tr>\n",
       "      <th>2</th>\n",
       "      <td>A.J. Price</td>\n",
       "      <td>2</td>\n",
       "      <td>4</td>\n",
       "      <td>0.500</td>\n",
       "      <td>2</td>\n",
       "      <td>4</td>\n",
       "      <td>0.5</td>\n",
       "      <td>0</td>\n",
       "      <td>0</td>\n",
       "      <td>0.0</td>\n",
       "      <td>...</td>\n",
       "      <td>0.0</td>\n",
       "      <td>15.0</td>\n",
       "      <td>150</td>\n",
       "      <td>93</td>\n",
       "      <td>WAS</td>\n",
       "      <td>IND</td>\n",
       "      <td>1</td>\n",
       "      <td>2009-11-06</td>\n",
       "      <td>685</td>\n",
       "      <td>2010</td>\n",
       "    </tr>\n",
       "    <tr>\n",
       "      <th>3</th>\n",
       "      <td>A.J. Price</td>\n",
       "      <td>0</td>\n",
       "      <td>1</td>\n",
       "      <td>0.000</td>\n",
       "      <td>0</td>\n",
       "      <td>0</td>\n",
       "      <td>0.0</td>\n",
       "      <td>1</td>\n",
       "      <td>2</td>\n",
       "      <td>0.5</td>\n",
       "      <td>...</td>\n",
       "      <td>0.0</td>\n",
       "      <td>9.4</td>\n",
       "      <td>87</td>\n",
       "      <td>98</td>\n",
       "      <td>GSW</td>\n",
       "      <td>IND</td>\n",
       "      <td>1</td>\n",
       "      <td>2009-11-11</td>\n",
       "      <td>487</td>\n",
       "      <td>2010</td>\n",
       "    </tr>\n",
       "    <tr>\n",
       "      <th>4</th>\n",
       "      <td>A.J. Price</td>\n",
       "      <td>2</td>\n",
       "      <td>3</td>\n",
       "      <td>0.667</td>\n",
       "      <td>1</td>\n",
       "      <td>2</td>\n",
       "      <td>0.5</td>\n",
       "      <td>1</td>\n",
       "      <td>1</td>\n",
       "      <td>1.0</td>\n",
       "      <td>...</td>\n",
       "      <td>22.5</td>\n",
       "      <td>36.1</td>\n",
       "      <td>115</td>\n",
       "      <td>118</td>\n",
       "      <td>IND</td>\n",
       "      <td>CHA</td>\n",
       "      <td>0</td>\n",
       "      <td>2009-11-22</td>\n",
       "      <td>332</td>\n",
       "      <td>2010</td>\n",
       "    </tr>\n",
       "  </tbody>\n",
       "</table>\n",
       "<p>5 rows × 40 columns</p>\n",
       "</div>"
      ],
      "text/plain": [
       "  Player Name  FG  FGA    FG%  3P  3PA  3P%  FT  FTA  FT%   ...    TOV%  USG%  \\\n",
       "0  A.J. Price   0    0  0.000   0    0  0.0   0    0  0.0   ...     0.0   0.0   \n",
       "1  A.J. Price   1    2  0.500   1    2  0.5   0    0  0.0   ...     0.0  13.5   \n",
       "2  A.J. Price   2    4  0.500   2    4  0.5   0    0  0.0   ...     0.0  15.0   \n",
       "3  A.J. Price   0    1  0.000   0    0  0.0   1    2  0.5   ...     0.0   9.4   \n",
       "4  A.J. Price   2    3  0.667   1    2  0.5   1    1  1.0   ...    22.5  36.1   \n",
       "\n",
       "   ORtg  DRtg  Away  Home  OneisHome       Date   SP  Season  \n",
       "0     0   117   MIA   IND          1 2009-10-30   79    2010  \n",
       "1   166   124   DEN   IND          1 2009-11-03  369    2010  \n",
       "2   150    93   WAS   IND          1 2009-11-06  685    2010  \n",
       "3    87    98   GSW   IND          1 2009-11-11  487    2010  \n",
       "4   115   118   IND   CHA          0 2009-11-22  332    2010  \n",
       "\n",
       "[5 rows x 40 columns]"
      ]
     },
     "execution_count": 217,
     "metadata": {},
     "output_type": "execute_result"
    }
   ],
   "source": [
    "df.head()"
   ]
  },
  {
   "cell_type": "code",
   "execution_count": 561,
   "metadata": {
    "collapsed": false
   },
   "outputs": [],
   "source": [
    "home = df.groupby(['Home','OneisHome','Season','Date']).sum()"
   ]
  },
  {
   "cell_type": "code",
   "execution_count": 564,
   "metadata": {
    "collapsed": true
   },
   "outputs": [],
   "source": [
    "# special_team_home = df.groupby(['Home','OneisHome','Season','Date']).sum()"
   ]
  },
  {
   "cell_type": "code",
   "execution_count": 565,
   "metadata": {
    "collapsed": true
   },
   "outputs": [],
   "source": [
    "# special_team_away = df.groupby(['Away','OneisHome','Season','Date']).sum()"
   ]
  },
  {
   "cell_type": "code",
   "execution_count": 566,
   "metadata": {
    "collapsed": false
   },
   "outputs": [],
   "source": [
    "# special_team_home.xs((['ATL',1]),level=['Home','OneisHome'])"
   ]
  },
  {
   "cell_type": "code",
   "execution_count": 563,
   "metadata": {
    "collapsed": true
   },
   "outputs": [],
   "source": [
    "# def special_points(team=):\n",
    "#     special_team_home['Points'] = g['FG']*2 + g['3P'] + g['FT']"
   ]
  },
  {
   "cell_type": "code",
   "execution_count": 567,
   "metadata": {
    "collapsed": true
   },
   "outputs": [],
   "source": [
    "away = df.groupby(['Away','OneisHome','Season','Date']).sum()\n",
    "away['Points'] = away['FG']*2 + away['3P'] + away['FT']"
   ]
  },
  {
   "cell_type": "code",
   "execution_count": 568,
   "metadata": {
    "collapsed": false
   },
   "outputs": [
    {
     "data": {
      "text/plain": [
       "Season  Date      \n",
       "2006    2005-11-08     93\n",
       "        2005-11-10     94\n",
       "        2005-11-12     80\n",
       "        2005-11-23    114\n",
       "        2005-11-27     75\n",
       "        2005-11-30     74\n",
       "        2005-12-02     97\n",
       "        2005-12-10     94\n",
       "        2005-12-16    110\n",
       "        2005-12-18     99\n",
       "        2005-12-23    104\n",
       "        2005-12-27     88\n",
       "        2006-01-03     95\n",
       "        2006-01-07     95\n",
       "        2006-01-10     89\n",
       "        2006-01-14    100\n",
       "        2006-01-16     90\n",
       "        2006-01-18     85\n",
       "        2006-01-20     97\n",
       "        2006-01-23    101\n",
       "        2006-01-25     92\n",
       "        2006-01-27     98\n",
       "        2006-01-30    110\n",
       "        2006-02-03     91\n",
       "        2006-02-07     94\n",
       "        2006-02-22    104\n",
       "        2006-02-25     85\n",
       "        2006-02-27     98\n",
       "        2006-03-03     87\n",
       "        2006-03-07    103\n",
       "                     ... \n",
       "2016    2015-12-04     90\n",
       "        2015-12-12     73\n",
       "        2015-12-14     80\n",
       "        2015-12-16    117\n",
       "        2015-12-21     97\n",
       "        2015-12-23    101\n",
       "        2015-12-26    109\n",
       "        2016-01-05     86\n",
       "        2016-01-09    110\n",
       "        2016-01-16    106\n",
       "        2016-01-18     89\n",
       "        2016-01-27     73\n",
       "        2016-02-01     98\n",
       "        2016-02-05     92\n",
       "        2016-02-08     98\n",
       "        2016-02-19     95\n",
       "        2016-02-20    100\n",
       "        2016-02-22     82\n",
       "        2016-02-26     96\n",
       "        2016-02-28     79\n",
       "        2016-03-12     84\n",
       "        2016-03-13     89\n",
       "        2016-03-17    104\n",
       "        2016-03-19     95\n",
       "        2016-03-21     89\n",
       "        2016-03-25     96\n",
       "        2016-04-01     99\n",
       "        2016-04-05     92\n",
       "        2016-04-07     83\n",
       "        2016-04-09    101\n",
       "dtype: int64"
      ]
     },
     "execution_count": 568,
     "metadata": {},
     "output_type": "execute_result"
    }
   ],
   "source": [
    "home.xs((['ATL',1]),level=['Home','OneisHome'])['FG']*2 + home.xs((['ATL',1]),level=['Home','OneisHome'])['FT']"
   ]
  },
  {
   "cell_type": "code",
   "execution_count": 297,
   "metadata": {
    "collapsed": true
   },
   "outputs": [],
   "source": [
    "team = 'ATL'"
   ]
  },
  {
   "cell_type": "code",
   "execution_count": 569,
   "metadata": {
    "collapsed": false
   },
   "outputs": [
    {
     "data": {
      "text/plain": [
       "Season  Date      \n",
       "2006    2005-11-08     97\n",
       "        2005-11-10     95\n",
       "        2005-11-12     84\n",
       "        2005-11-23    120\n",
       "        2005-11-27     75\n",
       "        2005-11-30     74\n",
       "        2005-12-02    101\n",
       "        2005-12-10     94\n",
       "        2005-12-16    122\n",
       "        2005-12-18    110\n",
       "        2005-12-23    111\n",
       "        2005-12-27     90\n",
       "        2006-01-03     97\n",
       "        2006-01-07    101\n",
       "        2006-01-10     94\n",
       "        2006-01-14    106\n",
       "        2006-01-16     94\n",
       "        2006-01-18     89\n",
       "        2006-01-20    102\n",
       "        2006-01-23    104\n",
       "        2006-01-25     97\n",
       "        2006-01-27    106\n",
       "        2006-01-30    120\n",
       "        2006-02-03     96\n",
       "        2006-02-07     99\n",
       "        2006-02-22    109\n",
       "        2006-02-25     89\n",
       "        2006-02-27    104\n",
       "        2006-03-03     93\n",
       "        2006-03-07    113\n",
       "                     ... \n",
       "2016    2015-12-04    100\n",
       "        2015-12-12     78\n",
       "        2015-12-14     88\n",
       "        2015-12-16    127\n",
       "        2015-12-21    106\n",
       "        2015-12-23    107\n",
       "        2015-12-26    117\n",
       "        2016-01-05    101\n",
       "        2016-01-09    120\n",
       "        2016-01-16    114\n",
       "        2016-01-18     98\n",
       "        2016-01-27     83\n",
       "        2016-02-01    112\n",
       "        2016-02-05    102\n",
       "        2016-02-08    110\n",
       "        2016-02-19    111\n",
       "        2016-02-20    109\n",
       "        2016-02-22     92\n",
       "        2016-02-26    103\n",
       "        2016-02-28     87\n",
       "        2016-03-12     95\n",
       "        2016-03-13    104\n",
       "        2016-03-17    116\n",
       "        2016-03-19    109\n",
       "        2016-03-21    102\n",
       "        2016-03-25    101\n",
       "        2016-04-01    108\n",
       "        2016-04-05    103\n",
       "        2016-04-07     95\n",
       "        2016-04-09    118\n",
       "dtype: int64"
      ]
     },
     "execution_count": 569,
     "metadata": {},
     "output_type": "execute_result"
    }
   ],
   "source": [
    "home.xs(([team,1]),level=['Home','OneisHome'])['FG']*2 + home.xs(([team,1]),level=['Home','OneisHome'])['3P']\\\n",
    "+ home.xs(([team,1]),level=['Home','OneisHome'])['FT']"
   ]
  },
  {
   "cell_type": "code",
   "execution_count": 570,
   "metadata": {
    "collapsed": false
   },
   "outputs": [],
   "source": [
    "home['Points'] = home['FG']*2 + home['3P'] + home['FT']"
   ]
  },
  {
   "cell_type": "code",
   "execution_count": 571,
   "metadata": {
    "collapsed": false
   },
   "outputs": [
    {
     "data": {
      "text/plain": [
       "Season  Date      \n",
       "2006    2005-11-08     97\n",
       "        2005-11-10     95\n",
       "        2005-11-12     84\n",
       "        2005-11-23    120\n",
       "        2005-11-27     75\n",
       "        2005-11-30     74\n",
       "        2005-12-02    101\n",
       "        2005-12-10     94\n",
       "        2005-12-16    122\n",
       "        2005-12-18    110\n",
       "        2005-12-23    111\n",
       "        2005-12-27     90\n",
       "        2006-01-03     97\n",
       "        2006-01-07    101\n",
       "        2006-01-10     94\n",
       "        2006-01-14    106\n",
       "        2006-01-16     94\n",
       "        2006-01-18     89\n",
       "        2006-01-20    102\n",
       "        2006-01-23    104\n",
       "        2006-01-25     97\n",
       "        2006-01-27    106\n",
       "        2006-01-30    120\n",
       "        2006-02-03     96\n",
       "        2006-02-07     99\n",
       "        2006-02-22    109\n",
       "        2006-02-25     89\n",
       "        2006-02-27    104\n",
       "        2006-03-03     93\n",
       "        2006-03-07    113\n",
       "                     ... \n",
       "2016    2015-12-04    100\n",
       "        2015-12-12     78\n",
       "        2015-12-14     88\n",
       "        2015-12-16    127\n",
       "        2015-12-21    106\n",
       "        2015-12-23    107\n",
       "        2015-12-26    117\n",
       "        2016-01-05    101\n",
       "        2016-01-09    120\n",
       "        2016-01-16    114\n",
       "        2016-01-18     98\n",
       "        2016-01-27     83\n",
       "        2016-02-01    112\n",
       "        2016-02-05    102\n",
       "        2016-02-08    110\n",
       "        2016-02-19    111\n",
       "        2016-02-20    109\n",
       "        2016-02-22     92\n",
       "        2016-02-26    103\n",
       "        2016-02-28     87\n",
       "        2016-03-12     95\n",
       "        2016-03-13    104\n",
       "        2016-03-17    116\n",
       "        2016-03-19    109\n",
       "        2016-03-21    102\n",
       "        2016-03-25    101\n",
       "        2016-04-01    108\n",
       "        2016-04-05    103\n",
       "        2016-04-07     95\n",
       "        2016-04-09    118\n",
       "Name: Points, dtype: int64"
      ]
     },
     "execution_count": 571,
     "metadata": {},
     "output_type": "execute_result"
    }
   ],
   "source": [
    "home.loc[(team, 1),'Points']"
   ]
  },
  {
   "cell_type": "code",
   "execution_count": 572,
   "metadata": {
    "collapsed": false,
    "scrolled": false
   },
   "outputs": [],
   "source": [
    "## screws up home\n",
    "team = 'ATL'\n",
    "free_throw = 1.1\n",
    "home.loc[(team,1),'Points'] = (home.xs(([team,1]),level=['Home','OneisHome'])['FG']*2 + home.xs(([team,1]),level=\\\n",
    "                            ['Home','OneisHome'])['3P']+ home.xs(([team,1]),level=['Home','OneisHome'])['FT']\\\n",
    "                            +home.xs(([team,1]),level=['Home','OneisHome'])['FTA']*(free_throw-1)).values"
   ]
  },
  {
   "cell_type": "code",
   "execution_count": 573,
   "metadata": {
    "collapsed": false
   },
   "outputs": [],
   "source": [
    "away.loc[(team,0),'Points'] = (away.xs(([team,0]),level=['Away','OneisHome'])['FG']*2 + away.xs(([team,0]),level=\\\n",
    "                            ['Away','OneisHome'])['3P'] + away.xs(([team,0]),level=['Away','OneisHome'])['FT']+\\\n",
    "                            away.xs(([team,0]),level=['Away','OneisHome'])['FTA']*(free_throw-1)).values"
   ]
  },
  {
   "cell_type": "code",
   "execution_count": 574,
   "metadata": {
    "collapsed": false
   },
   "outputs": [
    {
     "data": {
      "text/plain": [
       "Season  Date      \n",
       "2006    2005-11-02     99.1\n",
       "        2005-11-04     80.4\n",
       "        2005-11-05     95.3\n",
       "        2005-11-15     81.4\n",
       "        2005-11-17     80.8\n",
       "        2005-11-18     94.4\n",
       "        2005-11-25     89.6\n",
       "        2005-11-29     88.4\n",
       "        2005-12-04     97.3\n",
       "        2005-12-06    118.7\n",
       "        2005-12-07     86.1\n",
       "        2005-12-13    104.1\n",
       "        2005-12-14    102.8\n",
       "        2005-12-20     95.4\n",
       "        2005-12-28    103.6\n",
       "        2005-12-30     93.4\n",
       "        2006-01-06    105.5\n",
       "        2006-01-11     74.6\n",
       "        2006-01-13     96.6\n",
       "        2006-01-28    101.0\n",
       "        2006-02-01    106.1\n",
       "        2006-02-04     89.5\n",
       "        2006-02-10     93.1\n",
       "        2006-02-12     86.1\n",
       "        2006-02-15    117.1\n",
       "        2006-02-21     89.0\n",
       "        2006-02-24    119.8\n",
       "        2006-03-01    115.4\n",
       "        2006-03-04     95.8\n",
       "        2006-03-13     89.1\n",
       "                      ...  \n",
       "2016    2015-12-10     96.3\n",
       "        2015-12-18    111.9\n",
       "        2015-12-20    105.0\n",
       "        2015-12-28     89.5\n",
       "        2015-12-29    123.5\n",
       "        2016-01-03     99.0\n",
       "        2016-01-07    127.9\n",
       "        2016-01-13     86.1\n",
       "        2016-01-15    101.6\n",
       "        2016-01-20    106.3\n",
       "        2016-01-21     89.5\n",
       "        2016-01-23     96.8\n",
       "        2016-01-25    121.6\n",
       "        2016-01-28     94.1\n",
       "        2016-01-31     90.2\n",
       "        2016-02-03    126.5\n",
       "        2016-02-07     95.5\n",
       "        2016-02-10    114.5\n",
       "        2016-03-01    107.4\n",
       "        2016-03-04    108.6\n",
       "        2016-03-05    109.0\n",
       "        2016-03-08     92.4\n",
       "        2016-03-10     98.7\n",
       "        2016-03-16    121.4\n",
       "        2016-03-23    124.2\n",
       "        2016-03-26    113.4\n",
       "        2016-03-28    104.8\n",
       "        2016-03-30     98.3\n",
       "        2016-04-11     95.5\n",
       "        2016-04-13    101.1\n",
       "Name: Points, dtype: float64"
      ]
     },
     "execution_count": 574,
     "metadata": {},
     "output_type": "execute_result"
    }
   ],
   "source": [
    "away.loc[(team,0),'Points']"
   ]
  },
  {
   "cell_type": "code",
   "execution_count": 575,
   "metadata": {
    "collapsed": false
   },
   "outputs": [
    {
     "data": {
      "text/plain": [
       "Season  Date      \n",
       "2006    2005-11-08     99.6\n",
       "        2005-11-10     97.7\n",
       "        2005-11-12     85.9\n",
       "        2005-11-23    123.8\n",
       "        2005-11-27     77.6\n",
       "        2005-11-30     76.0\n",
       "        2005-12-02    102.5\n",
       "        2005-12-10     96.8\n",
       "        2005-12-16    125.2\n",
       "        2005-12-18    111.9\n",
       "        2005-12-23    112.7\n",
       "        2005-12-27     91.3\n",
       "        2006-01-03    101.1\n",
       "        2006-01-07    103.0\n",
       "        2006-01-10     96.1\n",
       "        2006-01-14    109.8\n",
       "        2006-01-16     95.7\n",
       "        2006-01-18     92.0\n",
       "        2006-01-20    105.3\n",
       "        2006-01-23    107.0\n",
       "        2006-01-25     99.2\n",
       "        2006-01-27    107.7\n",
       "        2006-01-30    123.6\n",
       "        2006-02-03     98.8\n",
       "        2006-02-07    100.4\n",
       "        2006-02-22    111.8\n",
       "        2006-02-25     92.2\n",
       "        2006-02-27    107.0\n",
       "        2006-03-03     95.3\n",
       "        2006-03-07    117.0\n",
       "                      ...  \n",
       "2016    2015-12-04    102.0\n",
       "        2015-12-12     79.6\n",
       "        2015-12-14     89.5\n",
       "        2015-12-16    129.4\n",
       "        2015-12-21    108.8\n",
       "        2015-12-23    109.0\n",
       "        2015-12-26    118.8\n",
       "        2016-01-05    102.9\n",
       "        2016-01-09    121.5\n",
       "        2016-01-16    116.4\n",
       "        2016-01-18     99.0\n",
       "        2016-01-27     84.4\n",
       "        2016-02-01    113.9\n",
       "        2016-02-05    104.0\n",
       "        2016-02-08    112.0\n",
       "        2016-02-19    112.3\n",
       "        2016-02-20    110.8\n",
       "        2016-02-22     93.6\n",
       "        2016-02-26    105.4\n",
       "        2016-02-28     87.5\n",
       "        2016-03-12     96.7\n",
       "        2016-03-13    105.0\n",
       "        2016-03-17    118.8\n",
       "        2016-03-19    110.2\n",
       "        2016-03-21    103.7\n",
       "        2016-03-25    102.7\n",
       "        2016-04-01    110.6\n",
       "        2016-04-05    104.9\n",
       "        2016-04-07     97.1\n",
       "        2016-04-09    119.1\n",
       "Name: Points, dtype: float64"
      ]
     },
     "execution_count": 575,
     "metadata": {},
     "output_type": "execute_result"
    }
   ],
   "source": [
    "home.loc[(team,1),'Points']"
   ]
  },
  {
   "cell_type": "code",
   "execution_count": 577,
   "metadata": {
    "collapsed": false
   },
   "outputs": [],
   "source": [
    "home['Win'] = home.query('OneisHome == 1')['Points'] > home.query('OneisHome == 0')['Points']"
   ]
  },
  {
   "cell_type": "code",
   "execution_count": 578,
   "metadata": {
    "collapsed": true
   },
   "outputs": [],
   "source": [
    "away['Win'] = away.query('OneisHome == 0')['Points'] > away.query('OneisHome == 1')['Points']"
   ]
  },
  {
   "cell_type": "code",
   "execution_count": 579,
   "metadata": {
    "collapsed": false
   },
   "outputs": [
    {
     "data": {
      "text/plain": [
       "Home  Season  Date      \n",
       "ATL   2006    2005-11-08     99.6\n",
       "              2005-11-10     97.7\n",
       "              2005-11-12     85.9\n",
       "              2005-11-23    123.8\n",
       "              2005-11-27     77.6\n",
       "              2005-11-30     76.0\n",
       "              2005-12-02    102.5\n",
       "              2005-12-10     96.8\n",
       "              2005-12-16    125.2\n",
       "              2005-12-18    111.9\n",
       "              2005-12-23    112.7\n",
       "              2005-12-27     91.3\n",
       "              2006-01-03    101.1\n",
       "              2006-01-07    103.0\n",
       "              2006-01-10     96.1\n",
       "              2006-01-14    109.8\n",
       "              2006-01-16     95.7\n",
       "              2006-01-18     92.0\n",
       "              2006-01-20    105.3\n",
       "              2006-01-23    107.0\n",
       "              2006-01-25     99.2\n",
       "              2006-01-27    107.7\n",
       "              2006-01-30    123.6\n",
       "              2006-02-03     98.8\n",
       "              2006-02-07    100.4\n",
       "              2006-02-22    111.8\n",
       "              2006-02-25     92.2\n",
       "              2006-02-27    107.0\n",
       "              2006-03-03     95.3\n",
       "              2006-03-07    117.0\n",
       "                            ...  \n",
       "WAS   2016    2015-12-19    109.0\n",
       "              2015-12-21    113.0\n",
       "              2015-12-23    100.0\n",
       "              2015-12-28     91.0\n",
       "              2016-01-01    103.0\n",
       "              2016-01-03     75.0\n",
       "              2016-01-06    115.0\n",
       "              2016-01-08     88.0\n",
       "              2016-01-13    106.0\n",
       "              2016-01-16    117.0\n",
       "              2016-01-18     98.0\n",
       "              2016-01-20    106.0\n",
       "              2016-01-25     91.0\n",
       "              2016-01-28    113.0\n",
       "              2016-02-03    121.0\n",
       "              2016-02-05    106.0\n",
       "              2016-02-18    103.0\n",
       "              2016-02-19     98.0\n",
       "              2016-02-23    109.0\n",
       "              2016-02-28    113.0\n",
       "              2016-02-29    116.0\n",
       "              2016-03-05     99.0\n",
       "              2016-03-14    124.0\n",
       "              2016-03-16    117.0\n",
       "              2016-03-19     99.0\n",
       "              2016-03-23    101.0\n",
       "              2016-03-25    129.0\n",
       "              2016-04-06    121.0\n",
       "              2016-04-10    113.0\n",
       "              2016-04-13    109.0\n",
       "Name: Points, dtype: float64"
      ]
     },
     "execution_count": 579,
     "metadata": {},
     "output_type": "execute_result"
    }
   ],
   "source": [
    "home.xs((1),level='OneisHome')['Points']"
   ]
  },
  {
   "cell_type": "code",
   "execution_count": 580,
   "metadata": {
    "collapsed": true
   },
   "outputs": [],
   "source": [
    "h = home.reset_index()"
   ]
  },
  {
   "cell_type": "code",
   "execution_count": 581,
   "metadata": {
    "collapsed": true
   },
   "outputs": [],
   "source": [
    "a = away.reset_index()"
   ]
  },
  {
   "cell_type": "code",
   "execution_count": 582,
   "metadata": {
    "collapsed": false
   },
   "outputs": [
    {
     "data": {
      "text/html": [
       "<div>\n",
       "<table border=\"1\" class=\"dataframe\">\n",
       "  <thead>\n",
       "    <tr style=\"text-align: right;\">\n",
       "      <th></th>\n",
       "      <th>Home</th>\n",
       "      <th>OneisHome</th>\n",
       "      <th>Season</th>\n",
       "      <th>Date</th>\n",
       "      <th>FG</th>\n",
       "      <th>FGA</th>\n",
       "      <th>FG%</th>\n",
       "      <th>3P</th>\n",
       "      <th>3PA</th>\n",
       "      <th>3P%</th>\n",
       "      <th>...</th>\n",
       "      <th>AST%</th>\n",
       "      <th>STL%</th>\n",
       "      <th>BLK%</th>\n",
       "      <th>TOV%</th>\n",
       "      <th>USG%</th>\n",
       "      <th>ORtg</th>\n",
       "      <th>DRtg</th>\n",
       "      <th>SP</th>\n",
       "      <th>Points</th>\n",
       "      <th>Win</th>\n",
       "    </tr>\n",
       "  </thead>\n",
       "  <tbody>\n",
       "    <tr>\n",
       "      <th>0</th>\n",
       "      <td>ATL</td>\n",
       "      <td>0</td>\n",
       "      <td>2006</td>\n",
       "      <td>2005-11-08</td>\n",
       "      <td>38</td>\n",
       "      <td>73</td>\n",
       "      <td>4.813</td>\n",
       "      <td>7</td>\n",
       "      <td>18</td>\n",
       "      <td>2.333</td>\n",
       "      <td>...</td>\n",
       "      <td>134.6</td>\n",
       "      <td>23.1</td>\n",
       "      <td>11.4</td>\n",
       "      <td>177.2</td>\n",
       "      <td>173.8</td>\n",
       "      <td>904</td>\n",
       "      <td>1150</td>\n",
       "      <td>14400</td>\n",
       "      <td>103</td>\n",
       "      <td>NaN</td>\n",
       "    </tr>\n",
       "    <tr>\n",
       "      <th>1</th>\n",
       "      <td>ATL</td>\n",
       "      <td>0</td>\n",
       "      <td>2006</td>\n",
       "      <td>2005-11-10</td>\n",
       "      <td>36</td>\n",
       "      <td>75</td>\n",
       "      <td>3.872</td>\n",
       "      <td>3</td>\n",
       "      <td>6</td>\n",
       "      <td>1.500</td>\n",
       "      <td>...</td>\n",
       "      <td>119.1</td>\n",
       "      <td>13.0</td>\n",
       "      <td>15.1</td>\n",
       "      <td>160.9</td>\n",
       "      <td>180.8</td>\n",
       "      <td>943</td>\n",
       "      <td>898</td>\n",
       "      <td>14400</td>\n",
       "      <td>102</td>\n",
       "      <td>NaN</td>\n",
       "    </tr>\n",
       "    <tr>\n",
       "      <th>2</th>\n",
       "      <td>ATL</td>\n",
       "      <td>0</td>\n",
       "      <td>2006</td>\n",
       "      <td>2005-11-12</td>\n",
       "      <td>29</td>\n",
       "      <td>72</td>\n",
       "      <td>2.882</td>\n",
       "      <td>7</td>\n",
       "      <td>23</td>\n",
       "      <td>0.929</td>\n",
       "      <td>...</td>\n",
       "      <td>106.1</td>\n",
       "      <td>12.7</td>\n",
       "      <td>13.4</td>\n",
       "      <td>121.1</td>\n",
       "      <td>220.5</td>\n",
       "      <td>801</td>\n",
       "      <td>1153</td>\n",
       "      <td>14400</td>\n",
       "      <td>85</td>\n",
       "      <td>NaN</td>\n",
       "    </tr>\n",
       "    <tr>\n",
       "      <th>3</th>\n",
       "      <td>ATL</td>\n",
       "      <td>0</td>\n",
       "      <td>2006</td>\n",
       "      <td>2005-11-23</td>\n",
       "      <td>40</td>\n",
       "      <td>73</td>\n",
       "      <td>5.605</td>\n",
       "      <td>11</td>\n",
       "      <td>19</td>\n",
       "      <td>2.300</td>\n",
       "      <td>...</td>\n",
       "      <td>110.2</td>\n",
       "      <td>17.3</td>\n",
       "      <td>38.4</td>\n",
       "      <td>229.8</td>\n",
       "      <td>177.1</td>\n",
       "      <td>1132</td>\n",
       "      <td>1415</td>\n",
       "      <td>14401</td>\n",
       "      <td>117</td>\n",
       "      <td>NaN</td>\n",
       "    </tr>\n",
       "    <tr>\n",
       "      <th>4</th>\n",
       "      <td>ATL</td>\n",
       "      <td>0</td>\n",
       "      <td>2006</td>\n",
       "      <td>2005-11-27</td>\n",
       "      <td>32</td>\n",
       "      <td>72</td>\n",
       "      <td>4.232</td>\n",
       "      <td>3</td>\n",
       "      <td>15</td>\n",
       "      <td>0.833</td>\n",
       "      <td>...</td>\n",
       "      <td>111.1</td>\n",
       "      <td>14.4</td>\n",
       "      <td>30.4</td>\n",
       "      <td>117.1</td>\n",
       "      <td>204.7</td>\n",
       "      <td>912</td>\n",
       "      <td>939</td>\n",
       "      <td>14400</td>\n",
       "      <td>77</td>\n",
       "      <td>NaN</td>\n",
       "    </tr>\n",
       "  </tbody>\n",
       "</table>\n",
       "<p>5 rows × 40 columns</p>\n",
       "</div>"
      ],
      "text/plain": [
       "  Home  OneisHome  Season       Date  FG  FGA    FG%  3P  3PA    3P% ...   \\\n",
       "0  ATL          0    2006 2005-11-08  38   73  4.813   7   18  2.333 ...    \n",
       "1  ATL          0    2006 2005-11-10  36   75  3.872   3    6  1.500 ...    \n",
       "2  ATL          0    2006 2005-11-12  29   72  2.882   7   23  0.929 ...    \n",
       "3  ATL          0    2006 2005-11-23  40   73  5.605  11   19  2.300 ...    \n",
       "4  ATL          0    2006 2005-11-27  32   72  4.232   3   15  0.833 ...    \n",
       "\n",
       "    AST%  STL%  BLK%   TOV%   USG%  ORtg  DRtg     SP  Points  Win  \n",
       "0  134.6  23.1  11.4  177.2  173.8   904  1150  14400     103  NaN  \n",
       "1  119.1  13.0  15.1  160.9  180.8   943   898  14400     102  NaN  \n",
       "2  106.1  12.7  13.4  121.1  220.5   801  1153  14400      85  NaN  \n",
       "3  110.2  17.3  38.4  229.8  177.1  1132  1415  14401     117  NaN  \n",
       "4  111.1  14.4  30.4  117.1  204.7   912   939  14400      77  NaN  \n",
       "\n",
       "[5 rows x 40 columns]"
      ]
     },
     "execution_count": 582,
     "metadata": {},
     "output_type": "execute_result"
    }
   ],
   "source": [
    "h.head()"
   ]
  },
  {
   "cell_type": "code",
   "execution_count": 583,
   "metadata": {
    "collapsed": false
   },
   "outputs": [],
   "source": [
    "home_wins = h.groupby(['Home','Season','Win']).sum()"
   ]
  },
  {
   "cell_type": "code",
   "execution_count": 584,
   "metadata": {
    "collapsed": false
   },
   "outputs": [],
   "source": [
    "away_wins = a.groupby(['Away','Season','Win']).count()"
   ]
  },
  {
   "cell_type": "code",
   "execution_count": 585,
   "metadata": {
    "collapsed": false
   },
   "outputs": [
    {
     "data": {
      "text/html": [
       "<div>\n",
       "<table border=\"1\" class=\"dataframe\">\n",
       "  <thead>\n",
       "    <tr style=\"text-align: right;\">\n",
       "      <th></th>\n",
       "      <th></th>\n",
       "      <th>OneisHome</th>\n",
       "      <th>Date</th>\n",
       "      <th>FG</th>\n",
       "      <th>FGA</th>\n",
       "      <th>FG%</th>\n",
       "      <th>3P</th>\n",
       "      <th>3PA</th>\n",
       "      <th>3P%</th>\n",
       "      <th>FT</th>\n",
       "      <th>FTA</th>\n",
       "      <th>...</th>\n",
       "      <th>TRB%</th>\n",
       "      <th>AST%</th>\n",
       "      <th>STL%</th>\n",
       "      <th>BLK%</th>\n",
       "      <th>TOV%</th>\n",
       "      <th>USG%</th>\n",
       "      <th>ORtg</th>\n",
       "      <th>DRtg</th>\n",
       "      <th>SP</th>\n",
       "      <th>Points</th>\n",
       "    </tr>\n",
       "    <tr>\n",
       "      <th>Season</th>\n",
       "      <th>Win</th>\n",
       "      <th></th>\n",
       "      <th></th>\n",
       "      <th></th>\n",
       "      <th></th>\n",
       "      <th></th>\n",
       "      <th></th>\n",
       "      <th></th>\n",
       "      <th></th>\n",
       "      <th></th>\n",
       "      <th></th>\n",
       "      <th></th>\n",
       "      <th></th>\n",
       "      <th></th>\n",
       "      <th></th>\n",
       "      <th></th>\n",
       "      <th></th>\n",
       "      <th></th>\n",
       "      <th></th>\n",
       "      <th></th>\n",
       "      <th></th>\n",
       "      <th></th>\n",
       "    </tr>\n",
       "  </thead>\n",
       "  <tbody>\n",
       "    <tr>\n",
       "      <th rowspan=\"2\" valign=\"top\">2006</th>\n",
       "      <th>False</th>\n",
       "      <td>27</td>\n",
       "      <td>27</td>\n",
       "      <td>27</td>\n",
       "      <td>27</td>\n",
       "      <td>27</td>\n",
       "      <td>27</td>\n",
       "      <td>27</td>\n",
       "      <td>27</td>\n",
       "      <td>27</td>\n",
       "      <td>27</td>\n",
       "      <td>...</td>\n",
       "      <td>27</td>\n",
       "      <td>27</td>\n",
       "      <td>27</td>\n",
       "      <td>27</td>\n",
       "      <td>27</td>\n",
       "      <td>27</td>\n",
       "      <td>27</td>\n",
       "      <td>27</td>\n",
       "      <td>27</td>\n",
       "      <td>27</td>\n",
       "    </tr>\n",
       "    <tr>\n",
       "      <th>True</th>\n",
       "      <td>14</td>\n",
       "      <td>14</td>\n",
       "      <td>14</td>\n",
       "      <td>14</td>\n",
       "      <td>14</td>\n",
       "      <td>14</td>\n",
       "      <td>14</td>\n",
       "      <td>14</td>\n",
       "      <td>14</td>\n",
       "      <td>14</td>\n",
       "      <td>...</td>\n",
       "      <td>14</td>\n",
       "      <td>14</td>\n",
       "      <td>14</td>\n",
       "      <td>14</td>\n",
       "      <td>14</td>\n",
       "      <td>14</td>\n",
       "      <td>14</td>\n",
       "      <td>14</td>\n",
       "      <td>14</td>\n",
       "      <td>14</td>\n",
       "    </tr>\n",
       "    <tr>\n",
       "      <th rowspan=\"2\" valign=\"top\">2007</th>\n",
       "      <th>False</th>\n",
       "      <td>27</td>\n",
       "      <td>27</td>\n",
       "      <td>27</td>\n",
       "      <td>27</td>\n",
       "      <td>27</td>\n",
       "      <td>27</td>\n",
       "      <td>27</td>\n",
       "      <td>27</td>\n",
       "      <td>27</td>\n",
       "      <td>27</td>\n",
       "      <td>...</td>\n",
       "      <td>27</td>\n",
       "      <td>27</td>\n",
       "      <td>27</td>\n",
       "      <td>27</td>\n",
       "      <td>27</td>\n",
       "      <td>27</td>\n",
       "      <td>27</td>\n",
       "      <td>27</td>\n",
       "      <td>27</td>\n",
       "      <td>27</td>\n",
       "    </tr>\n",
       "    <tr>\n",
       "      <th>True</th>\n",
       "      <td>14</td>\n",
       "      <td>14</td>\n",
       "      <td>14</td>\n",
       "      <td>14</td>\n",
       "      <td>14</td>\n",
       "      <td>14</td>\n",
       "      <td>14</td>\n",
       "      <td>14</td>\n",
       "      <td>14</td>\n",
       "      <td>14</td>\n",
       "      <td>...</td>\n",
       "      <td>14</td>\n",
       "      <td>14</td>\n",
       "      <td>14</td>\n",
       "      <td>14</td>\n",
       "      <td>14</td>\n",
       "      <td>14</td>\n",
       "      <td>14</td>\n",
       "      <td>14</td>\n",
       "      <td>14</td>\n",
       "      <td>14</td>\n",
       "    </tr>\n",
       "    <tr>\n",
       "      <th>2008</th>\n",
       "      <th>False</th>\n",
       "      <td>26</td>\n",
       "      <td>26</td>\n",
       "      <td>26</td>\n",
       "      <td>26</td>\n",
       "      <td>26</td>\n",
       "      <td>26</td>\n",
       "      <td>26</td>\n",
       "      <td>26</td>\n",
       "      <td>26</td>\n",
       "      <td>26</td>\n",
       "      <td>...</td>\n",
       "      <td>26</td>\n",
       "      <td>26</td>\n",
       "      <td>26</td>\n",
       "      <td>26</td>\n",
       "      <td>26</td>\n",
       "      <td>26</td>\n",
       "      <td>26</td>\n",
       "      <td>26</td>\n",
       "      <td>26</td>\n",
       "      <td>26</td>\n",
       "    </tr>\n",
       "  </tbody>\n",
       "</table>\n",
       "<p>5 rows × 37 columns</p>\n",
       "</div>"
      ],
      "text/plain": [
       "              OneisHome  Date  FG  FGA  FG%  3P  3PA  3P%  FT  FTA   ...    \\\n",
       "Season Win                                                           ...     \n",
       "2006   False         27    27  27   27   27  27   27   27  27   27   ...     \n",
       "       True          14    14  14   14   14  14   14   14  14   14   ...     \n",
       "2007   False         27    27  27   27   27  27   27   27  27   27   ...     \n",
       "       True          14    14  14   14   14  14   14   14  14   14   ...     \n",
       "2008   False         26    26  26   26   26  26   26   26  26   26   ...     \n",
       "\n",
       "              TRB%  AST%  STL%  BLK%  TOV%  USG%  ORtg  DRtg  SP  Points  \n",
       "Season Win                                                                \n",
       "2006   False    27    27    27    27    27    27    27    27  27      27  \n",
       "       True     14    14    14    14    14    14    14    14  14      14  \n",
       "2007   False    27    27    27    27    27    27    27    27  27      27  \n",
       "       True     14    14    14    14    14    14    14    14  14      14  \n",
       "2008   False    26    26    26    26    26    26    26    26  26      26  \n",
       "\n",
       "[5 rows x 37 columns]"
      ]
     },
     "execution_count": 585,
     "metadata": {},
     "output_type": "execute_result"
    }
   ],
   "source": [
    "away_wins.xs(('ATL'),level='Away').head()"
   ]
  },
  {
   "cell_type": "code",
   "execution_count": 586,
   "metadata": {
    "collapsed": false
   },
   "outputs": [],
   "source": [
    "season_wins = home_wins['OneisHome'] + away_wins['OneisHome']"
   ]
  },
  {
   "cell_type": "code",
   "execution_count": 587,
   "metadata": {
    "collapsed": false
   },
   "outputs": [],
   "source": [
    "Actual_wins = season_wins.xs((True), level='Win')"
   ]
  },
  {
   "cell_type": "code",
   "execution_count": 588,
   "metadata": {
    "collapsed": false
   },
   "outputs": [
    {
     "data": {
      "text/html": [
       "<div>\n",
       "<table border=\"1\" class=\"dataframe\">\n",
       "  <thead>\n",
       "    <tr style=\"text-align: right;\">\n",
       "      <th></th>\n",
       "      <th>Player Name</th>\n",
       "      <th>FG</th>\n",
       "      <th>FGA</th>\n",
       "      <th>FG%</th>\n",
       "      <th>3P</th>\n",
       "      <th>3PA</th>\n",
       "      <th>3P%</th>\n",
       "      <th>FT</th>\n",
       "      <th>FTA</th>\n",
       "      <th>FT%</th>\n",
       "      <th>...</th>\n",
       "      <th>TOV%</th>\n",
       "      <th>USG%</th>\n",
       "      <th>ORtg</th>\n",
       "      <th>DRtg</th>\n",
       "      <th>Away</th>\n",
       "      <th>Home</th>\n",
       "      <th>OneisHome</th>\n",
       "      <th>Date</th>\n",
       "      <th>SP</th>\n",
       "      <th>Season</th>\n",
       "    </tr>\n",
       "  </thead>\n",
       "  <tbody>\n",
       "    <tr>\n",
       "      <th>0</th>\n",
       "      <td>A.J. Price</td>\n",
       "      <td>0</td>\n",
       "      <td>0</td>\n",
       "      <td>0.000</td>\n",
       "      <td>0</td>\n",
       "      <td>0</td>\n",
       "      <td>0.0</td>\n",
       "      <td>0</td>\n",
       "      <td>0</td>\n",
       "      <td>0.0</td>\n",
       "      <td>...</td>\n",
       "      <td>0.0</td>\n",
       "      <td>0.0</td>\n",
       "      <td>0</td>\n",
       "      <td>117</td>\n",
       "      <td>MIA</td>\n",
       "      <td>IND</td>\n",
       "      <td>1</td>\n",
       "      <td>2009-10-30</td>\n",
       "      <td>79</td>\n",
       "      <td>2010</td>\n",
       "    </tr>\n",
       "    <tr>\n",
       "      <th>1</th>\n",
       "      <td>A.J. Price</td>\n",
       "      <td>1</td>\n",
       "      <td>2</td>\n",
       "      <td>0.500</td>\n",
       "      <td>1</td>\n",
       "      <td>2</td>\n",
       "      <td>0.5</td>\n",
       "      <td>0</td>\n",
       "      <td>0</td>\n",
       "      <td>0.0</td>\n",
       "      <td>...</td>\n",
       "      <td>0.0</td>\n",
       "      <td>13.5</td>\n",
       "      <td>166</td>\n",
       "      <td>124</td>\n",
       "      <td>DEN</td>\n",
       "      <td>IND</td>\n",
       "      <td>1</td>\n",
       "      <td>2009-11-03</td>\n",
       "      <td>369</td>\n",
       "      <td>2010</td>\n",
       "    </tr>\n",
       "    <tr>\n",
       "      <th>2</th>\n",
       "      <td>A.J. Price</td>\n",
       "      <td>2</td>\n",
       "      <td>4</td>\n",
       "      <td>0.500</td>\n",
       "      <td>2</td>\n",
       "      <td>4</td>\n",
       "      <td>0.5</td>\n",
       "      <td>0</td>\n",
       "      <td>0</td>\n",
       "      <td>0.0</td>\n",
       "      <td>...</td>\n",
       "      <td>0.0</td>\n",
       "      <td>15.0</td>\n",
       "      <td>150</td>\n",
       "      <td>93</td>\n",
       "      <td>WAS</td>\n",
       "      <td>IND</td>\n",
       "      <td>1</td>\n",
       "      <td>2009-11-06</td>\n",
       "      <td>685</td>\n",
       "      <td>2010</td>\n",
       "    </tr>\n",
       "    <tr>\n",
       "      <th>3</th>\n",
       "      <td>A.J. Price</td>\n",
       "      <td>0</td>\n",
       "      <td>1</td>\n",
       "      <td>0.000</td>\n",
       "      <td>0</td>\n",
       "      <td>0</td>\n",
       "      <td>0.0</td>\n",
       "      <td>1</td>\n",
       "      <td>2</td>\n",
       "      <td>0.5</td>\n",
       "      <td>...</td>\n",
       "      <td>0.0</td>\n",
       "      <td>9.4</td>\n",
       "      <td>87</td>\n",
       "      <td>98</td>\n",
       "      <td>GSW</td>\n",
       "      <td>IND</td>\n",
       "      <td>1</td>\n",
       "      <td>2009-11-11</td>\n",
       "      <td>487</td>\n",
       "      <td>2010</td>\n",
       "    </tr>\n",
       "    <tr>\n",
       "      <th>4</th>\n",
       "      <td>A.J. Price</td>\n",
       "      <td>2</td>\n",
       "      <td>3</td>\n",
       "      <td>0.667</td>\n",
       "      <td>1</td>\n",
       "      <td>2</td>\n",
       "      <td>0.5</td>\n",
       "      <td>1</td>\n",
       "      <td>1</td>\n",
       "      <td>1.0</td>\n",
       "      <td>...</td>\n",
       "      <td>22.5</td>\n",
       "      <td>36.1</td>\n",
       "      <td>115</td>\n",
       "      <td>118</td>\n",
       "      <td>IND</td>\n",
       "      <td>CHA</td>\n",
       "      <td>0</td>\n",
       "      <td>2009-11-22</td>\n",
       "      <td>332</td>\n",
       "      <td>2010</td>\n",
       "    </tr>\n",
       "  </tbody>\n",
       "</table>\n",
       "<p>5 rows × 40 columns</p>\n",
       "</div>"
      ],
      "text/plain": [
       "  Player Name  FG  FGA    FG%  3P  3PA  3P%  FT  FTA  FT%   ...    TOV%  USG%  \\\n",
       "0  A.J. Price   0    0  0.000   0    0  0.0   0    0  0.0   ...     0.0   0.0   \n",
       "1  A.J. Price   1    2  0.500   1    2  0.5   0    0  0.0   ...     0.0  13.5   \n",
       "2  A.J. Price   2    4  0.500   2    4  0.5   0    0  0.0   ...     0.0  15.0   \n",
       "3  A.J. Price   0    1  0.000   0    0  0.0   1    2  0.5   ...     0.0   9.4   \n",
       "4  A.J. Price   2    3  0.667   1    2  0.5   1    1  1.0   ...    22.5  36.1   \n",
       "\n",
       "   ORtg  DRtg  Away  Home  OneisHome       Date   SP  Season  \n",
       "0     0   117   MIA   IND          1 2009-10-30   79    2010  \n",
       "1   166   124   DEN   IND          1 2009-11-03  369    2010  \n",
       "2   150    93   WAS   IND          1 2009-11-06  685    2010  \n",
       "3    87    98   GSW   IND          1 2009-11-11  487    2010  \n",
       "4   115   118   IND   CHA          0 2009-11-22  332    2010  \n",
       "\n",
       "[5 rows x 40 columns]"
      ]
     },
     "execution_count": 588,
     "metadata": {},
     "output_type": "execute_result"
    }
   ],
   "source": [
    "df.head()"
   ]
  },
  {
   "cell_type": "code",
   "execution_count": 589,
   "metadata": {
    "collapsed": false
   },
   "outputs": [],
   "source": [
    "def boost_wins(df,team='ATL',free_throw=1.0):\n",
    "    home = df.groupby(['Home','OneisHome','Season','Date']).sum()\n",
    "    away = df.groupby(['Away','OneisHome','Season','Date']).sum()\n",
    "    away['Points'] = away['FG']*2 + away['3P'] + away['FT']\n",
    "    home['Points'] = home['FG']*2 + home['3P'] + home['FT']\n",
    "    home.loc[(team,1),'Points'] = (home.xs(([team,1]),level=['Home','OneisHome'])['FG']*2 + home.xs(([team,1]),\\\n",
    "        level=['Home','OneisHome'])['3P'] + home.xs(([team,1]),level=['Home','OneisHome'])['FT']+home.xs(([team,1]),\\\n",
    "        level=['Home','OneisHome'])['FTA']*(free_throw-1)).values\n",
    "    away.loc[(team,0),'Points'] = (away.xs(([team,0]),level=['Away','OneisHome'])['FG']*2 + away.xs(([team,0]),\\\n",
    "        level=['Away','OneisHome'])['3P'] + away.xs(([team,0]),level=['Away','OneisHome'])['FT']+away.xs(([team,0]),\\\n",
    "        level=['Away','OneisHome'])['FTA']*(free_throw-1)).values\n",
    "    home['Win'] = home.query('OneisHome == 1')['Points'] > home.query('OneisHome == 0')['Points']\n",
    "    away['Win'] = away.query('OneisHome == 0')['Points'] > away.query('OneisHome == 1')['Points']\n",
    "    h = home.reset_index()\n",
    "    a = away.reset_index()\n",
    "    a = a[a['Away']==team]\n",
    "    h = h[h['Home']==team]\n",
    "    home_wins = h.groupby(['Home','Season','Win']).sum()\n",
    "    away_wins = a.groupby(['Away','Season','Win']).count()\n",
    "    season_wins = home_wins['OneisHome'] + away_wins['OneisHome']\n",
    "    Actual_wins = season_wins.xs((True), level='Win')\n",
    "    return Actual_wins"
   ]
  },
  {
   "cell_type": "code",
   "execution_count": 591,
   "metadata": {
    "collapsed": true
   },
   "outputs": [],
   "source": [
    "team_set = set(df['Home'])"
   ]
  },
  {
   "cell_type": "code",
   "execution_count": 599,
   "metadata": {
    "collapsed": false
   },
   "outputs": [],
   "source": [
    "# np.mean(lst)"
   ]
  },
  {
   "cell_type": "code",
   "execution_count": 594,
   "metadata": {
    "collapsed": false
   },
   "outputs": [],
   "source": [
    "ATL = boost_wins(df, free_throw=1.1)"
   ]
  },
  {
   "cell_type": "code",
   "execution_count": 595,
   "metadata": {
    "collapsed": true
   },
   "outputs": [],
   "source": [
    "ATLnorm = boost_wins(df)"
   ]
  },
  {
   "cell_type": "code",
   "execution_count": 596,
   "metadata": {
    "collapsed": false
   },
   "outputs": [
    {
     "data": {
      "text/plain": [
       "Home  Season\n",
       "ATL   2006      26\n",
       "      2007      30\n",
       "      2008      37\n",
       "      2009      47\n",
       "      2010      53\n",
       "      2011      44\n",
       "      2012      40\n",
       "      2013      44\n",
       "      2014      38\n",
       "      2015      60\n",
       "      2016      48\n",
       "Name: OneisHome, dtype: int64"
      ]
     },
     "execution_count": 596,
     "metadata": {},
     "output_type": "execute_result"
    }
   ],
   "source": [
    "ATLnorm"
   ]
  },
  {
   "cell_type": "code",
   "execution_count": 597,
   "metadata": {
    "collapsed": false
   },
   "outputs": [
    {
     "data": {
      "text/plain": [
       "Home  Season\n",
       "ATL   2006      35\n",
       "      2007      36\n",
       "      2008      42\n",
       "      2009      51\n",
       "      2010      56\n",
       "      2011      44\n",
       "      2012      45\n",
       "      2013      48\n",
       "      2014      42\n",
       "      2015      62\n",
       "      2016      50\n",
       "Name: OneisHome, dtype: int64"
      ]
     },
     "execution_count": 597,
     "metadata": {},
     "output_type": "execute_result"
    }
   ],
   "source": [
    "ATL"
   ]
  },
  {
   "cell_type": "code",
   "execution_count": 598,
   "metadata": {
    "collapsed": false
   },
   "outputs": [
    {
     "data": {
      "text/plain": [
       "4.0"
      ]
     },
     "execution_count": 598,
     "metadata": {},
     "output_type": "execute_result"
    }
   ],
   "source": [
    "np.mean(ATL)-np.mean(ATLnorm)"
   ]
  },
  {
   "cell_type": "code",
   "execution_count": 601,
   "metadata": {
    "collapsed": true
   },
   "outputs": [],
   "source": [
    "def win_diff(df, team, free_throw=1.0):\n",
    "    team_boost = boost_wins(df, team, free_throw)\n",
    "    team_norm = ATLnorm = boost_wins(df, team)\n",
    "    diff = np.round(np.mean(team_boost)-np.mean(team_norm),2)\n",
    "    print team, diff"
   ]
  },
  {
   "cell_type": "code",
   "execution_count": 602,
   "metadata": {
    "collapsed": false
   },
   "outputs": [
    {
     "name": "stdout",
     "output_type": "stream",
     "text": [
      "MIL 3.36\n",
      "GSW 2.82\n",
      "MIN 2.91\n",
      "MIA 3.18\n",
      "ATL 4.0\n",
      "BOS 3.82\n",
      "DET 2.91\n",
      "NYK 3.73\n",
      "DEN 4.18\n",
      "DAL 3.27\n",
      "OKC 4.0\n",
      "POR 2.91\n",
      "NJN 3.86\n",
      "TOR 3.55\n",
      "SEA 4.33\n",
      "CLE 3.82\n",
      "SAS 1.64\n",
      "CHA 3.67\n",
      "UTA 3.91\n",
      "CHI 3.36\n",
      "CHO 2.0\n",
      "HOU 2.82\n",
      "NOH 1.17\n",
      "WAS 4.27\n",
      "LAL 3.73\n",
      "PHI 4.45\n",
      "PHO 2.73\n",
      "NOK 4.0\n",
      "MEM 3.45\n",
      "LAC 3.36\n",
      "SAC 4.18\n",
      "ORL 3.64\n",
      "BRK 2.75\n",
      "IND 4.09\n",
      "NOP 2.67\n"
     ]
    }
   ],
   "source": [
    "lst = []\n",
    "for a_team in team_set:\n",
    "    win_diff(df, a_team, free_throw=1.1)"
   ]
  },
  {
   "cell_type": "code",
   "execution_count": 603,
   "metadata": {
    "collapsed": false
   },
   "outputs": [
    {
     "name": "stdout",
     "output_type": "stream",
     "text": [
      "MIL 0.91\n",
      "GSW 1.45\n",
      "MIN 1.0\n",
      "MIA 1.36\n",
      "ATL 1.45\n",
      "BOS 1.64\n",
      "DET 1.0\n",
      "NYK 0.45\n",
      "DEN 1.0\n",
      "DAL 0.91\n",
      "OKC 1.25\n",
      "POR 0.55\n",
      "NJN 1.0\n",
      "TOR 1.0\n",
      "SEA 0.67\n",
      "CLE 1.18\n",
      "SAS 0.45\n",
      "CHA 1.44\n",
      "UTA 1.18\n",
      "CHI 1.36\n",
      "CHO 0.5\n",
      "HOU 0.82\n",
      "NOH 0.33\n",
      "WAS 1.36\n",
      "LAL 1.55\n",
      "PHI 1.45\n",
      "PHO 0.36\n",
      "NOK 0.5\n",
      "MEM 0.73\n",
      "LAC 0.91\n",
      "SAC 1.18\n",
      "ORL 1.0\n",
      "BRK 1.0\n",
      "IND 1.09\n",
      "NOP 0.67\n"
     ]
    }
   ],
   "source": [
    "for a_team in team_set:\n",
    "    win_diff(df, a_team, free_throw=1.05)"
   ]
  },
  {
   "cell_type": "code",
   "execution_count": 430,
   "metadata": {
    "collapsed": false
   },
   "outputs": [
    {
     "data": {
      "text/plain": [
       "Away  Season  Win  \n",
       "ATL   2006    False    27\n",
       "              True     14\n",
       "      2007    False    27\n",
       "              True     14\n",
       "      2008    False    26\n",
       "              True     15\n",
       "      2009    False    22\n",
       "              True     19\n",
       "      2010    False    19\n",
       "              True     22\n",
       "      2011    False    21\n",
       "              True     20\n",
       "      2012    False    12\n",
       "              True     21\n",
       "      2013    False    19\n",
       "              True     22\n",
       "      2014    False    25\n",
       "              True     16\n",
       "      2015    False    14\n",
       "              True     27\n",
       "      2016    False    20\n",
       "              True     21\n",
       "Name: OneisHome, dtype: int64"
      ]
     },
     "execution_count": 430,
     "metadata": {},
     "output_type": "execute_result"
    }
   ],
   "source": [
    "away_wins['OneisHome']"
   ]
  }
 ],
 "metadata": {
  "kernelspec": {
   "display_name": "Python 2",
   "language": "python",
   "name": "python2"
  },
  "language_info": {
   "codemirror_mode": {
    "name": "ipython",
    "version": 2
   },
   "file_extension": ".py",
   "mimetype": "text/x-python",
   "name": "python",
   "nbconvert_exporter": "python",
   "pygments_lexer": "ipython2",
   "version": "2.7.11"
  }
 },
 "nbformat": 4,
 "nbformat_minor": 0
}
