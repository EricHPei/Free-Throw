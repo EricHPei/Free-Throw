{
 "cells": [
  {
   "cell_type": "code",
   "execution_count": 3,
   "metadata": {
    "collapsed": false
   },
   "outputs": [],
   "source": [
    "import requests\n",
    "from bs4 import BeautifulSoup\n",
    "from datetime import date, timedelta as td\n",
    "import re\n",
    "import time\n",
    "import os"
   ]
  },
  {
   "cell_type": "code",
   "execution_count": 4,
   "metadata": {
    "collapsed": true
   },
   "outputs": [],
   "source": [
    "base_url = 'http://espn.go.com/nba/attendance/_/year/'\n",
    "response = requests.get(base_url)\n",
    "soup = BeautifulSoup(response.content, 'lxml')"
   ]
  },
  {
   "cell_type": "code",
   "execution_count": 11,
   "metadata": {
    "collapsed": true
   },
   "outputs": [],
   "source": [
    "years = [num for num in xrange(2009,2017)]"
   ]
  },
  {
   "cell_type": "code",
   "execution_count": 12,
   "metadata": {
    "collapsed": false
   },
   "outputs": [
    {
     "data": {
      "text/plain": [
       "[2009, 2010, 2011, 2012, 2013, 2014, 2015, 2016]"
      ]
     },
     "execution_count": 12,
     "metadata": {},
     "output_type": "execute_result"
    }
   ],
   "source": [
    "years"
   ]
  },
  {
   "cell_type": "code",
   "execution_count": 14,
   "metadata": {
    "collapsed": false
   },
   "outputs": [],
   "source": [
    "urls = [base_url + str(year) for year in years]"
   ]
  },
  {
   "cell_type": "code",
   "execution_count": 15,
   "metadata": {
    "collapsed": false
   },
   "outputs": [
    {
     "data": {
      "text/plain": [
       "['http://espn.go.com/nba/attendance/_/year/2009',\n",
       " 'http://espn.go.com/nba/attendance/_/year/2010',\n",
       " 'http://espn.go.com/nba/attendance/_/year/2011',\n",
       " 'http://espn.go.com/nba/attendance/_/year/2012',\n",
       " 'http://espn.go.com/nba/attendance/_/year/2013',\n",
       " 'http://espn.go.com/nba/attendance/_/year/2014',\n",
       " 'http://espn.go.com/nba/attendance/_/year/2015',\n",
       " 'http://espn.go.com/nba/attendance/_/year/2016']"
      ]
     },
     "execution_count": 15,
     "metadata": {},
     "output_type": "execute_result"
    }
   ],
   "source": [
    "urls"
   ]
  },
  {
   "cell_type": "code",
   "execution_count": 16,
   "metadata": {
    "collapsed": true
   },
   "outputs": [],
   "source": [
    "responses = [requests.get(url) for url in urls]"
   ]
  },
  {
   "cell_type": "code",
   "execution_count": 21,
   "metadata": {
    "collapsed": false
   },
   "outputs": [],
   "source": [
    "soups = [BeautifulSoup(response.content, 'lxml') for response in responses]"
   ]
  },
  {
   "cell_type": "code",
   "execution_count": 65,
   "metadata": {
    "collapsed": false
   },
   "outputs": [],
   "source": [
    "home_team = [soup.select('table.tablehead tr td.sortcell')[idx].contents[0].encode('ascii') for soup in soups for idx in xrange(30)]"
   ]
  },
  {
   "cell_type": "code",
   "execution_count": 66,
   "metadata": {
    "collapsed": false
   },
   "outputs": [
    {
     "data": {
      "text/plain": [
       "['21,877',\n",
       " '21,197',\n",
       " '20,524',\n",
       " '20,042',\n",
       " '20,010',\n",
       " '19,903',\n",
       " '19,287',\n",
       " '18,997',\n",
       " '18,942',\n",
       " '18,773',\n",
       " '18,693',\n",
       " '18,624',\n",
       " '18,422',\n",
       " '18,269',\n",
       " '18,229',\n",
       " '17,482',\n",
       " '17,223',\n",
       " '17,043',\n",
       " '16,968',\n",
       " '16,748',\n",
       " '16,612',\n",
       " '16,170',\n",
       " '15,802',\n",
       " '15,389',\n",
       " '15,147',\n",
       " '14,526',\n",
       " '14,505',\n",
       " '14,182',\n",
       " '12,745',\n",
       " '12,571',\n",
       " '20,725',\n",
       " '20,562',\n",
       " '20,497',\n",
       " '19,994',\n",
       " '19,501',\n",
       " '19,378',\n",
       " '18,997',\n",
       " '18,751',\n",
       " '18,169',\n",
       " '18,089',\n",
       " '18,027',\n",
       " '18,003',\n",
       " '17,995',\n",
       " '17,897',\n",
       " '17,730',\n",
       " '17,648',\n",
       " '17,461',\n",
       " '16,545',\n",
       " '16,528',\n",
       " '16,343',\n",
       " '16,204',\n",
       " '15,824',\n",
       " '15,130',\n",
       " '15,108',\n",
       " '15,101',\n",
       " '14,224',\n",
       " '14,202',\n",
       " '13,485',\n",
       " '13,254',\n",
       " '13,103',\n",
       " '21,791',\n",
       " '20,510',\n",
       " '20,112',\n",
       " '20,101',\n",
       " '19,778',\n",
       " '19,728',\n",
       " '19,511',\n",
       " '18,997',\n",
       " '18,972',\n",
       " '18,692',\n",
       " '18,624',\n",
       " '18,314',\n",
       " '18,148',\n",
       " '17,742',\n",
       " '17,567',\n",
       " '16,901',\n",
       " '16,791',\n",
       " '16,660',\n",
       " '16,566',\n",
       " '16,191',\n",
       " '15,846',\n",
       " '15,648',\n",
       " '15,412',\n",
       " '15,242',\n",
       " '14,751',\n",
       " '14,709',\n",
       " '14,650',\n",
       " '14,179',\n",
       " '13,890',\n",
       " '13,538',\n",
       " '22,161',\n",
       " '20,496',\n",
       " '20,334',\n",
       " '19,935',\n",
       " '19,763',\n",
       " '19,306',\n",
       " '19,219',\n",
       " '18,997',\n",
       " '18,896',\n",
       " '18,857',\n",
       " '18,624',\n",
       " '18,396',\n",
       " '18,203',\n",
       " '17,502',\n",
       " '17,490',\n",
       " '17,029',\n",
       " '16,835',\n",
       " '16,728',\n",
       " '15,926',\n",
       " '15,704',\n",
       " '15,597',\n",
       " '15,363',\n",
       " '15,199',\n",
       " '15,109',\n",
       " '14,757',\n",
       " '14,718',\n",
       " '14,508',\n",
       " '14,413',\n",
       " '14,168',\n",
       " '13,961',\n",
       " '21,876',\n",
       " '20,036',\n",
       " '19,982',\n",
       " '19,829',\n",
       " '19,373',\n",
       " '19,226',\n",
       " '19,033',\n",
       " '18,997',\n",
       " '18,680',\n",
       " '18,624',\n",
       " '18,431',\n",
       " '18,203',\n",
       " '18,144',\n",
       " '17,819',\n",
       " '17,595',\n",
       " '17,187',\n",
       " '16,717',\n",
       " '16,672',\n",
       " '16,624',\n",
       " '16,343',\n",
       " '16,340',\n",
       " '16,192',\n",
       " '15,436',\n",
       " '15,324',\n",
       " '15,269',\n",
       " '15,125',\n",
       " '15,035',\n",
       " '14,782',\n",
       " '13,803',\n",
       " '13,749',\n",
       " '21,716',\n",
       " '19,950',\n",
       " '19,812',\n",
       " '19,781',\n",
       " '19,746',\n",
       " '19,596',\n",
       " '19,212',\n",
       " '18,828',\n",
       " '18,415',\n",
       " '18,252',\n",
       " '18,203',\n",
       " '18,175',\n",
       " '18,123',\n",
       " '18,107',\n",
       " '17,501',\n",
       " '17,329',\n",
       " '17,251',\n",
       " '17,026',\n",
       " '16,899',\n",
       " '16,718',\n",
       " '16,390',\n",
       " '16,291',\n",
       " '16,245',\n",
       " '15,871',\n",
       " '15,518',\n",
       " '15,005',\n",
       " '14,564',\n",
       " '14,339',\n",
       " '13,869',\n",
       " '13,487',\n",
       " '21,343',\n",
       " '20,562',\n",
       " '20,187',\n",
       " '19,812',\n",
       " '19,751',\n",
       " '19,712',\n",
       " '19,596',\n",
       " '19,554',\n",
       " '19,168',\n",
       " '18,830',\n",
       " '18,737',\n",
       " '18,606',\n",
       " '18,238',\n",
       " '18,229',\n",
       " '18,203',\n",
       " '17,593',\n",
       " '17,412',\n",
       " '17,329',\n",
       " '17,192',\n",
       " '17,037',\n",
       " '16,923',\n",
       " '16,864',\n",
       " '16,785',\n",
       " '16,677',\n",
       " '16,586',\n",
       " '15,266',\n",
       " '14,907',\n",
       " '14,700',\n",
       " '14,528',\n",
       " '13,940',\n",
       " '21,820',\n",
       " '20,562',\n",
       " '20,143',\n",
       " '19,825',\n",
       " '19,812',\n",
       " '19,740',\n",
       " '19,596',\n",
       " '19,367',\n",
       " '19,304',\n",
       " '19,192',\n",
       " '18,997',\n",
       " '18,449',\n",
       " '18,270',\n",
       " '18,203',\n",
       " '17,981',\n",
       " '17,693',\n",
       " '17,543',\n",
       " '17,485',\n",
       " '17,256',\n",
       " '17,107',\n",
       " '16,847',\n",
       " '16,832',\n",
       " '16,793',\n",
       " '16,697',\n",
       " '16,515',\n",
       " '15,166',\n",
       " '15,125',\n",
       " '14,881',\n",
       " '14,175',\n",
       " '14,095']"
      ]
     },
     "execution_count": 66,
     "metadata": {},
     "output_type": "execute_result"
    }
   ],
   "source": [
    "home_team"
   ]
  },
  {
   "cell_type": "code",
   "execution_count": 188,
   "metadata": {
    "collapsed": false
   },
   "outputs": [],
   "source": [
    "odds = [soup.findAll(\"tr\", { \"class\" : \"oddrow\" }) for soup in soups]\n",
    "evens = [soup.findAll(\"tr\", { \"class\" : \"evenrow\" }) for soup in soups]"
   ]
  },
  {
   "cell_type": "code",
   "execution_count": 222,
   "metadata": {
    "collapsed": false
   },
   "outputs": [],
   "source": [
    "soupodd = [BeautifulSoup(str(odd)) for odd in odds]\n",
    "soupeven = [BeautifulSoup(str(even)) for even in evens]"
   ]
  },
  {
   "cell_type": "code",
   "execution_count": 223,
   "metadata": {
    "collapsed": false
   },
   "outputs": [],
   "source": [
    "even_teams = [soup.select('tr td a[href]')[idx].contents[0].encode('ascii') for soup in soupeven for idx in xrange(15)]\n",
    "odd_teams = [soup.select('tr td a[href]')[idx].contents[0].encode('ascii') for soup in soupodd for idx in xrange(15)]"
   ]
  },
  {
   "cell_type": "code",
   "execution_count": 226,
   "metadata": {
    "collapsed": false
   },
   "outputs": [],
   "source": [
    "all_teams = [None] * (len(odd_teams) + len(even_teams))\n",
    "all_teams[::2] = odd_teams\n",
    "all_teams[1::2] = even_teams"
   ]
  },
  {
   "cell_type": "code",
   "execution_count": 303,
   "metadata": {
    "collapsed": false
   },
   "outputs": [
    {
     "data": {
      "text/plain": [
       "['Pistons', 'Bulls', 'Trail Blazers', 'Mavericks', 'Cavaliers']"
      ]
     },
     "execution_count": 303,
     "metadata": {},
     "output_type": "execute_result"
    }
   ],
   "source": [
    "all_teams[:5]"
   ]
  },
  {
   "cell_type": "code",
   "execution_count": 320,
   "metadata": {
    "collapsed": true
   },
   "outputs": [],
   "source": [
    "def add_year(lst):\n",
    "    team_year = []\n",
    "    n = len(lst)\n",
    "    for i in xrange(n):\n",
    "        team_year.append((lst[i], 2009+(i/30)))\n",
    "    return team_year"
   ]
  },
  {
   "cell_type": "code",
   "execution_count": 322,
   "metadata": {
    "collapsed": false
   },
   "outputs": [],
   "source": [
    "team_year = add_year(all_teams)"
   ]
  },
  {
   "cell_type": "code",
   "execution_count": 323,
   "metadata": {
    "collapsed": true
   },
   "outputs": [],
   "source": [
    "team_year_attend = [team_year[idx] + (home_team[idx],) for idx in xrange(len(team_year))]"
   ]
  },
  {
   "cell_type": "code",
   "execution_count": 324,
   "metadata": {
    "collapsed": false
   },
   "outputs": [
    {
     "data": {
      "text/plain": [
       "[('Pistons', 2009, '21,877'),\n",
       " ('Bulls', 2009, '21,197'),\n",
       " ('Trail Blazers', 2009, '20,524'),\n",
       " ('Mavericks', 2009, '20,042'),\n",
       " ('Cavaliers', 2009, '20,010'),\n",
       " ('Jazz', 2009, '19,903'),\n",
       " ('NY Knicks', 2009, '19,287'),\n",
       " ('Lakers', 2009, '18,997'),\n",
       " ('Warriors', 2009, '18,942'),\n",
       " ('Raptors', 2009, '18,773'),\n",
       " ('Thunder', 2009, '18,693'),\n",
       " ('Celtics', 2009, '18,624'),\n",
       " ('Suns', 2009, '18,422'),\n",
       " ('Spurs', 2009, '18,269'),\n",
       " ('Heat', 2009, '18,229'),\n",
       " ('Rockets', 2009, '17,482'),\n",
       " ('Nuggets', 2009, '17,223'),\n",
       " ('Magic', 2009, '17,043'),\n",
       " ('Pelicans', 2009, '16,968'),\n",
       " ('Hawks', 2009, '16,748'),\n",
       " ('Wizards', 2009, '16,612'),\n",
       " ('Clippers', 2009, '16,170'),\n",
       " ('76ers', 2009, '15,802'),\n",
       " ('Bucks', 2009, '15,389'),\n",
       " ('Nets', 2009, '15,147'),\n",
       " ('Hornets', 2009, '14,526'),\n",
       " ('Timberwolves', 2009, '14,505'),\n",
       " ('Pacers', 2009, '14,182'),\n",
       " ('Grizzlies', 2009, '12,745'),\n",
       " ('Kings', 2009, '12,571'),\n",
       " ('Bulls', 2010, '20,725'),\n",
       " ('Cavaliers', 2010, '20,562'),\n",
       " ('Trail Blazers', 2010, '20,497'),\n",
       " ('Mavericks', 2010, '19,994'),\n",
       " ('NY Knicks', 2010, '19,501'),\n",
       " ('Jazz', 2010, '19,378'),\n",
       " ('Lakers', 2010, '18,997'),\n",
       " ('Pistons', 2010, '18,751'),\n",
       " ('Celtics', 2010, '18,169'),\n",
       " ('Spurs', 2010, '18,089'),\n",
       " ('Warriors', 2010, '18,027'),\n",
       " ('Thunder', 2010, '18,003'),\n",
       " ('Nuggets', 2010, '17,995'),\n",
       " ('Raptors', 2010, '17,897'),\n",
       " ('Heat', 2010, '17,730'),\n",
       " ('Suns', 2010, '17,648'),\n",
       " ('Magic', 2010, '17,461'),\n",
       " ('Hawks', 2010, '16,545'),\n",
       " ('Rockets', 2010, '16,528'),\n",
       " ('Clippers', 2010, '16,343'),\n",
       " ('Wizards', 2010, '16,204'),\n",
       " ('Hornets', 2010, '15,824'),\n",
       " ('Pelicans', 2010, '15,130'),\n",
       " ('Bucks', 2010, '15,108'),\n",
       " ('Timberwolves', 2010, '15,101'),\n",
       " ('76ers', 2010, '14,224'),\n",
       " ('Pacers', 2010, '14,202'),\n",
       " ('Grizzlies', 2010, '13,485'),\n",
       " ('Kings', 2010, '13,254'),\n",
       " ('Nets', 2010, '13,103'),\n",
       " ('Bulls', 2011, '21,791'),\n",
       " ('Trail Blazers', 2011, '20,510'),\n",
       " ('Cavaliers', 2011, '20,112'),\n",
       " ('Mavericks', 2011, '20,101'),\n",
       " ('Heat', 2011, '19,778'),\n",
       " ('NY Knicks', 2011, '19,728'),\n",
       " ('Jazz', 2011, '19,511'),\n",
       " ('Lakers', 2011, '18,997'),\n",
       " ('Magic', 2011, '18,972'),\n",
       " ('Warriors', 2011, '18,692'),\n",
       " ('Celtics', 2011, '18,624'),\n",
       " ('Spurs', 2011, '18,314'),\n",
       " ('Thunder', 2011, '18,148'),\n",
       " ('Clippers', 2011, '17,742'),\n",
       " ('Suns', 2011, '17,567'),\n",
       " ('Nuggets', 2011, '16,901'),\n",
       " ('Wizards', 2011, '16,791'),\n",
       " ('Pistons', 2011, '16,660'),\n",
       " ('Raptors', 2011, '16,566'),\n",
       " ('Rockets', 2011, '16,191'),\n",
       " ('Hornets', 2011, '15,846'),\n",
       " ('Hawks', 2011, '15,648'),\n",
       " ('Bucks', 2011, '15,412'),\n",
       " ('Timberwolves', 2011, '15,242'),\n",
       " ('76ers', 2011, '14,751'),\n",
       " ('Pelicans', 2011, '14,709'),\n",
       " ('Grizzlies', 2011, '14,650'),\n",
       " ('Nets', 2011, '14,179'),\n",
       " ('Kings', 2011, '13,890'),\n",
       " ('Pacers', 2011, '13,538'),\n",
       " ('Bulls', 2012, '22,161'),\n",
       " ('Trail Blazers', 2012, '20,496'),\n",
       " ('Mavericks', 2012, '20,334'),\n",
       " ('Heat', 2012, '19,935'),\n",
       " ('NY Knicks', 2012, '19,763'),\n",
       " ('Jazz', 2012, '19,306'),\n",
       " ('Clippers', 2012, '19,219'),\n",
       " ('Lakers', 2012, '18,997'),\n",
       " ('Magic', 2012, '18,896'),\n",
       " ('Warriors', 2012, '18,857'),\n",
       " ('Celtics', 2012, '18,624'),\n",
       " ('Spurs', 2012, '18,396'),\n",
       " ('Thunder', 2012, '18,203'),\n",
       " ('76ers', 2012, '17,502'),\n",
       " ('Timberwolves', 2012, '17,490'),\n",
       " ('Nuggets', 2012, '17,029'),\n",
       " ('Raptors', 2012, '16,835'),\n",
       " ('Wizards', 2012, '16,728'),\n",
       " ('Cavaliers', 2012, '15,926'),\n",
       " ('Grizzlies', 2012, '15,704'),\n",
       " ('Suns', 2012, '15,597'),\n",
       " ('Rockets', 2012, '15,363'),\n",
       " ('Hawks', 2012, '15,199'),\n",
       " ('Pelicans', 2012, '15,109'),\n",
       " ('Hornets', 2012, '14,757'),\n",
       " ('Bucks', 2012, '14,718'),\n",
       " ('Kings', 2012, '14,508'),\n",
       " ('Pistons', 2012, '14,413'),\n",
       " ('Pacers', 2012, '14,168'),\n",
       " ('Nets', 2012, '13,961'),\n",
       " ('Bulls', 2013, '21,876'),\n",
       " ('Mavericks', 2013, '20,036'),\n",
       " ('Heat', 2013, '19,982'),\n",
       " ('Trail Blazers', 2013, '19,829'),\n",
       " ('Warriors', 2013, '19,373'),\n",
       " ('Clippers', 2013, '19,226'),\n",
       " ('NY Knicks', 2013, '19,033'),\n",
       " ('Lakers', 2013, '18,997'),\n",
       " ('Jazz', 2013, '18,680'),\n",
       " ('Celtics', 2013, '18,624'),\n",
       " ('Spurs', 2013, '18,431'),\n",
       " ('Thunder', 2013, '18,203'),\n",
       " ('Raptors', 2013, '18,144'),\n",
       " ('Nuggets', 2013, '17,819'),\n",
       " ('Magic', 2013, '17,595'),\n",
       " ('Nets', 2013, '17,187'),\n",
       " ('76ers', 2013, '16,717'),\n",
       " ('Rockets', 2013, '16,672'),\n",
       " ('Grizzlies', 2013, '16,624'),\n",
       " ('Wizards', 2013, '16,343'),\n",
       " ('Timberwolves', 2013, '16,340'),\n",
       " ('Cavaliers', 2013, '16,192'),\n",
       " ('Suns', 2013, '15,436'),\n",
       " ('Hornets', 2013, '15,324'),\n",
       " ('Pacers', 2013, '15,269'),\n",
       " ('Hawks', 2013, '15,125'),\n",
       " ('Bucks', 2013, '15,035'),\n",
       " ('Pistons', 2013, '14,782'),\n",
       " ('Pelicans', 2013, '13,803'),\n",
       " ('Kings', 2013, '13,749'),\n",
       " ('Bulls', 2014, '21,716'),\n",
       " ('Mavericks', 2014, '19,950'),\n",
       " ('NY Knicks', 2014, '19,812'),\n",
       " ('Heat', 2014, '19,781'),\n",
       " ('Trail Blazers', 2014, '19,746'),\n",
       " ('Warriors', 2014, '19,596'),\n",
       " ('Clippers', 2014, '19,212'),\n",
       " ('Lakers', 2014, '18,828'),\n",
       " ('Spurs', 2014, '18,415'),\n",
       " ('Raptors', 2014, '18,252'),\n",
       " ('Thunder', 2014, '18,203'),\n",
       " ('Jazz', 2014, '18,175'),\n",
       " ('Rockets', 2014, '18,123'),\n",
       " ('Celtics', 2014, '18,107'),\n",
       " ('Pacers', 2014, '17,501'),\n",
       " ('Cavaliers', 2014, '17,329'),\n",
       " ('Nets', 2014, '17,251'),\n",
       " ('Wizards', 2014, '17,026'),\n",
       " ('Nuggets', 2014, '16,899'),\n",
       " ('Grizzlies', 2014, '16,718'),\n",
       " ('Pelicans', 2014, '16,390'),\n",
       " ('Kings', 2014, '16,291'),\n",
       " ('Magic', 2014, '16,245'),\n",
       " ('Suns', 2014, '15,871'),\n",
       " ('Hornets', 2014, '15,518'),\n",
       " ('Pistons', 2014, '15,005'),\n",
       " ('Timberwolves', 2014, '14,564'),\n",
       " ('Hawks', 2014, '14,339'),\n",
       " ('76ers', 2014, '13,869'),\n",
       " ('Bucks', 2014, '13,487'),\n",
       " ('Bulls', 2015, '21,343'),\n",
       " ('Cavaliers', 2015, '20,562'),\n",
       " ('Mavericks', 2015, '20,187'),\n",
       " ('NY Knicks', 2015, '19,812'),\n",
       " ('Raptors', 2015, '19,751'),\n",
       " ('Heat', 2015, '19,712'),\n",
       " ('Warriors', 2015, '19,596'),\n",
       " ('Trail Blazers', 2015, '19,554'),\n",
       " ('Clippers', 2015, '19,168'),\n",
       " ('Jazz', 2015, '18,830'),\n",
       " ('Lakers', 2015, '18,737'),\n",
       " ('Spurs', 2015, '18,606'),\n",
       " ('Wizards', 2015, '18,238'),\n",
       " ('Rockets', 2015, '18,229'),\n",
       " ('Thunder', 2015, '18,203'),\n",
       " ('Celtics', 2015, '17,593'),\n",
       " ('Hawks', 2015, '17,412'),\n",
       " ('Grizzlies', 2015, '17,329'),\n",
       " ('Hornets', 2015, '17,192'),\n",
       " ('Nets', 2015, '17,037'),\n",
       " ('Suns', 2015, '16,923'),\n",
       " ('Pacers', 2015, '16,864'),\n",
       " ('Magic', 2015, '16,785'),\n",
       " ('Pelicans', 2015, '16,677'),\n",
       " ('Kings', 2015, '16,586'),\n",
       " ('Pistons', 2015, '15,266'),\n",
       " ('Bucks', 2015, '14,907'),\n",
       " ('Nuggets', 2015, '14,700'),\n",
       " ('Timberwolves', 2015, '14,528'),\n",
       " ('76ers', 2015, '13,940'),\n",
       " ('Bulls', 2016, '21,820'),\n",
       " ('Cavaliers', 2016, '20,562'),\n",
       " ('Mavericks', 2016, '20,143'),\n",
       " ('Raptors', 2016, '19,825'),\n",
       " ('NY Knicks', 2016, '19,812'),\n",
       " ('Heat', 2016, '19,740'),\n",
       " ('Warriors', 2016, '19,596'),\n",
       " ('Trail Blazers', 2016, '19,367'),\n",
       " ('Jazz', 2016, '19,304'),\n",
       " ('Clippers', 2016, '19,192'),\n",
       " ('Lakers', 2016, '18,997'),\n",
       " ('Spurs', 2016, '18,449'),\n",
       " ('Celtics', 2016, '18,270'),\n",
       " ('Thunder', 2016, '18,203'),\n",
       " ('Rockets', 2016, '17,981'),\n",
       " ('Wizards', 2016, '17,693'),\n",
       " ('Magic', 2016, '17,543'),\n",
       " ('Hornets', 2016, '17,485'),\n",
       " ('Kings', 2016, '17,256'),\n",
       " ('Suns', 2016, '17,107'),\n",
       " ('Pacers', 2016, '16,847'),\n",
       " ('Hawks', 2016, '16,832'),\n",
       " ('Pelicans', 2016, '16,793'),\n",
       " ('Grizzlies', 2016, '16,697'),\n",
       " ('Pistons', 2016, '16,515'),\n",
       " ('Bucks', 2016, '15,166'),\n",
       " ('Nets', 2016, '15,125'),\n",
       " ('76ers', 2016, '14,881'),\n",
       " ('Timberwolves', 2016, '14,175'),\n",
       " ('Nuggets', 2016, '14,095')]"
      ]
     },
     "execution_count": 324,
     "metadata": {},
     "output_type": "execute_result"
    }
   ],
   "source": [
    "team_year_attend"
   ]
  },
  {
   "cell_type": "markdown",
   "metadata": {},
   "source": [
    "## Basketball Reference"
   ]
  },
  {
   "cell_type": "code",
   "execution_count": 337,
   "metadata": {
    "collapsed": true
   },
   "outputs": [],
   "source": [
    "NBA2016_URL = 'http://www.basketball-reference.com/leagues/NBA_2016.html'\n",
    "response = requests.get(NBA2016_URL)\n",
    "soup = BeautifulSoup(response.content, 'lxml')"
   ]
  },
  {
   "cell_type": "code",
   "execution_count": 344,
   "metadata": {
    "collapsed": false
   },
   "outputs": [],
   "source": [
    "links = [soup.select('table.wide_table tbody tr td a[href]')[idx] for idx in xrange(30,60)]"
   ]
  },
  {
   "cell_type": "code",
   "execution_count": 345,
   "metadata": {
    "collapsed": false
   },
   "outputs": [
    {
     "data": {
      "text/plain": [
       "30"
      ]
     },
     "execution_count": 345,
     "metadata": {},
     "output_type": "execute_result"
    }
   ],
   "source": [
    "add_ons = [link['href'] for link in links]\n",
    "len(add_ons)"
   ]
  },
  {
   "cell_type": "code",
   "execution_count": 366,
   "metadata": {
    "collapsed": false
   },
   "outputs": [
    {
     "data": {
      "text/plain": [
       "['/teams/CLE/2016.html',\n",
       " '/teams/TOR/2016.html',\n",
       " '/teams/MIA/2016.html',\n",
       " '/teams/ATL/2016.html',\n",
       " '/teams/BOS/2016.html']"
      ]
     },
     "execution_count": 366,
     "metadata": {},
     "output_type": "execute_result"
    }
   ],
   "source": [
    "add_ons[:5]"
   ]
  },
  {
   "cell_type": "code",
   "execution_count": 347,
   "metadata": {
    "collapsed": false
   },
   "outputs": [],
   "source": [
    "basketball_base = 'http://www.basketball-reference.com'\n",
    "full_links = [basketball_base + add_on for add_on in add_ons]"
   ]
  },
  {
   "cell_type": "code",
   "execution_count": 348,
   "metadata": {
    "collapsed": true
   },
   "outputs": [],
   "source": [
    "responses = [requests.get(link) for link in full_links]"
   ]
  },
  {
   "cell_type": "code",
   "execution_count": 349,
   "metadata": {
    "collapsed": false
   },
   "outputs": [],
   "source": [
    "soups = [BeautifulSoup(response.content, 'lxml') for response in responses]"
   ]
  },
  {
   "cell_type": "code",
   "execution_count": 359,
   "metadata": {
    "collapsed": true
   },
   "outputs": [],
   "source": [
    "team_averages = [soup.select('tr.stat_average td') for soup in soups]"
   ]
  },
  {
   "cell_type": "code",
   "execution_count": 360,
   "metadata": {
    "collapsed": false,
    "scrolled": true
   },
   "outputs": [
    {
     "data": {
      "text/plain": [
       "'1783'"
      ]
     },
     "execution_count": 360,
     "metadata": {},
     "output_type": "execute_result"
    }
   ],
   "source": [
    "team_averages[0][17].contents[0].encode('ascii')"
   ]
  },
  {
   "cell_type": "code",
   "execution_count": 361,
   "metadata": {
    "collapsed": true
   },
   "outputs": [],
   "source": [
    "FTA = [team_averages[idx][17].contents[0].encode('ascii') for idx in xrange(len(team_averages))]"
   ]
  },
  {
   "cell_type": "code",
   "execution_count": 365,
   "metadata": {
    "collapsed": false
   },
   "outputs": [
    {
     "data": {
      "text/plain": [
       "['1783', '2190', '1889', '1638', '1929']"
      ]
     },
     "execution_count": 365,
     "metadata": {},
     "output_type": "execute_result"
    }
   ],
   "source": [
    "FTA[:5]"
   ]
  },
  {
   "cell_type": "markdown",
   "metadata": {},
   "source": [
    "## Now for every year"
   ]
  },
  {
   "cell_type": "code",
   "execution_count": 367,
   "metadata": {
    "collapsed": true
   },
   "outputs": [],
   "source": [
    "NBA_URLS = ['http://www.basketball-reference.com/leagues/NBA_' + str(year) + '.html' for year in xrange(2009,2017)]"
   ]
  },
  {
   "cell_type": "code",
   "execution_count": 368,
   "metadata": {
    "collapsed": false
   },
   "outputs": [
    {
     "data": {
      "text/plain": [
       "['http://www.basketball-reference.com/leagues/NBA_2009.html',\n",
       " 'http://www.basketball-reference.com/leagues/NBA_2010.html',\n",
       " 'http://www.basketball-reference.com/leagues/NBA_2011.html',\n",
       " 'http://www.basketball-reference.com/leagues/NBA_2012.html',\n",
       " 'http://www.basketball-reference.com/leagues/NBA_2013.html',\n",
       " 'http://www.basketball-reference.com/leagues/NBA_2014.html',\n",
       " 'http://www.basketball-reference.com/leagues/NBA_2015.html',\n",
       " 'http://www.basketball-reference.com/leagues/NBA_2016.html']"
      ]
     },
     "execution_count": 368,
     "metadata": {},
     "output_type": "execute_result"
    }
   ],
   "source": [
    "NBA_URLS"
   ]
  },
  {
   "cell_type": "code",
   "execution_count": 369,
   "metadata": {
    "collapsed": true
   },
   "outputs": [],
   "source": [
    "responses = [requests.get(NBA_URL) for NBA_URL in NBA_URLS]\n",
    "soups = [BeautifulSoup(response.content, 'lxml') for response in responses]"
   ]
  },
  {
   "cell_type": "code",
   "execution_count": 373,
   "metadata": {
    "collapsed": false
   },
   "outputs": [
    {
     "data": {
      "text/plain": [
       "8"
      ]
     },
     "execution_count": 373,
     "metadata": {},
     "output_type": "execute_result"
    }
   ],
   "source": [
    "len(soups)"
   ]
  },
  {
   "cell_type": "code",
   "execution_count": 378,
   "metadata": {
    "collapsed": false
   },
   "outputs": [],
   "source": [
    "links = [soup.select('table.wide_table tbody tr td a[href]')[idx] for soup in soups for idx in xrange(0,30)]"
   ]
  },
  {
   "cell_type": "code",
   "execution_count": 391,
   "metadata": {
    "collapsed": false
   },
   "outputs": [],
   "source": [
    "teams = [soup.select('table.wide_table tbody tr td a[href]')[idx].contents[0].encode('ascii') for soup in soups for idx in xrange(0,30)]"
   ]
  },
  {
   "cell_type": "code",
   "execution_count": 458,
   "metadata": {
    "collapsed": false
   },
   "outputs": [],
   "source": [
    "wins = [soup.select('table#team_misc tbody tr td')[idx].contents[0].encode('ascii') for soup in soups for idx in xrange(0,30)]"
   ]
  },
  {
   "cell_type": "code",
   "execution_count": 466,
   "metadata": {
    "collapsed": false
   },
   "outputs": [],
   "source": [
    "lst_wins = [wins[1+30*i] for i in xrange(240)]"
   ]
  },
  {
   "cell_type": "code",
   "execution_count": 467,
   "metadata": {
    "collapsed": false
   },
   "outputs": [],
   "source": [
    "lst_loss = [wins[2+30*i] for i in xrange(240)]"
   ]
  },
  {
   "cell_type": "code",
   "execution_count": 393,
   "metadata": {
    "collapsed": false
   },
   "outputs": [
    {
     "data": {
      "text/plain": [
       "['Boston Celtics',\n",
       " 'Philadelphia 76ers',\n",
       " 'New Jersey Nets',\n",
       " 'Toronto Raptors',\n",
       " 'New York Knicks']"
      ]
     },
     "execution_count": 393,
     "metadata": {},
     "output_type": "execute_result"
    }
   ],
   "source": [
    "teams[:5]"
   ]
  },
  {
   "cell_type": "code",
   "execution_count": 394,
   "metadata": {
    "collapsed": false
   },
   "outputs": [
    {
     "data": {
      "text/plain": [
       "[<a href=\"/teams/BOS/2009.html\">Boston Celtics</a>,\n",
       " <a href=\"/teams/PHI/2009.html\">Philadelphia 76ers</a>,\n",
       " <a href=\"/teams/NJN/2009.html\">New Jersey Nets</a>,\n",
       " <a href=\"/teams/TOR/2009.html\">Toronto Raptors</a>,\n",
       " <a href=\"/teams/NYK/2009.html\">New York Knicks</a>]"
      ]
     },
     "execution_count": 394,
     "metadata": {},
     "output_type": "execute_result"
    }
   ],
   "source": [
    "links[:5]"
   ]
  },
  {
   "cell_type": "code",
   "execution_count": 395,
   "metadata": {
    "collapsed": false
   },
   "outputs": [
    {
     "data": {
      "text/plain": [
       "['/teams/BOS/2009.html',\n",
       " '/teams/PHI/2009.html',\n",
       " '/teams/NJN/2009.html',\n",
       " '/teams/TOR/2009.html',\n",
       " '/teams/NYK/2009.html']"
      ]
     },
     "execution_count": 395,
     "metadata": {},
     "output_type": "execute_result"
    }
   ],
   "source": [
    "add_ons = [link['href'] for link in links]\n",
    "add_ons[:5]"
   ]
  },
  {
   "cell_type": "code",
   "execution_count": 396,
   "metadata": {
    "collapsed": true
   },
   "outputs": [],
   "source": [
    "full_links = [basketball_base + add_on for add_on in add_ons]"
   ]
  },
  {
   "cell_type": "code",
   "execution_count": 397,
   "metadata": {
    "collapsed": true
   },
   "outputs": [],
   "source": [
    "responses = [requests.get(link) for link in full_links]\n",
    "soups = [BeautifulSoup(response.content, 'lxml') for response in responses]\n",
    "team_averages = [soup.select('tr.stat_average td') for soup in soups]\n",
    "FTA = [team_averages[idx][17].contents[0].encode('ascii') for idx in xrange(len(team_averages))]"
   ]
  },
  {
   "cell_type": "code",
   "execution_count": 420,
   "metadata": {
    "collapsed": true
   },
   "outputs": [],
   "source": [
    "Games = [team_averages[idx][3].contents[0].encode('ascii') for idx in xrange(len(team_averages))]"
   ]
  },
  {
   "cell_type": "code",
   "execution_count": 414,
   "metadata": {
    "collapsed": false
   },
   "outputs": [
    {
     "data": {
      "text/plain": [
       "['2075', '2216', '1980', '1861', '1900']"
      ]
     },
     "execution_count": 414,
     "metadata": {},
     "output_type": "execute_result"
    }
   ],
   "source": [
    "FTA[:5]"
   ]
  },
  {
   "cell_type": "code",
   "execution_count": 424,
   "metadata": {
    "collapsed": false
   },
   "outputs": [],
   "source": [
    "FTA_Per_Game = [float(FTA[idx])/float(Games[idx]) for idx in xrange(len(FTA))]"
   ]
  },
  {
   "cell_type": "code",
   "execution_count": 426,
   "metadata": {
    "collapsed": false
   },
   "outputs": [],
   "source": [
    "Team_FTA = [(teams[idx], FTA_Per_Game[idx]) for idx in xrange(len(FTA_Per_Game))]"
   ]
  },
  {
   "cell_type": "code",
   "execution_count": 427,
   "metadata": {
    "collapsed": false
   },
   "outputs": [],
   "source": [
    "Team_FTA_Year = [(2009+i/30,) + tup for i, tup in enumerate(Team_FTA)]"
   ]
  },
  {
   "cell_type": "code",
   "execution_count": 470,
   "metadata": {
    "collapsed": false
   },
   "outputs": [],
   "source": [
    "Team_FTA_Year_WL = [Team_FTA_Year[idx] + (lst_wins[idx], lst_loss[idx]) for idx in xrange(len(Team_FTA_Year))]"
   ]
  },
  {
   "cell_type": "code",
   "execution_count": 472,
   "metadata": {
    "collapsed": true
   },
   "outputs": [],
   "source": [
    "import pandas as pd"
   ]
  },
  {
   "cell_type": "code",
   "execution_count": 471,
   "metadata": {
    "collapsed": false
   },
   "outputs": [
    {
     "data": {
      "text/plain": [
       "[(2009, 'Boston Celtics', 25.304878048780488, '61', '21'),\n",
       " (2009, 'Philadelphia 76ers', 27.024390243902438, '41', '41'),\n",
       " (2009, 'New Jersey Nets', 24.146341463414632, '34', '48'),\n",
       " (2009, 'Toronto Raptors', 22.695121951219512, '33', '49'),\n",
       " (2009, 'New York Knicks', 23.170731707317074, '34', '48'),\n",
       " (2009, 'Cleveland Cavaliers', 24.536585365853657, '65', '17'),\n",
       " (2009, 'Chicago Bulls', 25.024390243902438, '40', '42'),\n",
       " (2009, 'Detroit Pistons', 22.548780487804876, '40', '42'),\n",
       " (2009, 'Indiana Pacers', 23.048780487804876, '38', '44'),\n",
       " (2009, 'Milwaukee Bucks', 25.20731707317073, '38', '44'),\n",
       " (2009, 'Orlando Magic', 27.475609756097562, '59', '23'),\n",
       " (2009, 'Atlanta Hawks', 25.426829268292682, '46', '36'),\n",
       " (2009, 'Miami Heat', 22.817073170731707, '42', '40'),\n",
       " (2009, 'Charlotte Bobcats', 23.963414634146343, '37', '45'),\n",
       " (2009, 'Washington Wizards', 23.75609756097561, '21', '61'),\n",
       " (2009, 'Denver Nuggets', 30.329268292682926, '50', '32'),\n",
       " (2009, 'Portland Trail Blazers', 24.24390243902439, '56', '26'),\n",
       " (2009, 'Utah Jazz', 28.682926829268293, '48', '34'),\n",
       " (2009, 'Minnesota Timberwolves', 23.865853658536587, '27', '55'),\n",
       " (2009, 'Oklahoma City Thunder', 25.23170731707317, '24', '58'),\n",
       " (2009, 'Los Angeles Lakers', 25.451219512195124, '61', '21'),\n",
       " (2009, 'Phoenix Suns', 27.451219512195124, '46', '36'),\n",
       " (2009, 'Golden State Warriors', 29.170731707317074, '31', '51'),\n",
       " (2009, 'Los Angeles Clippers', 22.426829268292682, '18', '64'),\n",
       " (2009, 'Sacramento Kings', 25.695121951219512, '19', '63'),\n",
       " (2009, 'San Antonio Spurs', 20.01219512195122, '52', '30'),\n",
       " (2009, 'Houston Rockets', 23.20731707317073, '53', '29'),\n",
       " (2009, 'Dallas Mavericks', 22.585365853658537, '47', '35'),\n",
       " (2009, 'New Orleans Hornets', 22.353658536585368, '46', '36'),\n",
       " (2009, 'Memphis Grizzlies', 25.329268292682926, '26', '56'),\n",
       " (2010, 'Boston Celtics', 25.48780487804878, '52', '30'),\n",
       " (2010, 'Toronto Raptors', 25.829268292682926, '36', '46'),\n",
       " (2010, 'New York Knicks', 21.451219512195124, '31', '51'),\n",
       " (2010, 'Philadelphia 76ers', 22.048780487804876, '30', '52'),\n",
       " (2010, 'New Jersey Nets', 24.573170731707318, '17', '65'),\n",
       " (2010, 'Cleveland Cavaliers', 26.585365853658537, '59', '23'),\n",
       " (2010, 'Milwaukee Bucks', 20.426829268292682, '46', '36'),\n",
       " (2010, 'Chicago Bulls', 23.926829268292682, '36', '46'),\n",
       " (2010, 'Indiana Pacers', 24.621951219512194, '33', '49'),\n",
       " (2010, 'Detroit Pistons', 24.365853658536587, '26', '56'),\n",
       " (2010, 'Orlando Magic', 26.536585365853657, '61', '21'),\n",
       " (2010, 'Atlanta Hawks', 23.341463414634145, '54', '28'),\n",
       " (2010, 'Miami Heat', 23.548780487804876, '48', '34'),\n",
       " (2010, 'Charlotte Bobcats', 26.585365853658537, '45', '37'),\n",
       " (2010, 'Washington Wizards', 23.109756097560975, '28', '54'),\n",
       " (2010, 'Denver Nuggets', 30.585365853658537, '52', '30'),\n",
       " (2010, 'Utah Jazz', 27.23170731707317, '55', '27'),\n",
       " (2010, 'Portland Trail Blazers', 24.79268292682927, '51', '31'),\n",
       " (2010, 'Oklahoma City Thunder', 26.951219512195124, '51', '31'),\n",
       " (2010, 'Minnesota Timberwolves', 23.48780487804878, '17', '65'),\n",
       " (2010, 'Los Angeles Lakers', 24.20731707317073, '54', '28'),\n",
       " (2010, 'Phoenix Suns', 25.817073170731707, '54', '28'),\n",
       " (2010, 'Los Angeles Clippers', 22.76829268292683, '24', '58'),\n",
       " (2010, 'Golden State Warriors', 25.426829268292682, '32', '50'),\n",
       " (2010, 'Sacramento Kings', 24.01219512195122, '29', '53'),\n",
       " (2010, 'Dallas Mavericks', 22.804878048780488, '49', '33'),\n",
       " (2010, 'San Antonio Spurs', 24.01219512195122, '55', '27'),\n",
       " (2010, 'Houston Rockets', 24.658536585365855, '40', '42'),\n",
       " (2010, 'Memphis Grizzlies', 26.853658536585368, '37', '45'),\n",
       " (2010, 'New Orleans Hornets', 20.25609756097561, '34', '48'),\n",
       " (2011, 'Boston Celtics', 23.109756097560975, '57', '25'),\n",
       " (2011, 'New York Knicks', 25.451219512195124, '43', '39'),\n",
       " (2011, 'Philadelphia 76ers', 22.573170731707318, '45', '37'),\n",
       " (2011, 'New Jersey Nets', 22.9390243902439, '24', '58'),\n",
       " (2011, 'Toronto Raptors', 24.097560975609756, '24', '58'),\n",
       " (2011, 'Chicago Bulls', 24.48780487804878, '61', '21'),\n",
       " (2011, 'Indiana Pacers', 24.817073170731707, '38', '44'),\n",
       " (2011, 'Milwaukee Bucks', 22.9390243902439, '38', '44'),\n",
       " (2011, 'Detroit Pistons', 22.609756097560975, '31', '51'),\n",
       " (2011, 'Cleveland Cavaliers', 25.304878048780488, '18', '64'),\n",
       " (2011, 'Miami Heat', 27.902439024390244, '61', '21'),\n",
       " (2011, 'Orlando Magic', 25.621951219512194, '56', '26'),\n",
       " (2011, 'Atlanta Hawks', 21.073170731707318, '39', '43'),\n",
       " (2011, 'Charlotte Bobcats', 24.378048780487806, '29', '53'),\n",
       " (2011, 'Washington Wizards', 24.378048780487806, '22', '60'),\n",
       " (2011, 'Oklahoma City Thunder', 29.28048780487805, '51', '31'),\n",
       " (2011, 'Denver Nuggets', 29.621951219512194, '54', '28'),\n",
       " (2011, 'Portland Trail Blazers', 22.378048780487806, '46', '36'),\n",
       " (2011, 'Utah Jazz', 25.134146341463413, '36', '46'),\n",
       " (2011, 'Minnesota Timberwolves', 24.109756097560975, '24', '58'),\n",
       " (2011, 'Los Angeles Lakers', 24.134146341463413, '58', '24'),\n",
       " (2011, 'Phoenix Suns', 23.646341463414632, '39', '43'),\n",
       " (2011, 'Golden State Warriors', 20.670731707317074, '35', '47'),\n",
       " (2011, 'Los Angeles Clippers', 26.670731707317074, '32', '50'),\n",
       " (2011, 'Sacramento Kings', 24.158536585365855, '27', '55'),\n",
       " (2011, 'San Antonio Spurs', 24.195121951219512, '56', '26'),\n",
       " (2011, 'Dallas Mavericks', 22.5609756097561, '53', '29'),\n",
       " (2011, 'New Orleans Hornets', 23.134146341463413, '44', '38'),\n",
       " (2011, 'Memphis Grizzlies', 24.158536585365855, '48', '34'),\n",
       " (2011, 'Houston Rockets', 25.402439024390244, '47', '35'),\n",
       " (2012, 'Boston Celtics', 19.818181818181817, '39', '27'),\n",
       " (2012, 'New York Knicks', 24.757575757575758, '41', '25'),\n",
       " (2012, 'Philadelphia 76ers', 18.151515151515152, '43', '23'),\n",
       " (2012, 'Toronto Raptors', 21.363636363636363, '25', '41'),\n",
       " (2012, 'New Jersey Nets', 21.71212121212121, '19', '47'),\n",
       " (2012, 'Chicago Bulls', 21.12121212121212, '51', '15'),\n",
       " (2012, 'Indiana Pacers', 26.12121212121212, '41', '25'),\n",
       " (2012, 'Milwaukee Bucks', 21.439393939393938, '34', '32'),\n",
       " (2012, 'Detroit Pistons', 22.136363636363637, '22', '44'),\n",
       " (2012, 'Cleveland Cavaliers', 24.924242424242426, '17', '49'),\n",
       " (2012, 'Miami Heat', 24.21212121212121, '47', '19'),\n",
       " (2012, 'Atlanta Hawks', 20.984848484848484, '41', '25'),\n",
       " (2012, 'Orlando Magic', 22.848484848484848, '35', '31'),\n",
       " (2012, 'Washington Wizards', 21.0, '22', '44'),\n",
       " (2012, 'Charlotte Bobcats', 22.151515151515152, '7', '59'),\n",
       " (2012, 'Oklahoma City Thunder', 26.424242424242426, '46', '20'),\n",
       " (2012, 'Denver Nuggets', 26.666666666666668, '39', '27'),\n",
       " (2012, 'Utah Jazz', 25.272727272727273, '34', '32'),\n",
       " (2012, 'Portland Trail Blazers', 21.560606060606062, '32', '34'),\n",
       " (2012, 'Minnesota Timberwolves', 25.181818181818183, '28', '38'),\n",
       " (2012, 'Los Angeles Lakers', 24.075757575757574, '36', '30'),\n",
       " (2012, 'Los Angeles Clippers', 23.303030303030305, '39', '27'),\n",
       " (2012, 'Phoenix Suns', 21.166666666666668, '32', '34'),\n",
       " (2012, 'Golden State Warriors', 18.71212121212121, '25', '41'),\n",
       " (2012, 'Sacramento Kings', 23.21212121212121, '21', '45'),\n",
       " (2012, 'San Antonio Spurs', 21.62121212121212, '48', '18'),\n",
       " (2012, 'Memphis Grizzlies', 22.78787878787879, '38', '28'),\n",
       " (2012, 'Dallas Mavericks', 20.21212121212121, '35', '31'),\n",
       " (2012, 'Houston Rockets', 19.71212121212121, '34', '32'),\n",
       " (2012, 'New Orleans Hornets', 21.166666666666668, '24', '42'),\n",
       " (2013, 'New York Knicks', 21.085365853658537, '53', '29'),\n",
       " (2013, 'Brooklyn Nets', 23.878048780487806, '46', '36'),\n",
       " (2013, 'Boston Celtics', 20.962962962962962, '40', '41'),\n",
       " (2013, 'Philadelphia 76ers', 16.79268292682927, '31', '51'),\n",
       " (2013, 'Toronto Raptors', 22.329268292682926, '37', '45'),\n",
       " (2013, 'Indiana Pacers', 23.641975308641975, '52', '29'),\n",
       " (2013, 'Chicago Bulls', 21.195121951219512, '42', '40'),\n",
       " (2013, 'Milwaukee Bucks', 20.73170731707317, '37', '45'),\n",
       " (2013, 'Detroit Pistons', 22.804878048780488, '29', '53'),\n",
       " (2013, 'Cleveland Cavaliers', 22.26829268292683, '28', '54'),\n",
       " (2013, 'Miami Heat', 23.01219512195122, '62', '20'),\n",
       " (2013, 'Atlanta Hawks', 19.74390243902439, '42', '40'),\n",
       " (2013, 'Washington Wizards', 21.29268292682927, '33', '49'),\n",
       " (2013, 'Charlotte Bobcats', 25.121951219512194, '17', '65'),\n",
       " (2013, 'Orlando Magic', 16.573170731707318, '22', '60'),\n",
       " (2013, 'Oklahoma City Thunder', 26.78048780487805, '64', '18'),\n",
       " (2013, 'Denver Nuggets', 26.195121951219512, '55', '27'),\n",
       " (2013, 'Utah Jazz', 22.963414634146343, '41', '41'),\n",
       " (2013, 'Portland Trail Blazers', 20.48780487804878, '32', '50'),\n",
       " (2013, 'Minnesota Timberwolves', 24.902439024390244, '34', '48'),\n",
       " (2013, 'Los Angeles Clippers', 23.024390243902438, '59', '23'),\n",
       " (2013, 'Golden State Warriors', 21.26829268292683, '44', '38'),\n",
       " (2013, 'Los Angeles Lakers', 27.914634146341463, '44', '38'),\n",
       " (2013, 'Sacramento Kings', 22.79268292682927, '28', '54'),\n",
       " (2013, 'Phoenix Suns', 19.73170731707317, '23', '59'),\n",
       " (2013, 'San Antonio Spurs', 21.036585365853657, '58', '24'),\n",
       " (2013, 'Memphis Grizzlies', 21.29268292682927, '54', '28'),\n",
       " (2013, 'Houston Rockets', 25.451219512195124, '50', '32'),\n",
       " (2013, 'Dallas Mavericks', 20.353658536585368, '39', '43'),\n",
       " (2013, 'New Orleans Hornets', 19.951219512195124, '30', '52'),\n",
       " (2014, 'Toronto Raptors', 25.0609756097561, '50', '32'),\n",
       " (2014, 'Brooklyn Nets', 24.414634146341463, '38', '44'),\n",
       " (2014, 'New York Knicks', 20.365853658536587, '39', '43'),\n",
       " (2014, 'Boston Celtics', 20.804878048780488, '28', '54'),\n",
       " (2014, 'Philadelphia 76ers', 23.390243902439025, '16', '66'),\n",
       " (2014, 'Indiana Pacers', 23.25609756097561, '54', '28'),\n",
       " (2014, 'Chicago Bulls', 23.26829268292683, '47', '35'),\n",
       " (2014, 'Cleveland Cavaliers', 22.695121951219512, '32', '50'),\n",
       " (2014, 'Detroit Pistons', 25.74390243902439, '31', '51'),\n",
       " (2014, 'Milwaukee Bucks', 22.475609756097562, '20', '62'),\n",
       " (2014, 'Miami Heat', 22.975609756097562, '54', '28'),\n",
       " (2014, 'Washington Wizards', 20.914634146341463, '45', '37'),\n",
       " (2014, 'Charlotte Bobcats', 24.390243902439025, '40', '42'),\n",
       " (2014, 'Atlanta Hawks', 21.73170731707317, '40', '42'),\n",
       " (2014, 'Orlando Magic', 20.902439024390244, '26', '56'),\n",
       " (2014, 'Oklahoma City Thunder', 25.024390243902438, '58', '24'),\n",
       " (2014, 'Portland Trail Blazers', 23.48780487804878, '52', '30'),\n",
       " (2014, 'Minnesota Timberwolves', 28.0609756097561, '48', '34'),\n",
       " (2014, 'Denver Nuggets', 26.26829268292683, '35', '47'),\n",
       " (2014, 'Utah Jazz', 21.98780487804878, '22', '60'),\n",
       " (2014, 'Los Angeles Clippers', 29.073170731707318, '59', '23'),\n",
       " (2014, 'Golden State Warriors', 21.109756097560975, '54', '28'),\n",
       " (2014, 'Phoenix Suns', 24.4390243902439, '48', '34'),\n",
       " (2014, 'Sacramento Kings', 27.28048780487805, '33', '49'),\n",
       " (2014, 'Los Angeles Lakers', 22.378048780487806, '25', '57'),\n",
       " (2014, 'San Antonio Spurs', 20.024390243902438, '61', '21'),\n",
       " (2014, 'Houston Rockets', 31.085365853658537, '53', '29'),\n",
       " (2014, 'Memphis Grizzlies', 20.317073170731707, '46', '36'),\n",
       " (2014, 'Dallas Mavericks', 21.134146341463413, '48', '34'),\n",
       " (2014, 'New Orleans Pelicans', 23.609756097560975, '33', '49'),\n",
       " (2015, 'Toronto Raptors', 24.5609756097561, '49', '33'),\n",
       " (2015, 'Boston Celtics', 20.463414634146343, '41', '41'),\n",
       " (2015, 'Brooklyn Nets', 22.158536585365855, '33', '49'),\n",
       " (2015, 'Philadelphia 76ers', 23.817073170731707, '18', '64'),\n",
       " (2015, 'New York Knicks', 19.20731707317073, '17', '65'),\n",
       " (2015, 'Cleveland Cavaliers', 23.585365853658537, '53', '29'),\n",
       " (2015, 'Chicago Bulls', 25.20731707317073, '50', '32'),\n",
       " (2015, 'Milwaukee Bucks', 21.146341463414632, '42', '40'),\n",
       " (2015, 'Indiana Pacers', 22.158536585365855, '42', '40'),\n",
       " (2015, 'Detroit Pistons', 22.414634146341463, '38', '44'),\n",
       " (2015, 'Atlanta Hawks', 21.158536585365855, '56', '26'),\n",
       " (2015, 'Washington Wizards', 21.4390243902439, '43', '39'),\n",
       " (2015, 'Miami Heat', 23.658536585365855, '33', '49'),\n",
       " (2015, 'Charlotte Hornets', 22.76829268292683, '32', '50'),\n",
       " (2015, 'Orlando Magic', 19.085365853658537, '25', '57'),\n",
       " (2015, 'Portland Trail Blazers', 19.378048780487806, '53', '29'),\n",
       " (2015, 'Oklahoma City Thunder', 24.634146341463413, '47', '35'),\n",
       " (2015, 'Utah Jazz', 23.524390243902438, '42', '40'),\n",
       " (2015, 'Denver Nuggets', 24.28048780487805, '31', '51'),\n",
       " (2015, 'Minnesota Timberwolves', 25.73170731707317, '19', '63'),\n",
       " (2015, 'Golden State Warriors', 20.841463414634145, '65', '17'),\n",
       " (2015, 'Los Angeles Clippers', 25.20731707317073, '58', '24'),\n",
       " (2015, 'Phoenix Suns', 21.548780487804876, '38', '44'),\n",
       " (2015, 'Sacramento Kings', 29.26829268292683, '31', '51'),\n",
       " (2015, 'Los Angeles Lakers', 23.597560975609756, '23', '59'),\n",
       " (2015, 'Houston Rockets', 26.01219512195122, '50', '32'),\n",
       " (2015, 'San Antonio Spurs', 21.390243902439025, '58', '24'),\n",
       " (2015, 'Memphis Grizzlies', 22.79268292682927, '50', '32'),\n",
       " (2015, 'Dallas Mavericks', 22.475609756097562, '49', '33'),\n",
       " (2015, 'New Orleans Pelicans', 21.829268292682926, '43', '39'),\n",
       " (2016, 'Toronto Raptors', 26.70731707317073, '53', '29'),\n",
       " (2016, 'Boston Celtics', 23.524390243902438, '50', '32'),\n",
       " (2016, 'New York Knicks', 21.378048780487806, '33', '49'),\n",
       " (2016, 'Brooklyn Nets', 20.71951219512195, '22', '60'),\n",
       " (2016, 'Philadelphia 76ers', 22.5609756097561, '16', '66'),\n",
       " (2016, 'Cleveland Cavaliers', 21.74390243902439, '57', '25'),\n",
       " (2016, 'Indiana Pacers', 22.829268292682926, '46', '36'),\n",
       " (2016, 'Detroit Pistons', 25.548780487804876, '43', '39'),\n",
       " (2016, 'Chicago Bulls', 20.975609756097562, '37', '45'),\n",
       " (2016, 'Milwaukee Bucks', 22.71951219512195, '29', '53'),\n",
       " (2016, 'Miami Heat', 23.036585365853657, '46', '36'),\n",
       " (2016, 'Atlanta Hawks', 19.975609756097562, '51', '31'),\n",
       " (2016, 'Charlotte Hornets', 23.670731707317074, '49', '33'),\n",
       " (2016, 'Washington Wizards', 22.548780487804876, '40', '42'),\n",
       " (2016, 'Orlando Magic', 20.109756097560975, '36', '46'),\n",
       " (2016, 'Oklahoma City Thunder', 25.20731707317073, '59', '23'),\n",
       " (2016, 'Portland Trail Blazers', 23.036585365853657, '43', '39'),\n",
       " (2016, 'Utah Jazz', 22.98780487804878, '46', '36'),\n",
       " (2016, 'Denver Nuggets', 24.073170731707318, '33', '49'),\n",
       " (2016, 'Minnesota Timberwolves', 26.98780487804878, '31', '51'),\n",
       " (2016, 'Golden State Warriors', 21.829268292682926, '65', '17'),\n",
       " (2016, 'Los Angeles Clippers', 26.24390243902439, '53', '29'),\n",
       " (2016, 'Sacramento Kings', 25.475609756097562, '34', '48'),\n",
       " (2016, 'Phoenix Suns', 23.23170731707317, '24', '58'),\n",
       " (2016, 'Los Angeles Lakers', 24.73170731707317, '17', '65'),\n",
       " (2016, 'San Antonio Spurs', 20.390243902439025, '67', '15'),\n",
       " (2016, 'Dallas Mavericks', 22.329268292682926, '40', '42'),\n",
       " (2016, 'Memphis Grizzlies', 24.682926829268293, '35', '47'),\n",
       " (2016, 'Houston Rockets', 29.353658536585368, '42', '40'),\n",
       " (2016, 'New Orleans Pelicans', 22.23170731707317, '31', '51')]"
      ]
     },
     "execution_count": 471,
     "metadata": {},
     "output_type": "execute_result"
    }
   ],
   "source": [
    "Team_FTA_Year_WL"
   ]
  },
  {
   "cell_type": "code",
   "execution_count": 473,
   "metadata": {
    "collapsed": true
   },
   "outputs": [],
   "source": [
    "df = pd.DataFrame.from_records(Team_FTA_Year_WL)"
   ]
  },
  {
   "cell_type": "code",
   "execution_count": 477,
   "metadata": {
    "collapsed": false
   },
   "outputs": [
    {
     "data": {
      "text/html": [
       "<div>\n",
       "<table border=\"1\" class=\"dataframe\">\n",
       "  <thead>\n",
       "    <tr style=\"text-align: right;\">\n",
       "      <th></th>\n",
       "      <th>0</th>\n",
       "      <th>1</th>\n",
       "      <th>2</th>\n",
       "      <th>3</th>\n",
       "      <th>4</th>\n",
       "    </tr>\n",
       "  </thead>\n",
       "  <tbody>\n",
       "    <tr>\n",
       "      <th>0</th>\n",
       "      <td>2009</td>\n",
       "      <td>Boston Celtics</td>\n",
       "      <td>25.304878</td>\n",
       "      <td>61</td>\n",
       "      <td>21</td>\n",
       "    </tr>\n",
       "    <tr>\n",
       "      <th>1</th>\n",
       "      <td>2009</td>\n",
       "      <td>Philadelphia 76ers</td>\n",
       "      <td>27.024390</td>\n",
       "      <td>41</td>\n",
       "      <td>41</td>\n",
       "    </tr>\n",
       "    <tr>\n",
       "      <th>2</th>\n",
       "      <td>2009</td>\n",
       "      <td>New Jersey Nets</td>\n",
       "      <td>24.146341</td>\n",
       "      <td>34</td>\n",
       "      <td>48</td>\n",
       "    </tr>\n",
       "    <tr>\n",
       "      <th>3</th>\n",
       "      <td>2009</td>\n",
       "      <td>Toronto Raptors</td>\n",
       "      <td>22.695122</td>\n",
       "      <td>33</td>\n",
       "      <td>49</td>\n",
       "    </tr>\n",
       "    <tr>\n",
       "      <th>4</th>\n",
       "      <td>2009</td>\n",
       "      <td>New York Knicks</td>\n",
       "      <td>23.170732</td>\n",
       "      <td>34</td>\n",
       "      <td>48</td>\n",
       "    </tr>\n",
       "  </tbody>\n",
       "</table>\n",
       "</div>"
      ],
      "text/plain": [
       "      0                   1          2   3   4\n",
       "0  2009      Boston Celtics  25.304878  61  21\n",
       "1  2009  Philadelphia 76ers  27.024390  41  41\n",
       "2  2009     New Jersey Nets  24.146341  34  48\n",
       "3  2009     Toronto Raptors  22.695122  33  49\n",
       "4  2009     New York Knicks  23.170732  34  48"
      ]
     },
     "execution_count": 477,
     "metadata": {},
     "output_type": "execute_result"
    }
   ],
   "source": [
    "df.head()"
   ]
  },
  {
   "cell_type": "code",
   "execution_count": 483,
   "metadata": {
    "collapsed": false
   },
   "outputs": [],
   "source": [
    "df[[3,4]] = df[[3,4]].apply(pd.to_numeric)"
   ]
  },
  {
   "cell_type": "code",
   "execution_count": 488,
   "metadata": {
    "collapsed": false
   },
   "outputs": [],
   "source": [
    "df['Win%'] = 100*df[3]/(df[4]+df[3])"
   ]
  },
  {
   "cell_type": "code",
   "execution_count": 502,
   "metadata": {
    "collapsed": false
   },
   "outputs": [],
   "source": [
    "TeamID = df[1].str.split(' ') "
   ]
  },
  {
   "cell_type": "code",
   "execution_count": 504,
   "metadata": {
    "collapsed": false
   },
   "outputs": [],
   "source": [
    "Last_Word = [TeamID[idx][-1] for idx in xrange(len(TeamID))]"
   ]
  },
  {
   "cell_type": "code",
   "execution_count": 506,
   "metadata": {
    "collapsed": false
   },
   "outputs": [
    {
     "data": {
      "text/plain": [
       "['Celtics', '76ers', 'Nets', 'Raptors', 'Knicks']"
      ]
     },
     "execution_count": 506,
     "metadata": {},
     "output_type": "execute_result"
    }
   ],
   "source": [
    "Last_Word[:5]"
   ]
  },
  {
   "cell_type": "code",
   "execution_count": 475,
   "metadata": {
    "collapsed": true
   },
   "outputs": [],
   "source": [
    "df2 = pd.DataFrame.from_records(team_year_attend)"
   ]
  },
  {
   "cell_type": "code",
   "execution_count": 476,
   "metadata": {
    "collapsed": false
   },
   "outputs": [
    {
     "data": {
      "text/html": [
       "<div>\n",
       "<table border=\"1\" class=\"dataframe\">\n",
       "  <thead>\n",
       "    <tr style=\"text-align: right;\">\n",
       "      <th></th>\n",
       "      <th>0</th>\n",
       "      <th>1</th>\n",
       "      <th>2</th>\n",
       "    </tr>\n",
       "  </thead>\n",
       "  <tbody>\n",
       "    <tr>\n",
       "      <th>0</th>\n",
       "      <td>Pistons</td>\n",
       "      <td>2009</td>\n",
       "      <td>21,877</td>\n",
       "    </tr>\n",
       "    <tr>\n",
       "      <th>1</th>\n",
       "      <td>Bulls</td>\n",
       "      <td>2009</td>\n",
       "      <td>21,197</td>\n",
       "    </tr>\n",
       "    <tr>\n",
       "      <th>2</th>\n",
       "      <td>Trail Blazers</td>\n",
       "      <td>2009</td>\n",
       "      <td>20,524</td>\n",
       "    </tr>\n",
       "    <tr>\n",
       "      <th>3</th>\n",
       "      <td>Mavericks</td>\n",
       "      <td>2009</td>\n",
       "      <td>20,042</td>\n",
       "    </tr>\n",
       "    <tr>\n",
       "      <th>4</th>\n",
       "      <td>Cavaliers</td>\n",
       "      <td>2009</td>\n",
       "      <td>20,010</td>\n",
       "    </tr>\n",
       "  </tbody>\n",
       "</table>\n",
       "</div>"
      ],
      "text/plain": [
       "               0     1       2\n",
       "0        Pistons  2009  21,877\n",
       "1          Bulls  2009  21,197\n",
       "2  Trail Blazers  2009  20,524\n",
       "3      Mavericks  2009  20,042\n",
       "4      Cavaliers  2009  20,010"
      ]
     },
     "execution_count": 476,
     "metadata": {},
     "output_type": "execute_result"
    }
   ],
   "source": [
    "df2.head()"
   ]
  },
  {
   "cell_type": "code",
   "execution_count": 508,
   "metadata": {
    "collapsed": false
   },
   "outputs": [],
   "source": [
    "TeamID_df2 = df2[0].str.split(' ') "
   ]
  },
  {
   "cell_type": "code",
   "execution_count": 509,
   "metadata": {
    "collapsed": true
   },
   "outputs": [],
   "source": [
    "Last_Word_df2 = [TeamID_df2[idx][-1] for idx in xrange(len(TeamID_df2))]"
   ]
  },
  {
   "cell_type": "code",
   "execution_count": 511,
   "metadata": {
    "collapsed": true
   },
   "outputs": [],
   "source": [
    "df['Last Word'] = Last_Word"
   ]
  },
  {
   "cell_type": "code",
   "execution_count": 512,
   "metadata": {
    "collapsed": true
   },
   "outputs": [],
   "source": [
    "df2['Last Word'] = Last_Word_df2"
   ]
  },
  {
   "cell_type": "code",
   "execution_count": 514,
   "metadata": {
    "collapsed": false,
    "scrolled": true
   },
   "outputs": [
    {
     "data": {
      "text/html": [
       "<div>\n",
       "<table border=\"1\" class=\"dataframe\">\n",
       "  <thead>\n",
       "    <tr style=\"text-align: right;\">\n",
       "      <th></th>\n",
       "      <th>0</th>\n",
       "      <th>1</th>\n",
       "      <th>2</th>\n",
       "      <th>3</th>\n",
       "      <th>4</th>\n",
       "      <th>Win%</th>\n",
       "      <th>Last Word</th>\n",
       "    </tr>\n",
       "  </thead>\n",
       "  <tbody>\n",
       "    <tr>\n",
       "      <th>235</th>\n",
       "      <td>2016</td>\n",
       "      <td>San Antonio Spurs</td>\n",
       "      <td>20.390244</td>\n",
       "      <td>67</td>\n",
       "      <td>15</td>\n",
       "      <td>81.707317</td>\n",
       "      <td>Spurs</td>\n",
       "    </tr>\n",
       "    <tr>\n",
       "      <th>236</th>\n",
       "      <td>2016</td>\n",
       "      <td>Dallas Mavericks</td>\n",
       "      <td>22.329268</td>\n",
       "      <td>40</td>\n",
       "      <td>42</td>\n",
       "      <td>48.780488</td>\n",
       "      <td>Mavericks</td>\n",
       "    </tr>\n",
       "    <tr>\n",
       "      <th>237</th>\n",
       "      <td>2016</td>\n",
       "      <td>Memphis Grizzlies</td>\n",
       "      <td>24.682927</td>\n",
       "      <td>35</td>\n",
       "      <td>47</td>\n",
       "      <td>42.682927</td>\n",
       "      <td>Grizzlies</td>\n",
       "    </tr>\n",
       "    <tr>\n",
       "      <th>238</th>\n",
       "      <td>2016</td>\n",
       "      <td>Houston Rockets</td>\n",
       "      <td>29.353659</td>\n",
       "      <td>42</td>\n",
       "      <td>40</td>\n",
       "      <td>51.219512</td>\n",
       "      <td>Rockets</td>\n",
       "    </tr>\n",
       "    <tr>\n",
       "      <th>239</th>\n",
       "      <td>2016</td>\n",
       "      <td>New Orleans Pelicans</td>\n",
       "      <td>22.231707</td>\n",
       "      <td>31</td>\n",
       "      <td>51</td>\n",
       "      <td>37.804878</td>\n",
       "      <td>Pelicans</td>\n",
       "    </tr>\n",
       "  </tbody>\n",
       "</table>\n",
       "</div>"
      ],
      "text/plain": [
       "        0                     1          2   3   4       Win%  Last Word\n",
       "235  2016     San Antonio Spurs  20.390244  67  15  81.707317      Spurs\n",
       "236  2016      Dallas Mavericks  22.329268  40  42  48.780488  Mavericks\n",
       "237  2016     Memphis Grizzlies  24.682927  35  47  42.682927  Grizzlies\n",
       "238  2016       Houston Rockets  29.353659  42  40  51.219512    Rockets\n",
       "239  2016  New Orleans Pelicans  22.231707  31  51  37.804878   Pelicans"
      ]
     },
     "execution_count": 514,
     "metadata": {},
     "output_type": "execute_result"
    }
   ],
   "source": [
    "df.tail()"
   ]
  },
  {
   "cell_type": "code",
   "execution_count": 517,
   "metadata": {
    "collapsed": false
   },
   "outputs": [
    {
     "data": {
      "text/html": [
       "<div>\n",
       "<table border=\"1\" class=\"dataframe\">\n",
       "  <thead>\n",
       "    <tr style=\"text-align: right;\">\n",
       "      <th></th>\n",
       "      <th>0</th>\n",
       "      <th>1</th>\n",
       "      <th>2</th>\n",
       "      <th>Last Word</th>\n",
       "    </tr>\n",
       "  </thead>\n",
       "  <tbody>\n",
       "    <tr>\n",
       "      <th>235</th>\n",
       "      <td>Bucks</td>\n",
       "      <td>2016</td>\n",
       "      <td>15,166</td>\n",
       "      <td>Bucks</td>\n",
       "    </tr>\n",
       "    <tr>\n",
       "      <th>236</th>\n",
       "      <td>Nets</td>\n",
       "      <td>2016</td>\n",
       "      <td>15,125</td>\n",
       "      <td>Nets</td>\n",
       "    </tr>\n",
       "    <tr>\n",
       "      <th>237</th>\n",
       "      <td>76ers</td>\n",
       "      <td>2016</td>\n",
       "      <td>14,881</td>\n",
       "      <td>76ers</td>\n",
       "    </tr>\n",
       "    <tr>\n",
       "      <th>238</th>\n",
       "      <td>Timberwolves</td>\n",
       "      <td>2016</td>\n",
       "      <td>14,175</td>\n",
       "      <td>Timberwolves</td>\n",
       "    </tr>\n",
       "    <tr>\n",
       "      <th>239</th>\n",
       "      <td>Nuggets</td>\n",
       "      <td>2016</td>\n",
       "      <td>14,095</td>\n",
       "      <td>Nuggets</td>\n",
       "    </tr>\n",
       "  </tbody>\n",
       "</table>\n",
       "</div>"
      ],
      "text/plain": [
       "                0     1       2     Last Word\n",
       "235         Bucks  2016  15,166         Bucks\n",
       "236          Nets  2016  15,125          Nets\n",
       "237         76ers  2016  14,881         76ers\n",
       "238  Timberwolves  2016  14,175  Timberwolves\n",
       "239       Nuggets  2016  14,095       Nuggets"
      ]
     },
     "execution_count": 517,
     "metadata": {},
     "output_type": "execute_result"
    }
   ],
   "source": [
    "df2.tail()"
   ]
  },
  {
   "cell_type": "code",
   "execution_count": 522,
   "metadata": {
    "collapsed": true
   },
   "outputs": [],
   "source": [
    "df = df.rename(index=str, columns={0: \"Year\", 1: \"Team and Location\", 2: \"FT/Game\", 3: \"Wins\", 4: \"Loss\"})"
   ]
  },
  {
   "cell_type": "code",
   "execution_count": 523,
   "metadata": {
    "collapsed": false
   },
   "outputs": [
    {
     "data": {
      "text/html": [
       "<div>\n",
       "<table border=\"1\" class=\"dataframe\">\n",
       "  <thead>\n",
       "    <tr style=\"text-align: right;\">\n",
       "      <th></th>\n",
       "      <th>Year</th>\n",
       "      <th>Team and Location</th>\n",
       "      <th>FT/Game</th>\n",
       "      <th>Wins</th>\n",
       "      <th>Loss</th>\n",
       "      <th>Win%</th>\n",
       "      <th>Last Word</th>\n",
       "    </tr>\n",
       "  </thead>\n",
       "  <tbody>\n",
       "    <tr>\n",
       "      <th>0</th>\n",
       "      <td>2009</td>\n",
       "      <td>Boston Celtics</td>\n",
       "      <td>25.304878</td>\n",
       "      <td>61</td>\n",
       "      <td>21</td>\n",
       "      <td>74.390244</td>\n",
       "      <td>Celtics</td>\n",
       "    </tr>\n",
       "    <tr>\n",
       "      <th>1</th>\n",
       "      <td>2009</td>\n",
       "      <td>Philadelphia 76ers</td>\n",
       "      <td>27.024390</td>\n",
       "      <td>41</td>\n",
       "      <td>41</td>\n",
       "      <td>50.000000</td>\n",
       "      <td>76ers</td>\n",
       "    </tr>\n",
       "    <tr>\n",
       "      <th>2</th>\n",
       "      <td>2009</td>\n",
       "      <td>New Jersey Nets</td>\n",
       "      <td>24.146341</td>\n",
       "      <td>34</td>\n",
       "      <td>48</td>\n",
       "      <td>41.463415</td>\n",
       "      <td>Nets</td>\n",
       "    </tr>\n",
       "    <tr>\n",
       "      <th>3</th>\n",
       "      <td>2009</td>\n",
       "      <td>Toronto Raptors</td>\n",
       "      <td>22.695122</td>\n",
       "      <td>33</td>\n",
       "      <td>49</td>\n",
       "      <td>40.243902</td>\n",
       "      <td>Raptors</td>\n",
       "    </tr>\n",
       "    <tr>\n",
       "      <th>4</th>\n",
       "      <td>2009</td>\n",
       "      <td>New York Knicks</td>\n",
       "      <td>23.170732</td>\n",
       "      <td>34</td>\n",
       "      <td>48</td>\n",
       "      <td>41.463415</td>\n",
       "      <td>Knicks</td>\n",
       "    </tr>\n",
       "  </tbody>\n",
       "</table>\n",
       "</div>"
      ],
      "text/plain": [
       "   Year   Team and Location    FT/Game  Wins  Loss       Win% Last Word\n",
       "0  2009      Boston Celtics  25.304878    61    21  74.390244   Celtics\n",
       "1  2009  Philadelphia 76ers  27.024390    41    41  50.000000     76ers\n",
       "2  2009     New Jersey Nets  24.146341    34    48  41.463415      Nets\n",
       "3  2009     Toronto Raptors  22.695122    33    49  40.243902   Raptors\n",
       "4  2009     New York Knicks  23.170732    34    48  41.463415    Knicks"
      ]
     },
     "execution_count": 523,
     "metadata": {},
     "output_type": "execute_result"
    }
   ],
   "source": [
    "df.head()"
   ]
  },
  {
   "cell_type": "code",
   "execution_count": 520,
   "metadata": {
    "collapsed": true
   },
   "outputs": [],
   "source": [
    "df2 = df2.rename(index=str, columns={0: \"Full Team Name\", 1: \"Year\", 2: \"Attendance\"})"
   ]
  },
  {
   "cell_type": "code",
   "execution_count": 521,
   "metadata": {
    "collapsed": false
   },
   "outputs": [
    {
     "data": {
      "text/html": [
       "<div>\n",
       "<table border=\"1\" class=\"dataframe\">\n",
       "  <thead>\n",
       "    <tr style=\"text-align: right;\">\n",
       "      <th></th>\n",
       "      <th>Full Team Name</th>\n",
       "      <th>Year</th>\n",
       "      <th>Attendance</th>\n",
       "      <th>Last Word</th>\n",
       "    </tr>\n",
       "  </thead>\n",
       "  <tbody>\n",
       "    <tr>\n",
       "      <th>0</th>\n",
       "      <td>Pistons</td>\n",
       "      <td>2009</td>\n",
       "      <td>21,877</td>\n",
       "      <td>Pistons</td>\n",
       "    </tr>\n",
       "    <tr>\n",
       "      <th>1</th>\n",
       "      <td>Bulls</td>\n",
       "      <td>2009</td>\n",
       "      <td>21,197</td>\n",
       "      <td>Bulls</td>\n",
       "    </tr>\n",
       "    <tr>\n",
       "      <th>2</th>\n",
       "      <td>Trail Blazers</td>\n",
       "      <td>2009</td>\n",
       "      <td>20,524</td>\n",
       "      <td>Blazers</td>\n",
       "    </tr>\n",
       "    <tr>\n",
       "      <th>3</th>\n",
       "      <td>Mavericks</td>\n",
       "      <td>2009</td>\n",
       "      <td>20,042</td>\n",
       "      <td>Mavericks</td>\n",
       "    </tr>\n",
       "    <tr>\n",
       "      <th>4</th>\n",
       "      <td>Cavaliers</td>\n",
       "      <td>2009</td>\n",
       "      <td>20,010</td>\n",
       "      <td>Cavaliers</td>\n",
       "    </tr>\n",
       "  </tbody>\n",
       "</table>\n",
       "</div>"
      ],
      "text/plain": [
       "  Full Team Name  Year Attendance  Last Word\n",
       "0        Pistons  2009     21,877    Pistons\n",
       "1          Bulls  2009     21,197      Bulls\n",
       "2  Trail Blazers  2009     20,524    Blazers\n",
       "3      Mavericks  2009     20,042  Mavericks\n",
       "4      Cavaliers  2009     20,010  Cavaliers"
      ]
     },
     "execution_count": 521,
     "metadata": {},
     "output_type": "execute_result"
    }
   ],
   "source": [
    "df2.head()"
   ]
  },
  {
   "cell_type": "code",
   "execution_count": 524,
   "metadata": {
    "collapsed": true
   },
   "outputs": [],
   "source": [
    "merged_df = pd.merge(df, df2, how='inner', on=['Last Word', 'Year'])"
   ]
  },
  {
   "cell_type": "code",
   "execution_count": 535,
   "metadata": {
    "collapsed": false
   },
   "outputs": [
    {
     "name": "stdout",
     "output_type": "stream",
     "text": [
      "<class 'pandas.core.frame.DataFrame'>\n",
      "Int64Index: 234 entries, 0 to 233\n",
      "Data columns (total 9 columns):\n",
      "Year                 234 non-null int64\n",
      "Team and Location    234 non-null object\n",
      "FT/Game              234 non-null float64\n",
      "Wins                 234 non-null int64\n",
      "Loss                 234 non-null int64\n",
      "Win%                 234 non-null float64\n",
      "Last Word            234 non-null object\n",
      "Full Team Name       234 non-null object\n",
      "Attendance           234 non-null object\n",
      "dtypes: float64(2), int64(3), object(4)\n",
      "memory usage: 18.3+ KB\n"
     ]
    }
   ],
   "source": [
    "merged_df.info()"
   ]
  },
  {
   "cell_type": "code",
   "execution_count": 534,
   "metadata": {
    "collapsed": false
   },
   "outputs": [
    {
     "data": {
      "text/html": [
       "<div>\n",
       "<table border=\"1\" class=\"dataframe\">\n",
       "  <thead>\n",
       "    <tr style=\"text-align: right;\">\n",
       "      <th></th>\n",
       "      <th>Team and Location</th>\n",
       "      <th>FT/Game</th>\n",
       "      <th>Wins</th>\n",
       "      <th>Loss</th>\n",
       "      <th>Win%</th>\n",
       "      <th>Last Word</th>\n",
       "      <th>Full Team Name</th>\n",
       "      <th>Attendance</th>\n",
       "    </tr>\n",
       "    <tr>\n",
       "      <th>Year</th>\n",
       "      <th></th>\n",
       "      <th></th>\n",
       "      <th></th>\n",
       "      <th></th>\n",
       "      <th></th>\n",
       "      <th></th>\n",
       "      <th></th>\n",
       "      <th></th>\n",
       "    </tr>\n",
       "  </thead>\n",
       "  <tbody>\n",
       "    <tr>\n",
       "      <th>2009</th>\n",
       "      <td>29</td>\n",
       "      <td>29</td>\n",
       "      <td>29</td>\n",
       "      <td>29</td>\n",
       "      <td>29</td>\n",
       "      <td>29</td>\n",
       "      <td>29</td>\n",
       "      <td>29</td>\n",
       "    </tr>\n",
       "    <tr>\n",
       "      <th>2010</th>\n",
       "      <td>29</td>\n",
       "      <td>29</td>\n",
       "      <td>29</td>\n",
       "      <td>29</td>\n",
       "      <td>29</td>\n",
       "      <td>29</td>\n",
       "      <td>29</td>\n",
       "      <td>29</td>\n",
       "    </tr>\n",
       "    <tr>\n",
       "      <th>2011</th>\n",
       "      <td>29</td>\n",
       "      <td>29</td>\n",
       "      <td>29</td>\n",
       "      <td>29</td>\n",
       "      <td>29</td>\n",
       "      <td>29</td>\n",
       "      <td>29</td>\n",
       "      <td>29</td>\n",
       "    </tr>\n",
       "    <tr>\n",
       "      <th>2012</th>\n",
       "      <td>29</td>\n",
       "      <td>29</td>\n",
       "      <td>29</td>\n",
       "      <td>29</td>\n",
       "      <td>29</td>\n",
       "      <td>29</td>\n",
       "      <td>29</td>\n",
       "      <td>29</td>\n",
       "    </tr>\n",
       "    <tr>\n",
       "      <th>2013</th>\n",
       "      <td>29</td>\n",
       "      <td>29</td>\n",
       "      <td>29</td>\n",
       "      <td>29</td>\n",
       "      <td>29</td>\n",
       "      <td>29</td>\n",
       "      <td>29</td>\n",
       "      <td>29</td>\n",
       "    </tr>\n",
       "    <tr>\n",
       "      <th>2014</th>\n",
       "      <td>29</td>\n",
       "      <td>29</td>\n",
       "      <td>29</td>\n",
       "      <td>29</td>\n",
       "      <td>29</td>\n",
       "      <td>29</td>\n",
       "      <td>29</td>\n",
       "      <td>29</td>\n",
       "    </tr>\n",
       "    <tr>\n",
       "      <th>2015</th>\n",
       "      <td>30</td>\n",
       "      <td>30</td>\n",
       "      <td>30</td>\n",
       "      <td>30</td>\n",
       "      <td>30</td>\n",
       "      <td>30</td>\n",
       "      <td>30</td>\n",
       "      <td>30</td>\n",
       "    </tr>\n",
       "    <tr>\n",
       "      <th>2016</th>\n",
       "      <td>30</td>\n",
       "      <td>30</td>\n",
       "      <td>30</td>\n",
       "      <td>30</td>\n",
       "      <td>30</td>\n",
       "      <td>30</td>\n",
       "      <td>30</td>\n",
       "      <td>30</td>\n",
       "    </tr>\n",
       "  </tbody>\n",
       "</table>\n",
       "</div>"
      ],
      "text/plain": [
       "      Team and Location  FT/Game  Wins  Loss  Win%  Last Word  Full Team Name  \\\n",
       "Year                                                                            \n",
       "2009                 29       29    29    29    29         29              29   \n",
       "2010                 29       29    29    29    29         29              29   \n",
       "2011                 29       29    29    29    29         29              29   \n",
       "2012                 29       29    29    29    29         29              29   \n",
       "2013                 29       29    29    29    29         29              29   \n",
       "2014                 29       29    29    29    29         29              29   \n",
       "2015                 30       30    30    30    30         30              30   \n",
       "2016                 30       30    30    30    30         30              30   \n",
       "\n",
       "      Attendance  \n",
       "Year              \n",
       "2009          29  \n",
       "2010          29  \n",
       "2011          29  \n",
       "2012          29  \n",
       "2013          29  \n",
       "2014          29  \n",
       "2015          30  \n",
       "2016          30  "
      ]
     },
     "execution_count": 534,
     "metadata": {},
     "output_type": "execute_result"
    }
   ],
   "source": [
    "merged_df.groupby('Year').count()"
   ]
  },
  {
   "cell_type": "code",
   "execution_count": 536,
   "metadata": {
    "collapsed": false
   },
   "outputs": [
    {
     "data": {
      "text/html": [
       "<div>\n",
       "<table border=\"1\" class=\"dataframe\">\n",
       "  <thead>\n",
       "    <tr style=\"text-align: right;\">\n",
       "      <th></th>\n",
       "      <th>Year</th>\n",
       "      <th>Team and Location</th>\n",
       "      <th>FT/Game</th>\n",
       "      <th>Wins</th>\n",
       "      <th>Loss</th>\n",
       "      <th>Win%</th>\n",
       "      <th>Last Word</th>\n",
       "    </tr>\n",
       "  </thead>\n",
       "  <tbody>\n",
       "    <tr>\n",
       "      <th>0</th>\n",
       "      <td>2009</td>\n",
       "      <td>Boston Celtics</td>\n",
       "      <td>25.304878</td>\n",
       "      <td>61</td>\n",
       "      <td>21</td>\n",
       "      <td>74.390244</td>\n",
       "      <td>Celtics</td>\n",
       "    </tr>\n",
       "    <tr>\n",
       "      <th>1</th>\n",
       "      <td>2009</td>\n",
       "      <td>Philadelphia 76ers</td>\n",
       "      <td>27.024390</td>\n",
       "      <td>41</td>\n",
       "      <td>41</td>\n",
       "      <td>50.000000</td>\n",
       "      <td>76ers</td>\n",
       "    </tr>\n",
       "    <tr>\n",
       "      <th>2</th>\n",
       "      <td>2009</td>\n",
       "      <td>New Jersey Nets</td>\n",
       "      <td>24.146341</td>\n",
       "      <td>34</td>\n",
       "      <td>48</td>\n",
       "      <td>41.463415</td>\n",
       "      <td>Nets</td>\n",
       "    </tr>\n",
       "    <tr>\n",
       "      <th>3</th>\n",
       "      <td>2009</td>\n",
       "      <td>Toronto Raptors</td>\n",
       "      <td>22.695122</td>\n",
       "      <td>33</td>\n",
       "      <td>49</td>\n",
       "      <td>40.243902</td>\n",
       "      <td>Raptors</td>\n",
       "    </tr>\n",
       "    <tr>\n",
       "      <th>4</th>\n",
       "      <td>2009</td>\n",
       "      <td>New York Knicks</td>\n",
       "      <td>23.170732</td>\n",
       "      <td>34</td>\n",
       "      <td>48</td>\n",
       "      <td>41.463415</td>\n",
       "      <td>Knicks</td>\n",
       "    </tr>\n",
       "    <tr>\n",
       "      <th>5</th>\n",
       "      <td>2009</td>\n",
       "      <td>Cleveland Cavaliers</td>\n",
       "      <td>24.536585</td>\n",
       "      <td>65</td>\n",
       "      <td>17</td>\n",
       "      <td>79.268293</td>\n",
       "      <td>Cavaliers</td>\n",
       "    </tr>\n",
       "    <tr>\n",
       "      <th>6</th>\n",
       "      <td>2009</td>\n",
       "      <td>Chicago Bulls</td>\n",
       "      <td>25.024390</td>\n",
       "      <td>40</td>\n",
       "      <td>42</td>\n",
       "      <td>48.780488</td>\n",
       "      <td>Bulls</td>\n",
       "    </tr>\n",
       "    <tr>\n",
       "      <th>7</th>\n",
       "      <td>2009</td>\n",
       "      <td>Detroit Pistons</td>\n",
       "      <td>22.548780</td>\n",
       "      <td>40</td>\n",
       "      <td>42</td>\n",
       "      <td>48.780488</td>\n",
       "      <td>Pistons</td>\n",
       "    </tr>\n",
       "    <tr>\n",
       "      <th>8</th>\n",
       "      <td>2009</td>\n",
       "      <td>Indiana Pacers</td>\n",
       "      <td>23.048780</td>\n",
       "      <td>38</td>\n",
       "      <td>44</td>\n",
       "      <td>46.341463</td>\n",
       "      <td>Pacers</td>\n",
       "    </tr>\n",
       "    <tr>\n",
       "      <th>9</th>\n",
       "      <td>2009</td>\n",
       "      <td>Milwaukee Bucks</td>\n",
       "      <td>25.207317</td>\n",
       "      <td>38</td>\n",
       "      <td>44</td>\n",
       "      <td>46.341463</td>\n",
       "      <td>Bucks</td>\n",
       "    </tr>\n",
       "    <tr>\n",
       "      <th>10</th>\n",
       "      <td>2009</td>\n",
       "      <td>Orlando Magic</td>\n",
       "      <td>27.475610</td>\n",
       "      <td>59</td>\n",
       "      <td>23</td>\n",
       "      <td>71.951220</td>\n",
       "      <td>Magic</td>\n",
       "    </tr>\n",
       "    <tr>\n",
       "      <th>11</th>\n",
       "      <td>2009</td>\n",
       "      <td>Atlanta Hawks</td>\n",
       "      <td>25.426829</td>\n",
       "      <td>46</td>\n",
       "      <td>36</td>\n",
       "      <td>56.097561</td>\n",
       "      <td>Hawks</td>\n",
       "    </tr>\n",
       "    <tr>\n",
       "      <th>12</th>\n",
       "      <td>2009</td>\n",
       "      <td>Miami Heat</td>\n",
       "      <td>22.817073</td>\n",
       "      <td>42</td>\n",
       "      <td>40</td>\n",
       "      <td>51.219512</td>\n",
       "      <td>Heat</td>\n",
       "    </tr>\n",
       "    <tr>\n",
       "      <th>13</th>\n",
       "      <td>2009</td>\n",
       "      <td>Charlotte Bobcats</td>\n",
       "      <td>23.963415</td>\n",
       "      <td>37</td>\n",
       "      <td>45</td>\n",
       "      <td>45.121951</td>\n",
       "      <td>Bobcats</td>\n",
       "    </tr>\n",
       "    <tr>\n",
       "      <th>14</th>\n",
       "      <td>2009</td>\n",
       "      <td>Washington Wizards</td>\n",
       "      <td>23.756098</td>\n",
       "      <td>21</td>\n",
       "      <td>61</td>\n",
       "      <td>25.609756</td>\n",
       "      <td>Wizards</td>\n",
       "    </tr>\n",
       "    <tr>\n",
       "      <th>15</th>\n",
       "      <td>2009</td>\n",
       "      <td>Denver Nuggets</td>\n",
       "      <td>30.329268</td>\n",
       "      <td>50</td>\n",
       "      <td>32</td>\n",
       "      <td>60.975610</td>\n",
       "      <td>Nuggets</td>\n",
       "    </tr>\n",
       "    <tr>\n",
       "      <th>16</th>\n",
       "      <td>2009</td>\n",
       "      <td>Portland Trail Blazers</td>\n",
       "      <td>24.243902</td>\n",
       "      <td>56</td>\n",
       "      <td>26</td>\n",
       "      <td>68.292683</td>\n",
       "      <td>Blazers</td>\n",
       "    </tr>\n",
       "    <tr>\n",
       "      <th>17</th>\n",
       "      <td>2009</td>\n",
       "      <td>Utah Jazz</td>\n",
       "      <td>28.682927</td>\n",
       "      <td>48</td>\n",
       "      <td>34</td>\n",
       "      <td>58.536585</td>\n",
       "      <td>Jazz</td>\n",
       "    </tr>\n",
       "    <tr>\n",
       "      <th>18</th>\n",
       "      <td>2009</td>\n",
       "      <td>Minnesota Timberwolves</td>\n",
       "      <td>23.865854</td>\n",
       "      <td>27</td>\n",
       "      <td>55</td>\n",
       "      <td>32.926829</td>\n",
       "      <td>Timberwolves</td>\n",
       "    </tr>\n",
       "    <tr>\n",
       "      <th>19</th>\n",
       "      <td>2009</td>\n",
       "      <td>Oklahoma City Thunder</td>\n",
       "      <td>25.231707</td>\n",
       "      <td>24</td>\n",
       "      <td>58</td>\n",
       "      <td>29.268293</td>\n",
       "      <td>Thunder</td>\n",
       "    </tr>\n",
       "    <tr>\n",
       "      <th>20</th>\n",
       "      <td>2009</td>\n",
       "      <td>Los Angeles Lakers</td>\n",
       "      <td>25.451220</td>\n",
       "      <td>61</td>\n",
       "      <td>21</td>\n",
       "      <td>74.390244</td>\n",
       "      <td>Lakers</td>\n",
       "    </tr>\n",
       "    <tr>\n",
       "      <th>21</th>\n",
       "      <td>2009</td>\n",
       "      <td>Phoenix Suns</td>\n",
       "      <td>27.451220</td>\n",
       "      <td>46</td>\n",
       "      <td>36</td>\n",
       "      <td>56.097561</td>\n",
       "      <td>Suns</td>\n",
       "    </tr>\n",
       "    <tr>\n",
       "      <th>22</th>\n",
       "      <td>2009</td>\n",
       "      <td>Golden State Warriors</td>\n",
       "      <td>29.170732</td>\n",
       "      <td>31</td>\n",
       "      <td>51</td>\n",
       "      <td>37.804878</td>\n",
       "      <td>Warriors</td>\n",
       "    </tr>\n",
       "    <tr>\n",
       "      <th>23</th>\n",
       "      <td>2009</td>\n",
       "      <td>Los Angeles Clippers</td>\n",
       "      <td>22.426829</td>\n",
       "      <td>18</td>\n",
       "      <td>64</td>\n",
       "      <td>21.951220</td>\n",
       "      <td>Clippers</td>\n",
       "    </tr>\n",
       "    <tr>\n",
       "      <th>24</th>\n",
       "      <td>2009</td>\n",
       "      <td>Sacramento Kings</td>\n",
       "      <td>25.695122</td>\n",
       "      <td>19</td>\n",
       "      <td>63</td>\n",
       "      <td>23.170732</td>\n",
       "      <td>Kings</td>\n",
       "    </tr>\n",
       "    <tr>\n",
       "      <th>25</th>\n",
       "      <td>2009</td>\n",
       "      <td>San Antonio Spurs</td>\n",
       "      <td>20.012195</td>\n",
       "      <td>52</td>\n",
       "      <td>30</td>\n",
       "      <td>63.414634</td>\n",
       "      <td>Spurs</td>\n",
       "    </tr>\n",
       "    <tr>\n",
       "      <th>26</th>\n",
       "      <td>2009</td>\n",
       "      <td>Houston Rockets</td>\n",
       "      <td>23.207317</td>\n",
       "      <td>53</td>\n",
       "      <td>29</td>\n",
       "      <td>64.634146</td>\n",
       "      <td>Rockets</td>\n",
       "    </tr>\n",
       "    <tr>\n",
       "      <th>27</th>\n",
       "      <td>2009</td>\n",
       "      <td>Dallas Mavericks</td>\n",
       "      <td>22.585366</td>\n",
       "      <td>47</td>\n",
       "      <td>35</td>\n",
       "      <td>57.317073</td>\n",
       "      <td>Mavericks</td>\n",
       "    </tr>\n",
       "    <tr>\n",
       "      <th>28</th>\n",
       "      <td>2009</td>\n",
       "      <td>New Orleans Hornets</td>\n",
       "      <td>22.353659</td>\n",
       "      <td>46</td>\n",
       "      <td>36</td>\n",
       "      <td>56.097561</td>\n",
       "      <td>Hornets</td>\n",
       "    </tr>\n",
       "    <tr>\n",
       "      <th>29</th>\n",
       "      <td>2009</td>\n",
       "      <td>Memphis Grizzlies</td>\n",
       "      <td>25.329268</td>\n",
       "      <td>26</td>\n",
       "      <td>56</td>\n",
       "      <td>31.707317</td>\n",
       "      <td>Grizzlies</td>\n",
       "    </tr>\n",
       "  </tbody>\n",
       "</table>\n",
       "</div>"
      ],
      "text/plain": [
       "    Year       Team and Location    FT/Game  Wins  Loss       Win%  \\\n",
       "0   2009          Boston Celtics  25.304878    61    21  74.390244   \n",
       "1   2009      Philadelphia 76ers  27.024390    41    41  50.000000   \n",
       "2   2009         New Jersey Nets  24.146341    34    48  41.463415   \n",
       "3   2009         Toronto Raptors  22.695122    33    49  40.243902   \n",
       "4   2009         New York Knicks  23.170732    34    48  41.463415   \n",
       "5   2009     Cleveland Cavaliers  24.536585    65    17  79.268293   \n",
       "6   2009           Chicago Bulls  25.024390    40    42  48.780488   \n",
       "7   2009         Detroit Pistons  22.548780    40    42  48.780488   \n",
       "8   2009          Indiana Pacers  23.048780    38    44  46.341463   \n",
       "9   2009         Milwaukee Bucks  25.207317    38    44  46.341463   \n",
       "10  2009           Orlando Magic  27.475610    59    23  71.951220   \n",
       "11  2009           Atlanta Hawks  25.426829    46    36  56.097561   \n",
       "12  2009              Miami Heat  22.817073    42    40  51.219512   \n",
       "13  2009       Charlotte Bobcats  23.963415    37    45  45.121951   \n",
       "14  2009      Washington Wizards  23.756098    21    61  25.609756   \n",
       "15  2009          Denver Nuggets  30.329268    50    32  60.975610   \n",
       "16  2009  Portland Trail Blazers  24.243902    56    26  68.292683   \n",
       "17  2009               Utah Jazz  28.682927    48    34  58.536585   \n",
       "18  2009  Minnesota Timberwolves  23.865854    27    55  32.926829   \n",
       "19  2009   Oklahoma City Thunder  25.231707    24    58  29.268293   \n",
       "20  2009      Los Angeles Lakers  25.451220    61    21  74.390244   \n",
       "21  2009            Phoenix Suns  27.451220    46    36  56.097561   \n",
       "22  2009   Golden State Warriors  29.170732    31    51  37.804878   \n",
       "23  2009    Los Angeles Clippers  22.426829    18    64  21.951220   \n",
       "24  2009        Sacramento Kings  25.695122    19    63  23.170732   \n",
       "25  2009       San Antonio Spurs  20.012195    52    30  63.414634   \n",
       "26  2009         Houston Rockets  23.207317    53    29  64.634146   \n",
       "27  2009        Dallas Mavericks  22.585366    47    35  57.317073   \n",
       "28  2009     New Orleans Hornets  22.353659    46    36  56.097561   \n",
       "29  2009       Memphis Grizzlies  25.329268    26    56  31.707317   \n",
       "\n",
       "       Last Word  \n",
       "0        Celtics  \n",
       "1          76ers  \n",
       "2           Nets  \n",
       "3        Raptors  \n",
       "4         Knicks  \n",
       "5      Cavaliers  \n",
       "6          Bulls  \n",
       "7        Pistons  \n",
       "8         Pacers  \n",
       "9          Bucks  \n",
       "10         Magic  \n",
       "11         Hawks  \n",
       "12          Heat  \n",
       "13       Bobcats  \n",
       "14       Wizards  \n",
       "15       Nuggets  \n",
       "16       Blazers  \n",
       "17          Jazz  \n",
       "18  Timberwolves  \n",
       "19       Thunder  \n",
       "20        Lakers  \n",
       "21          Suns  \n",
       "22      Warriors  \n",
       "23      Clippers  \n",
       "24         Kings  \n",
       "25         Spurs  \n",
       "26       Rockets  \n",
       "27     Mavericks  \n",
       "28       Hornets  \n",
       "29     Grizzlies  "
      ]
     },
     "execution_count": 536,
     "metadata": {},
     "output_type": "execute_result"
    }
   ],
   "source": [
    "df.head(30)"
   ]
  },
  {
   "cell_type": "code",
   "execution_count": 543,
   "metadata": {
    "collapsed": false
   },
   "outputs": [
    {
     "data": {
      "text/html": [
       "<div>\n",
       "<table border=\"1\" class=\"dataframe\">\n",
       "  <thead>\n",
       "    <tr style=\"text-align: right;\">\n",
       "      <th></th>\n",
       "      <th>Full Team Name</th>\n",
       "      <th>Year</th>\n",
       "      <th>Attendance</th>\n",
       "      <th>Last Word</th>\n",
       "    </tr>\n",
       "  </thead>\n",
       "  <tbody>\n",
       "    <tr>\n",
       "      <th>0</th>\n",
       "      <td>Pistons</td>\n",
       "      <td>2009</td>\n",
       "      <td>21,877</td>\n",
       "      <td>Pistons</td>\n",
       "    </tr>\n",
       "    <tr>\n",
       "      <th>1</th>\n",
       "      <td>Bulls</td>\n",
       "      <td>2009</td>\n",
       "      <td>21,197</td>\n",
       "      <td>Bulls</td>\n",
       "    </tr>\n",
       "    <tr>\n",
       "      <th>2</th>\n",
       "      <td>Trail Blazers</td>\n",
       "      <td>2009</td>\n",
       "      <td>20,524</td>\n",
       "      <td>Blazers</td>\n",
       "    </tr>\n",
       "    <tr>\n",
       "      <th>3</th>\n",
       "      <td>Mavericks</td>\n",
       "      <td>2009</td>\n",
       "      <td>20,042</td>\n",
       "      <td>Mavericks</td>\n",
       "    </tr>\n",
       "    <tr>\n",
       "      <th>4</th>\n",
       "      <td>Cavaliers</td>\n",
       "      <td>2009</td>\n",
       "      <td>20,010</td>\n",
       "      <td>Cavaliers</td>\n",
       "    </tr>\n",
       "    <tr>\n",
       "      <th>5</th>\n",
       "      <td>Jazz</td>\n",
       "      <td>2009</td>\n",
       "      <td>19,903</td>\n",
       "      <td>Jazz</td>\n",
       "    </tr>\n",
       "    <tr>\n",
       "      <th>6</th>\n",
       "      <td>NY Knicks</td>\n",
       "      <td>2009</td>\n",
       "      <td>19,287</td>\n",
       "      <td>Knicks</td>\n",
       "    </tr>\n",
       "    <tr>\n",
       "      <th>7</th>\n",
       "      <td>Lakers</td>\n",
       "      <td>2009</td>\n",
       "      <td>18,997</td>\n",
       "      <td>Lakers</td>\n",
       "    </tr>\n",
       "    <tr>\n",
       "      <th>8</th>\n",
       "      <td>Warriors</td>\n",
       "      <td>2009</td>\n",
       "      <td>18,942</td>\n",
       "      <td>Warriors</td>\n",
       "    </tr>\n",
       "    <tr>\n",
       "      <th>9</th>\n",
       "      <td>Raptors</td>\n",
       "      <td>2009</td>\n",
       "      <td>18,773</td>\n",
       "      <td>Raptors</td>\n",
       "    </tr>\n",
       "    <tr>\n",
       "      <th>10</th>\n",
       "      <td>Thunder</td>\n",
       "      <td>2009</td>\n",
       "      <td>18,693</td>\n",
       "      <td>Thunder</td>\n",
       "    </tr>\n",
       "    <tr>\n",
       "      <th>11</th>\n",
       "      <td>Celtics</td>\n",
       "      <td>2009</td>\n",
       "      <td>18,624</td>\n",
       "      <td>Celtics</td>\n",
       "    </tr>\n",
       "    <tr>\n",
       "      <th>12</th>\n",
       "      <td>Suns</td>\n",
       "      <td>2009</td>\n",
       "      <td>18,422</td>\n",
       "      <td>Suns</td>\n",
       "    </tr>\n",
       "    <tr>\n",
       "      <th>13</th>\n",
       "      <td>Spurs</td>\n",
       "      <td>2009</td>\n",
       "      <td>18,269</td>\n",
       "      <td>Spurs</td>\n",
       "    </tr>\n",
       "    <tr>\n",
       "      <th>14</th>\n",
       "      <td>Heat</td>\n",
       "      <td>2009</td>\n",
       "      <td>18,229</td>\n",
       "      <td>Heat</td>\n",
       "    </tr>\n",
       "    <tr>\n",
       "      <th>15</th>\n",
       "      <td>Rockets</td>\n",
       "      <td>2009</td>\n",
       "      <td>17,482</td>\n",
       "      <td>Rockets</td>\n",
       "    </tr>\n",
       "    <tr>\n",
       "      <th>16</th>\n",
       "      <td>Nuggets</td>\n",
       "      <td>2009</td>\n",
       "      <td>17,223</td>\n",
       "      <td>Nuggets</td>\n",
       "    </tr>\n",
       "    <tr>\n",
       "      <th>17</th>\n",
       "      <td>Magic</td>\n",
       "      <td>2009</td>\n",
       "      <td>17,043</td>\n",
       "      <td>Magic</td>\n",
       "    </tr>\n",
       "    <tr>\n",
       "      <th>18</th>\n",
       "      <td>Pelicans</td>\n",
       "      <td>2009</td>\n",
       "      <td>16,968</td>\n",
       "      <td>Pelicans</td>\n",
       "    </tr>\n",
       "    <tr>\n",
       "      <th>19</th>\n",
       "      <td>Hawks</td>\n",
       "      <td>2009</td>\n",
       "      <td>16,748</td>\n",
       "      <td>Hawks</td>\n",
       "    </tr>\n",
       "    <tr>\n",
       "      <th>20</th>\n",
       "      <td>Wizards</td>\n",
       "      <td>2009</td>\n",
       "      <td>16,612</td>\n",
       "      <td>Wizards</td>\n",
       "    </tr>\n",
       "    <tr>\n",
       "      <th>21</th>\n",
       "      <td>Clippers</td>\n",
       "      <td>2009</td>\n",
       "      <td>16,170</td>\n",
       "      <td>Clippers</td>\n",
       "    </tr>\n",
       "    <tr>\n",
       "      <th>22</th>\n",
       "      <td>76ers</td>\n",
       "      <td>2009</td>\n",
       "      <td>15,802</td>\n",
       "      <td>76ers</td>\n",
       "    </tr>\n",
       "    <tr>\n",
       "      <th>23</th>\n",
       "      <td>Bucks</td>\n",
       "      <td>2009</td>\n",
       "      <td>15,389</td>\n",
       "      <td>Bucks</td>\n",
       "    </tr>\n",
       "    <tr>\n",
       "      <th>24</th>\n",
       "      <td>Nets</td>\n",
       "      <td>2009</td>\n",
       "      <td>15,147</td>\n",
       "      <td>Nets</td>\n",
       "    </tr>\n",
       "    <tr>\n",
       "      <th>25</th>\n",
       "      <td>Hornets</td>\n",
       "      <td>2009</td>\n",
       "      <td>14,526</td>\n",
       "      <td>Hornets</td>\n",
       "    </tr>\n",
       "    <tr>\n",
       "      <th>26</th>\n",
       "      <td>Timberwolves</td>\n",
       "      <td>2009</td>\n",
       "      <td>14,505</td>\n",
       "      <td>Timberwolves</td>\n",
       "    </tr>\n",
       "    <tr>\n",
       "      <th>27</th>\n",
       "      <td>Pacers</td>\n",
       "      <td>2009</td>\n",
       "      <td>14,182</td>\n",
       "      <td>Pacers</td>\n",
       "    </tr>\n",
       "    <tr>\n",
       "      <th>28</th>\n",
       "      <td>Grizzlies</td>\n",
       "      <td>2009</td>\n",
       "      <td>12,745</td>\n",
       "      <td>Grizzlies</td>\n",
       "    </tr>\n",
       "    <tr>\n",
       "      <th>29</th>\n",
       "      <td>Kings</td>\n",
       "      <td>2009</td>\n",
       "      <td>12,571</td>\n",
       "      <td>Kings</td>\n",
       "    </tr>\n",
       "  </tbody>\n",
       "</table>\n",
       "</div>"
      ],
      "text/plain": [
       "   Full Team Name  Year Attendance     Last Word\n",
       "0         Pistons  2009     21,877       Pistons\n",
       "1           Bulls  2009     21,197         Bulls\n",
       "2   Trail Blazers  2009     20,524       Blazers\n",
       "3       Mavericks  2009     20,042     Mavericks\n",
       "4       Cavaliers  2009     20,010     Cavaliers\n",
       "5            Jazz  2009     19,903          Jazz\n",
       "6       NY Knicks  2009     19,287        Knicks\n",
       "7          Lakers  2009     18,997        Lakers\n",
       "8        Warriors  2009     18,942      Warriors\n",
       "9         Raptors  2009     18,773       Raptors\n",
       "10        Thunder  2009     18,693       Thunder\n",
       "11        Celtics  2009     18,624       Celtics\n",
       "12           Suns  2009     18,422          Suns\n",
       "13          Spurs  2009     18,269         Spurs\n",
       "14           Heat  2009     18,229          Heat\n",
       "15        Rockets  2009     17,482       Rockets\n",
       "16        Nuggets  2009     17,223       Nuggets\n",
       "17          Magic  2009     17,043         Magic\n",
       "18       Pelicans  2009     16,968      Pelicans\n",
       "19          Hawks  2009     16,748         Hawks\n",
       "20        Wizards  2009     16,612       Wizards\n",
       "21       Clippers  2009     16,170      Clippers\n",
       "22          76ers  2009     15,802         76ers\n",
       "23          Bucks  2009     15,389         Bucks\n",
       "24           Nets  2009     15,147          Nets\n",
       "25        Hornets  2009     14,526       Hornets\n",
       "26   Timberwolves  2009     14,505  Timberwolves\n",
       "27         Pacers  2009     14,182        Pacers\n",
       "28      Grizzlies  2009     12,745     Grizzlies\n",
       "29          Kings  2009     12,571         Kings"
      ]
     },
     "execution_count": 543,
     "metadata": {},
     "output_type": "execute_result"
    }
   ],
   "source": [
    "df2.head(30)"
   ]
  },
  {
   "cell_type": "markdown",
   "metadata": {},
   "source": [
    "## Bobcats/Hornets messing up data"
   ]
  },
  {
   "cell_type": "code",
   "execution_count": 544,
   "metadata": {
    "collapsed": true
   },
   "outputs": [],
   "source": [
    "df = df.replace('Bobcats', 'Hornets')"
   ]
  },
  {
   "cell_type": "code",
   "execution_count": 546,
   "metadata": {
    "collapsed": false
   },
   "outputs": [],
   "source": [
    "merged_df = pd.merge(df, df2, how='inner', on=['Last Word', 'Year'])"
   ]
  },
  {
   "cell_type": "code",
   "execution_count": 547,
   "metadata": {
    "collapsed": false,
    "scrolled": true
   },
   "outputs": [
    {
     "name": "stdout",
     "output_type": "stream",
     "text": [
      "<class 'pandas.core.frame.DataFrame'>\n",
      "Int64Index: 240 entries, 0 to 239\n",
      "Data columns (total 9 columns):\n",
      "Year                 240 non-null int64\n",
      "Team and Location    240 non-null object\n",
      "FT/Game              240 non-null float64\n",
      "Wins                 240 non-null int64\n",
      "Loss                 240 non-null int64\n",
      "Win%                 240 non-null float64\n",
      "Last Word            240 non-null object\n",
      "Full Team Name       240 non-null object\n",
      "Attendance           240 non-null object\n",
      "dtypes: float64(2), int64(3), object(4)\n",
      "memory usage: 18.8+ KB\n"
     ]
    }
   ],
   "source": [
    "merged_df.info()"
   ]
  },
  {
   "cell_type": "code",
   "execution_count": 552,
   "metadata": {
    "collapsed": false
   },
   "outputs": [
    {
     "data": {
      "text/html": [
       "<div>\n",
       "<table border=\"1\" class=\"dataframe\">\n",
       "  <thead>\n",
       "    <tr style=\"text-align: right;\">\n",
       "      <th></th>\n",
       "      <th>Year</th>\n",
       "      <th>Team and Location</th>\n",
       "      <th>FT/Game</th>\n",
       "      <th>Wins</th>\n",
       "      <th>Loss</th>\n",
       "      <th>Win%</th>\n",
       "      <th>Last Word</th>\n",
       "      <th>Full Team Name</th>\n",
       "      <th>Attendance</th>\n",
       "    </tr>\n",
       "  </thead>\n",
       "  <tbody>\n",
       "    <tr>\n",
       "      <th>0</th>\n",
       "      <td>2009</td>\n",
       "      <td>Boston Celtics</td>\n",
       "      <td>25.304878</td>\n",
       "      <td>61</td>\n",
       "      <td>21</td>\n",
       "      <td>74.390244</td>\n",
       "      <td>Celtics</td>\n",
       "      <td>Celtics</td>\n",
       "      <td>18,624</td>\n",
       "    </tr>\n",
       "    <tr>\n",
       "      <th>1</th>\n",
       "      <td>2009</td>\n",
       "      <td>Philadelphia 76ers</td>\n",
       "      <td>27.024390</td>\n",
       "      <td>41</td>\n",
       "      <td>41</td>\n",
       "      <td>50.000000</td>\n",
       "      <td>76ers</td>\n",
       "      <td>76ers</td>\n",
       "      <td>15,802</td>\n",
       "    </tr>\n",
       "    <tr>\n",
       "      <th>2</th>\n",
       "      <td>2009</td>\n",
       "      <td>New Jersey Nets</td>\n",
       "      <td>24.146341</td>\n",
       "      <td>34</td>\n",
       "      <td>48</td>\n",
       "      <td>41.463415</td>\n",
       "      <td>Nets</td>\n",
       "      <td>Nets</td>\n",
       "      <td>15,147</td>\n",
       "    </tr>\n",
       "    <tr>\n",
       "      <th>3</th>\n",
       "      <td>2009</td>\n",
       "      <td>Toronto Raptors</td>\n",
       "      <td>22.695122</td>\n",
       "      <td>33</td>\n",
       "      <td>49</td>\n",
       "      <td>40.243902</td>\n",
       "      <td>Raptors</td>\n",
       "      <td>Raptors</td>\n",
       "      <td>18,773</td>\n",
       "    </tr>\n",
       "    <tr>\n",
       "      <th>4</th>\n",
       "      <td>2009</td>\n",
       "      <td>New York Knicks</td>\n",
       "      <td>23.170732</td>\n",
       "      <td>34</td>\n",
       "      <td>48</td>\n",
       "      <td>41.463415</td>\n",
       "      <td>Knicks</td>\n",
       "      <td>NY Knicks</td>\n",
       "      <td>19,287</td>\n",
       "    </tr>\n",
       "  </tbody>\n",
       "</table>\n",
       "</div>"
      ],
      "text/plain": [
       "   Year   Team and Location    FT/Game  Wins  Loss       Win% Last Word  \\\n",
       "0  2009      Boston Celtics  25.304878    61    21  74.390244   Celtics   \n",
       "1  2009  Philadelphia 76ers  27.024390    41    41  50.000000     76ers   \n",
       "2  2009     New Jersey Nets  24.146341    34    48  41.463415      Nets   \n",
       "3  2009     Toronto Raptors  22.695122    33    49  40.243902   Raptors   \n",
       "4  2009     New York Knicks  23.170732    34    48  41.463415    Knicks   \n",
       "\n",
       "  Full Team Name Attendance  \n",
       "0        Celtics     18,624  \n",
       "1          76ers     15,802  \n",
       "2           Nets     15,147  \n",
       "3        Raptors     18,773  \n",
       "4      NY Knicks     19,287  "
      ]
     },
     "execution_count": 552,
     "metadata": {},
     "output_type": "execute_result"
    }
   ],
   "source": [
    "merged_df.head()"
   ]
  },
  {
   "cell_type": "code",
   "execution_count": 558,
   "metadata": {
    "collapsed": true
   },
   "outputs": [],
   "source": [
    "merged_df['Attendance'] = merged_df['Attendance'].str.replace(',', '')"
   ]
  },
  {
   "cell_type": "code",
   "execution_count": 561,
   "metadata": {
    "collapsed": false
   },
   "outputs": [],
   "source": [
    "merged_df['Attendance'] = merged_df['Attendance'].astype(int)"
   ]
  },
  {
   "cell_type": "code",
   "execution_count": 562,
   "metadata": {
    "collapsed": false
   },
   "outputs": [
    {
     "name": "stdout",
     "output_type": "stream",
     "text": [
      "<class 'pandas.core.frame.DataFrame'>\n",
      "Int64Index: 240 entries, 0 to 239\n",
      "Data columns (total 9 columns):\n",
      "Year                 240 non-null int64\n",
      "Team and Location    240 non-null object\n",
      "FT/Game              240 non-null float64\n",
      "Wins                 240 non-null int64\n",
      "Loss                 240 non-null int64\n",
      "Win%                 240 non-null float64\n",
      "Last Word            240 non-null object\n",
      "Full Team Name       240 non-null object\n",
      "Attendance           240 non-null int64\n",
      "dtypes: float64(2), int64(4), object(3)\n",
      "memory usage: 18.8+ KB\n"
     ]
    }
   ],
   "source": [
    "merged_df.info()"
   ]
  },
  {
   "cell_type": "code",
   "execution_count": 563,
   "metadata": {
    "collapsed": false
   },
   "outputs": [],
   "source": [
    "clean_df_towrite = merged_df.drop(['Last Word','Full Team Name'], axis=1)"
   ]
  },
  {
   "cell_type": "code",
   "execution_count": 564,
   "metadata": {
    "collapsed": false
   },
   "outputs": [
    {
     "data": {
      "text/html": [
       "<div>\n",
       "<table border=\"1\" class=\"dataframe\">\n",
       "  <thead>\n",
       "    <tr style=\"text-align: right;\">\n",
       "      <th></th>\n",
       "      <th>Year</th>\n",
       "      <th>Team and Location</th>\n",
       "      <th>FT/Game</th>\n",
       "      <th>Wins</th>\n",
       "      <th>Loss</th>\n",
       "      <th>Win%</th>\n",
       "      <th>Attendance</th>\n",
       "    </tr>\n",
       "  </thead>\n",
       "  <tbody>\n",
       "    <tr>\n",
       "      <th>0</th>\n",
       "      <td>2009</td>\n",
       "      <td>Boston Celtics</td>\n",
       "      <td>25.304878</td>\n",
       "      <td>61</td>\n",
       "      <td>21</td>\n",
       "      <td>74.390244</td>\n",
       "      <td>18624</td>\n",
       "    </tr>\n",
       "    <tr>\n",
       "      <th>1</th>\n",
       "      <td>2009</td>\n",
       "      <td>Philadelphia 76ers</td>\n",
       "      <td>27.024390</td>\n",
       "      <td>41</td>\n",
       "      <td>41</td>\n",
       "      <td>50.000000</td>\n",
       "      <td>15802</td>\n",
       "    </tr>\n",
       "    <tr>\n",
       "      <th>2</th>\n",
       "      <td>2009</td>\n",
       "      <td>New Jersey Nets</td>\n",
       "      <td>24.146341</td>\n",
       "      <td>34</td>\n",
       "      <td>48</td>\n",
       "      <td>41.463415</td>\n",
       "      <td>15147</td>\n",
       "    </tr>\n",
       "    <tr>\n",
       "      <th>3</th>\n",
       "      <td>2009</td>\n",
       "      <td>Toronto Raptors</td>\n",
       "      <td>22.695122</td>\n",
       "      <td>33</td>\n",
       "      <td>49</td>\n",
       "      <td>40.243902</td>\n",
       "      <td>18773</td>\n",
       "    </tr>\n",
       "    <tr>\n",
       "      <th>4</th>\n",
       "      <td>2009</td>\n",
       "      <td>New York Knicks</td>\n",
       "      <td>23.170732</td>\n",
       "      <td>34</td>\n",
       "      <td>48</td>\n",
       "      <td>41.463415</td>\n",
       "      <td>19287</td>\n",
       "    </tr>\n",
       "  </tbody>\n",
       "</table>\n",
       "</div>"
      ],
      "text/plain": [
       "   Year   Team and Location    FT/Game  Wins  Loss       Win%  Attendance\n",
       "0  2009      Boston Celtics  25.304878    61    21  74.390244       18624\n",
       "1  2009  Philadelphia 76ers  27.024390    41    41  50.000000       15802\n",
       "2  2009     New Jersey Nets  24.146341    34    48  41.463415       15147\n",
       "3  2009     Toronto Raptors  22.695122    33    49  40.243902       18773\n",
       "4  2009     New York Knicks  23.170732    34    48  41.463415       19287"
      ]
     },
     "execution_count": 564,
     "metadata": {},
     "output_type": "execute_result"
    }
   ],
   "source": [
    "clean_df_towrite.head()"
   ]
  },
  {
   "cell_type": "code",
   "execution_count": 566,
   "metadata": {
    "collapsed": false
   },
   "outputs": [],
   "source": [
    "clean_df_towrite.to_csv('data.csv', sep='\\t')"
   ]
  },
  {
   "cell_type": "code",
   "execution_count": null,
   "metadata": {
    "collapsed": true
   },
   "outputs": [],
   "source": []
  }
 ],
 "metadata": {
  "kernelspec": {
   "display_name": "Python 2",
   "language": "python",
   "name": "python2"
  }
 },
 "nbformat": 4,
 "nbformat_minor": 0
}
