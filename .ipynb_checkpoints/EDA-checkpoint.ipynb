{
 "cells": [
  {
   "cell_type": "code",
   "execution_count": 1,
   "metadata": {
    "collapsed": true
   },
   "outputs": [],
   "source": [
    "import pandas as pd"
   ]
  },
  {
   "cell_type": "code",
   "execution_count": 3,
   "metadata": {
    "collapsed": false
   },
   "outputs": [
    {
     "name": "stderr",
     "output_type": "stream",
     "text": [
      "/Users/ericpei/anaconda/lib/python2.7/site-packages/matplotlib/font_manager.py:273: UserWarning: Matplotlib is building the font cache using fc-list. This may take a moment.\n",
      "  warnings.warn('Matplotlib is building the font cache using fc-list. This may take a moment.')\n"
     ]
    }
   ],
   "source": [
    "import matplotlib.pyplot as plt"
   ]
  },
  {
   "cell_type": "code",
   "execution_count": 42,
   "metadata": {
    "collapsed": true
   },
   "outputs": [],
   "source": [
    "import seaborn as sns"
   ]
  },
  {
   "cell_type": "code",
   "execution_count": 4,
   "metadata": {
    "collapsed": true
   },
   "outputs": [],
   "source": [
    "%matplotlib inline"
   ]
  },
  {
   "cell_type": "code",
   "execution_count": 16,
   "metadata": {
    "collapsed": false
   },
   "outputs": [],
   "source": [
    "df = pd.read_csv('data.csv', delimiter='\\t')"
   ]
  },
  {
   "cell_type": "code",
   "execution_count": 18,
   "metadata": {
    "collapsed": false
   },
   "outputs": [],
   "source": [
    "df = df.drop('Unnamed: 0', axis=1)"
   ]
  },
  {
   "cell_type": "code",
   "execution_count": 19,
   "metadata": {
    "collapsed": false
   },
   "outputs": [
    {
     "name": "stdout",
     "output_type": "stream",
     "text": [
      "<class 'pandas.core.frame.DataFrame'>\n",
      "Int64Index: 240 entries, 0 to 239\n",
      "Data columns (total 7 columns):\n",
      "Year                 240 non-null int64\n",
      "Team and Location    240 non-null object\n",
      "FT/Game              240 non-null float64\n",
      "Wins                 240 non-null int64\n",
      "Loss                 240 non-null int64\n",
      "Win%                 240 non-null float64\n",
      "Attendance           240 non-null int64\n",
      "dtypes: float64(2), int64(4), object(1)\n",
      "memory usage: 15.0+ KB\n"
     ]
    }
   ],
   "source": [
    "df.info()"
   ]
  },
  {
   "cell_type": "code",
   "execution_count": 46,
   "metadata": {
    "collapsed": false
   },
   "outputs": [
    {
     "data": {
      "text/plain": [
       "<matplotlib.collections.PathCollection at 0x11667ed50>"
      ]
     },
     "execution_count": 46,
     "metadata": {},
     "output_type": "execute_result"
    },
    {
     "data": {
      "image/png": "[encoded data removed]",
      "text/plain": [
       "<matplotlib.figure.Figure at 0x1146c7650>"
      ]
     },
     "metadata": {},
     "output_type": "display_data"
    }
   ],
   "source": [
    "plt.scatter(df['Win%'], df['Attendance'])"
   ]
  },
  {
   "cell_type": "code",
   "execution_count": 34,
   "metadata": {
    "collapsed": true
   },
   "outputs": [],
   "source": [
    "from scipy import stats\n",
    "import numpy as np"
   ]
  },
  {
   "cell_type": "code",
   "execution_count": 35,
   "metadata": {
    "collapsed": true
   },
   "outputs": [],
   "source": [
    "slope, intercept, r_value, p_value, std_err = stats.linregress(df['Win%'],df['Attendance'])"
   ]
  },
  {
   "cell_type": "code",
   "execution_count": 41,
   "metadata": {
    "collapsed": false
   },
   "outputs": [
    {
     "name": "stdout",
     "output_type": "stream",
     "text": [
      "P Value:  1.77540383543e-15\n",
      "Slope:  66.5636215161\n"
     ]
    }
   ],
   "source": [
    "print 'P Value: ', p_value\n",
    "print 'Slope: ', slope"
   ]
  },
  {
   "cell_type": "markdown",
   "metadata": {},
   "source": [
    "## On average, an increase of 1% in Total Win Percentage, increases average attendance by 66-67 people."
   ]
  },
  {
   "cell_type": "code",
   "execution_count": 23,
   "metadata": {
    "collapsed": false
   },
   "outputs": [
    {
     "data": {
      "text/html": [
       "<div>\n",
       "<table border=\"1\" class=\"dataframe\">\n",
       "  <thead>\n",
       "    <tr style=\"text-align: right;\">\n",
       "      <th></th>\n",
       "      <th>Year</th>\n",
       "      <th>FT/Game</th>\n",
       "      <th>Wins</th>\n",
       "      <th>Loss</th>\n",
       "      <th>Win%</th>\n",
       "      <th>Attendance</th>\n",
       "    </tr>\n",
       "  </thead>\n",
       "  <tbody>\n",
       "    <tr>\n",
       "      <th>Year</th>\n",
       "      <td>1.000000</td>\n",
       "      <td>-0.229716</td>\n",
       "      <td>0.011473</td>\n",
       "      <td>0.023204</td>\n",
       "      <td>-0.005954</td>\n",
       "      <td>0.084405</td>\n",
       "    </tr>\n",
       "    <tr>\n",
       "      <th>FT/Game</th>\n",
       "      <td>-0.229716</td>\n",
       "      <td>1.000000</td>\n",
       "      <td>0.196954</td>\n",
       "      <td>-0.128318</td>\n",
       "      <td>0.164935</td>\n",
       "      <td>-0.005891</td>\n",
       "    </tr>\n",
       "    <tr>\n",
       "      <th>Wins</th>\n",
       "      <td>0.011473</td>\n",
       "      <td>0.196954</td>\n",
       "      <td>1.000000</td>\n",
       "      <td>-0.910917</td>\n",
       "      <td>0.975069</td>\n",
       "      <td>0.477499</td>\n",
       "    </tr>\n",
       "    <tr>\n",
       "      <th>Loss</th>\n",
       "      <td>0.023204</td>\n",
       "      <td>-0.128318</td>\n",
       "      <td>-0.910917</td>\n",
       "      <td>1.000000</td>\n",
       "      <td>-0.975550</td>\n",
       "      <td>-0.461705</td>\n",
       "    </tr>\n",
       "    <tr>\n",
       "      <th>Win%</th>\n",
       "      <td>-0.005954</td>\n",
       "      <td>0.164935</td>\n",
       "      <td>0.975069</td>\n",
       "      <td>-0.975550</td>\n",
       "      <td>1.000000</td>\n",
       "      <td>0.483687</td>\n",
       "    </tr>\n",
       "    <tr>\n",
       "      <th>Attendance</th>\n",
       "      <td>0.084405</td>\n",
       "      <td>-0.005891</td>\n",
       "      <td>0.477499</td>\n",
       "      <td>-0.461705</td>\n",
       "      <td>0.483687</td>\n",
       "      <td>1.000000</td>\n",
       "    </tr>\n",
       "  </tbody>\n",
       "</table>\n",
       "</div>"
      ],
      "text/plain": [
       "                Year   FT/Game      Wins      Loss      Win%  Attendance\n",
       "Year        1.000000 -0.229716  0.011473  0.023204 -0.005954    0.084405\n",
       "FT/Game    -0.229716  1.000000  0.196954 -0.128318  0.164935   -0.005891\n",
       "Wins        0.011473  0.196954  1.000000 -0.910917  0.975069    0.477499\n",
       "Loss        0.023204 -0.128318 -0.910917  1.000000 -0.975550   -0.461705\n",
       "Win%       -0.005954  0.164935  0.975069 -0.975550  1.000000    0.483687\n",
       "Attendance  0.084405 -0.005891  0.477499 -0.461705  0.483687    1.000000"
      ]
     },
     "execution_count": 23,
     "metadata": {},
     "output_type": "execute_result"
    }
   ],
   "source": [
    "df.corr(method='pearson')"
   ]
  },
  {
   "cell_type": "code",
   "execution_count": 44,
   "metadata": {
    "collapsed": false
   },
   "outputs": [
    {
     "data": {
      "text/plain": [
       "<matplotlib.axes._subplots.AxesSubplot at 0x1163de990>"
      ]
     },
     "execution_count": 44,
     "metadata": {},
     "output_type": "execute_result"
    },
    {
     "data": {
      "image/png": "[encoded data removed]",
      "text/plain": [
       "<matplotlib.figure.Figure at 0x114b3b6d0>"
      ]
     },
     "metadata": {},
     "output_type": "display_data"
    }
   ],
   "source": [
    "sns.residplot(df['Win%'],df['Attendance'])"
   ]
  },
  {
   "cell_type": "markdown",
   "metadata": {},
   "source": [
    "## Average NBA Ticket Price According to www.Statista.com 55.88 Dollars"
   ]
  },
  {
   "cell_type": "code",
   "execution_count": 52,
   "metadata": {
    "collapsed": false
   },
   "outputs": [
    {
     "name": "stdout",
     "output_type": "stream",
     "text": [
      "Additional Revenue per game per 1% increase in total win percentage: $ 3719.58\n"
     ]
    }
   ],
   "source": [
    "Value_Per_game = round(55.88 * slope, 2)\n",
    "print \"Additional Revenue per game per 1% increase in total win percentage: $\", Value_Per_game"
   ]
  },
  {
   "cell_type": "code",
   "execution_count": 53,
   "metadata": {
    "collapsed": true
   },
   "outputs": [],
   "source": [
    "home_games = 82/2"
   ]
  },
  {
   "cell_type": "code",
   "execution_count": 54,
   "metadata": {
    "collapsed": false
   },
   "outputs": [
    {
     "name": "stdout",
     "output_type": "stream",
     "text": [
      "Additional Revenue in ticket sales per year per 1% increase in total win percentage: $ 152502.78\n"
     ]
    }
   ],
   "source": [
    "Value_year = Value_Per_game * home_games\n",
    "print \"Additional Revenue in ticket sales per year per 1% increase in total win percentage: $\", Value_year"
   ]
  },
  {
   "cell_type": "code",
   "execution_count": null,
   "metadata": {
    "collapsed": true
   },
   "outputs": [],
   "source": []
  }
 ],
 "metadata": {
  "kernelspec": {
   "display_name": "Python 2",
   "language": "python",
   "name": "python2"
  },
  "language_info": {
   "codemirror_mode": {
    "name": "ipython",
    "version": 2
   },
   "file_extension": ".py",
   "mimetype": "text/x-python",
   "name": "python",
   "nbconvert_exporter": "python",
   "pygments_lexer": "ipython2",
   "version": "2.7.11"
  }
 },
 "nbformat": 4,
 "nbformat_minor": 0
}
