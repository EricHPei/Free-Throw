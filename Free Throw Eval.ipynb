{
 "cells": [
  {
   "cell_type": "markdown",
   "metadata": {},
   "source": [
    "## With 19.4 seconds left in Game 6 of the 2013 NBA Finals, the San Antonio Spurs were up 94-92. Kawhi Leonard steps up to the line for two free throws. He misses the first and sinks the second. Seconds later... Ray Allen shoots a 3 and sends the game to overtime. "
   ]
  },
  {
   "cell_type": "markdown",
   "metadata": {},
   "source": [
    "## We know how that story ends."
   ]
  },
  {
   "cell_type": "markdown",
   "metadata": {},
   "source": [
    "### What if Kawhi Leonard made both free throws? What is the value of that to the Spurs Franchise?"
   ]
  },
  {
   "cell_type": "markdown",
   "metadata": {},
   "source": [
    "## According to Forbes, the value of the Miami Heat went from 457 million to 625 million in 2013. The San Antonio Spurs went from 418 million to 527 million under the same period."
   ]
  },
  {
   "cell_type": "markdown",
   "metadata": {},
   "source": [
    "## Think about this. The team value of the Golden State Warriors has gone from 750 million in 2014 to 1.3 billion to 2015. It stands at 1.9 billion early in 2016. Winning matters"
   ]
  },
  {
   "cell_type": "markdown",
   "metadata": {},
   "source": [
    "## And in a couple of days:"
   ]
  },
  {
   "cell_type": "markdown",
   "metadata": {},
   "source": [
    "### Whichever team wins game 7 will have an increase in valuation of 200 or 300 million dollars."
   ]
  },
  {
   "cell_type": "markdown",
   "metadata": {},
   "source": [
    "src: http://www.forbes.com/sites/mikeozanian/2016/06/19/nba-finals-500-million-swing-hinges-on-game-seven/#584d715d3cdf"
   ]
  },
  {
   "cell_type": "code",
   "execution_count": null,
   "metadata": {
    "collapsed": true
   },
   "outputs": [],
   "source": []
  }
 ],
 "metadata": {
  "kernelspec": {
   "display_name": "Python 2",
   "language": "python",
   "name": "python2"
  },
  "language_info": {
   "codemirror_mode": {
    "name": "ipython",
    "version": 2
   },
   "file_extension": ".py",
   "mimetype": "text/x-python",
   "name": "python",
   "nbconvert_exporter": "python",
   "pygments_lexer": "ipython2",
   "version": "2.7.11"
  }
 },
 "nbformat": 4,
 "nbformat_minor": 0
}
