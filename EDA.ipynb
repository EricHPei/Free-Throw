{
 "cells": [
  {
   "cell_type": "code",
   "execution_count": 1,
   "metadata": {
    "collapsed": true
   },
   "outputs": [],
   "source": [
    "import pandas as pd"
   ]
  },
  {
   "cell_type": "code",
   "execution_count": 3,
   "metadata": {
    "collapsed": false
   },
   "outputs": [
    {
     "name": "stderr",
     "output_type": "stream",
     "text": [
      "/Users/ericpei/anaconda/lib/python2.7/site-packages/matplotlib/font_manager.py:273: UserWarning: Matplotlib is building the font cache using fc-list. This may take a moment.\n",
      "  warnings.warn('Matplotlib is building the font cache using fc-list. This may take a moment.')\n"
     ]
    }
   ],
   "source": [
    "import matplotlib.pyplot as plt"
   ]
  },
  {
   "cell_type": "code",
   "execution_count": 42,
   "metadata": {
    "collapsed": true
   },
   "outputs": [],
   "source": [
    "import seaborn as sns"
   ]
  },
  {
   "cell_type": "code",
   "execution_count": 4,
   "metadata": {
    "collapsed": true
   },
   "outputs": [],
   "source": [
    "%matplotlib inline"
   ]
  },
  {
   "cell_type": "code",
   "execution_count": 16,
   "metadata": {
    "collapsed": false
   },
   "outputs": [],
   "source": [
    "df = pd.read_csv('data.csv', delimiter='\\t')"
   ]
  },
  {
   "cell_type": "code",
   "execution_count": 18,
   "metadata": {
    "collapsed": false
   },
   "outputs": [],
   "source": [
    "df = df.drop('Unnamed: 0', axis=1)"
   ]
  },
  {
   "cell_type": "code",
   "execution_count": 19,
   "metadata": {
    "collapsed": false
   },
   "outputs": [
    {
     "name": "stdout",
     "output_type": "stream",
     "text": [
      "<class 'pandas.core.frame.DataFrame'>\n",
      "Int64Index: 240 entries, 0 to 239\n",
      "Data columns (total 7 columns):\n",
      "Year                 240 non-null int64\n",
      "Team and Location    240 non-null object\n",
      "FT/Game              240 non-null float64\n",
      "Wins                 240 non-null int64\n",
      "Loss                 240 non-null int64\n",
      "Win%                 240 non-null float64\n",
      "Attendance           240 non-null int64\n",
      "dtypes: float64(2), int64(4), object(1)\n",
      "memory usage: 15.0+ KB\n"
     ]
    }
   ],
   "source": [
    "df.info()"
   ]
  },
  {
   "cell_type": "code",
   "execution_count": 46,
   "metadata": {
    "collapsed": false
   },
   "outputs": [
    {
     "data": {
      "text/plain": [
       "<matplotlib.collections.PathCollection at 0x11667ed50>"
      ]
     },
     "execution_count": 46,
     "metadata": {},
     "output_type": "execute_result"
    },
    {
     "data": {
      "image/png": "[encoded data removed]",
      "text/plain": [
       "<matplotlib.figure.Figure at 0x1146c7650>"
      ]
     },
     "metadata": {},
     "output_type": "display_data"
    }
   ],
   "source": [
    "plt.scatter(df['Win%'], df['Attendance'])"
   ]
  },
  {
   "cell_type": "code",
   "execution_count": 34,
   "metadata": {
    "collapsed": true
   },
   "outputs": [],
   "source": [
    "from scipy import stats\n",
    "import numpy as np"
   ]
  },
  {
   "cell_type": "code",
   "execution_count": 35,
   "metadata": {
    "collapsed": true
   },
   "outputs": [],
   "source": [
    "slope, intercept, r_value, p_value, std_err = stats.linregress(df['Win%'],df['Attendance'])"
   ]
  },
  {
   "cell_type": "code",
   "execution_count": 92,
   "metadata": {
    "collapsed": false
   },
   "outputs": [
    {
     "name": "stdout",
     "output_type": "stream",
     "text": [
      "P Value:  1.77540383543e-15\n",
      "Slope:  66.5636215161\n",
      "Intercept 14123.6574837\n",
      "R Squared 0.233952872474\n"
     ]
    }
   ],
   "source": [
    "print 'P Value: ', p_value\n",
    "print 'Slope: ', slope\n",
    "print 'Intercept', intercept\n",
    "print 'R Squared', r_value**2"
   ]
  },
  {
   "cell_type": "markdown",
   "metadata": {},
   "source": [
    "## On average, an increase of 1% in Total Win Percentage, increases average attendance by 66-67 people."
   ]
  },
  {
   "cell_type": "code",
   "execution_count": 23,
   "metadata": {
    "collapsed": false
   },
   "outputs": [
    {
     "data": {
      "text/html": [
       "<div>\n",
       "<table border=\"1\" class=\"dataframe\">\n",
       "  <thead>\n",
       "    <tr style=\"text-align: right;\">\n",
       "      <th></th>\n",
       "      <th>Year</th>\n",
       "      <th>FT/Game</th>\n",
       "      <th>Wins</th>\n",
       "      <th>Loss</th>\n",
       "      <th>Win%</th>\n",
       "      <th>Attendance</th>\n",
       "    </tr>\n",
       "  </thead>\n",
       "  <tbody>\n",
       "    <tr>\n",
       "      <th>Year</th>\n",
       "      <td>1.000000</td>\n",
       "      <td>-0.229716</td>\n",
       "      <td>0.011473</td>\n",
       "      <td>0.023204</td>\n",
       "      <td>-0.005954</td>\n",
       "      <td>0.084405</td>\n",
       "    </tr>\n",
       "    <tr>\n",
       "      <th>FT/Game</th>\n",
       "      <td>-0.229716</td>\n",
       "      <td>1.000000</td>\n",
       "      <td>0.196954</td>\n",
       "      <td>-0.128318</td>\n",
       "      <td>0.164935</td>\n",
       "      <td>-0.005891</td>\n",
       "    </tr>\n",
       "    <tr>\n",
       "      <th>Wins</th>\n",
       "      <td>0.011473</td>\n",
       "      <td>0.196954</td>\n",
       "      <td>1.000000</td>\n",
       "      <td>-0.910917</td>\n",
       "      <td>0.975069</td>\n",
       "      <td>0.477499</td>\n",
       "    </tr>\n",
       "    <tr>\n",
       "      <th>Loss</th>\n",
       "      <td>0.023204</td>\n",
       "      <td>-0.128318</td>\n",
       "      <td>-0.910917</td>\n",
       "      <td>1.000000</td>\n",
       "      <td>-0.975550</td>\n",
       "      <td>-0.461705</td>\n",
       "    </tr>\n",
       "    <tr>\n",
       "      <th>Win%</th>\n",
       "      <td>-0.005954</td>\n",
       "      <td>0.164935</td>\n",
       "      <td>0.975069</td>\n",
       "      <td>-0.975550</td>\n",
       "      <td>1.000000</td>\n",
       "      <td>0.483687</td>\n",
       "    </tr>\n",
       "    <tr>\n",
       "      <th>Attendance</th>\n",
       "      <td>0.084405</td>\n",
       "      <td>-0.005891</td>\n",
       "      <td>0.477499</td>\n",
       "      <td>-0.461705</td>\n",
       "      <td>0.483687</td>\n",
       "      <td>1.000000</td>\n",
       "    </tr>\n",
       "  </tbody>\n",
       "</table>\n",
       "</div>"
      ],
      "text/plain": [
       "                Year   FT/Game      Wins      Loss      Win%  Attendance\n",
       "Year        1.000000 -0.229716  0.011473  0.023204 -0.005954    0.084405\n",
       "FT/Game    -0.229716  1.000000  0.196954 -0.128318  0.164935   -0.005891\n",
       "Wins        0.011473  0.196954  1.000000 -0.910917  0.975069    0.477499\n",
       "Loss        0.023204 -0.128318 -0.910917  1.000000 -0.975550   -0.461705\n",
       "Win%       -0.005954  0.164935  0.975069 -0.975550  1.000000    0.483687\n",
       "Attendance  0.084405 -0.005891  0.477499 -0.461705  0.483687    1.000000"
      ]
     },
     "execution_count": 23,
     "metadata": {},
     "output_type": "execute_result"
    }
   ],
   "source": [
    "df.corr(method='pearson')"
   ]
  },
  {
   "cell_type": "code",
   "execution_count": 224,
   "metadata": {
    "collapsed": false
   },
   "outputs": [
    {
     "data": {
      "image/png": "[encoded data removed]",
      "text/plain": [
       "<matplotlib.figure.Figure at 0x1177efc10>"
      ]
     },
     "metadata": {},
     "output_type": "display_data"
    }
   ],
   "source": [
    "sns.residplot(df['Win%'],df['Attendance'])\n",
    "plt.title('Residual Plot')\n",
    "plt.show()"
   ]
  },
  {
   "cell_type": "markdown",
   "metadata": {},
   "source": [
    "## Average NBA Ticket Price According to www.Statista.com 55.88 Dollars"
   ]
  },
  {
   "cell_type": "code",
   "execution_count": 52,
   "metadata": {
    "collapsed": false
   },
   "outputs": [
    {
     "name": "stdout",
     "output_type": "stream",
     "text": [
      "Additional Revenue per game per 1% increase in total win percentage: $ 3719.58\n"
     ]
    }
   ],
   "source": [
    "Value_Per_game = round(55.88 * slope, 2)\n",
    "print \"Additional Revenue per game per 1% increase in total win percentage: $\", Value_Per_game"
   ]
  },
  {
   "cell_type": "code",
   "execution_count": 53,
   "metadata": {
    "collapsed": true
   },
   "outputs": [],
   "source": [
    "home_games = 82/2"
   ]
  },
  {
   "cell_type": "code",
   "execution_count": 54,
   "metadata": {
    "collapsed": false
   },
   "outputs": [
    {
     "name": "stdout",
     "output_type": "stream",
     "text": [
      "Additional Revenue in ticket sales per year per 1% increase in total win percentage: $ 152502.78\n"
     ]
    }
   ],
   "source": [
    "Value_year = Value_Per_game * home_games\n",
    "print \"Additional Revenue in ticket sales per year per 1% increase in total win percentage: $\", Value_year"
   ]
  },
  {
   "cell_type": "code",
   "execution_count": 55,
   "metadata": {
    "collapsed": true
   },
   "outputs": [],
   "source": [
    "from sklearn.linear_model import LinearRegression"
   ]
  },
  {
   "cell_type": "code",
   "execution_count": 208,
   "metadata": {
    "collapsed": true
   },
   "outputs": [],
   "source": [
    "model = LinearRegression(fit_intercept=True)"
   ]
  },
  {
   "cell_type": "code",
   "execution_count": 209,
   "metadata": {
    "collapsed": false
   },
   "outputs": [
    {
     "data": {
      "text/plain": [
       "LinearRegression(copy_X=True, fit_intercept=True, n_jobs=1, normalize=False)"
      ]
     },
     "execution_count": 209,
     "metadata": {},
     "output_type": "execute_result"
    }
   ],
   "source": [
    "model"
   ]
  },
  {
   "cell_type": "code",
   "execution_count": 210,
   "metadata": {
    "collapsed": false
   },
   "outputs": [],
   "source": [
    "X = df.iloc[:,3:4]"
   ]
  },
  {
   "cell_type": "code",
   "execution_count": 211,
   "metadata": {
    "collapsed": false,
    "scrolled": false
   },
   "outputs": [
    {
     "data": {
      "text/plain": [
       "LinearRegression(copy_X=True, fit_intercept=True, n_jobs=1, normalize=False)"
      ]
     },
     "execution_count": 211,
     "metadata": {},
     "output_type": "execute_result"
    }
   ],
   "source": [
    "model.fit(X, df['Attendance'])"
   ]
  },
  {
   "cell_type": "code",
   "execution_count": 212,
   "metadata": {
    "collapsed": false
   },
   "outputs": [
    {
     "name": "stdout",
     "output_type": "stream",
     "text": [
      "Coefficient:  80.2085009161\n"
     ]
    }
   ],
   "source": [
    "print 'Coefficient: ', model.coef_[0]"
   ]
  },
  {
   "cell_type": "code",
   "execution_count": 192,
   "metadata": {
    "collapsed": false
   },
   "outputs": [
    {
     "data": {
      "text/plain": [
       "14244.365159118963"
      ]
     },
     "execution_count": 192,
     "metadata": {},
     "output_type": "execute_result"
    }
   ],
   "source": [
    "model.intercept_"
   ]
  },
  {
   "cell_type": "code",
   "execution_count": 114,
   "metadata": {
    "collapsed": false
   },
   "outputs": [
    {
     "name": "stdout",
     "output_type": "stream",
     "text": [
      "Variance score: 0.22801\n"
     ]
    }
   ],
   "source": [
    "print'Variance score: %.5f' % model.score(X, df['Attendance'])"
   ]
  },
  {
   "cell_type": "code",
   "execution_count": 231,
   "metadata": {
    "collapsed": false
   },
   "outputs": [
    {
     "data": {
      "image/png": "[encoded data removed]",
      "text/plain": [
       "<matplotlib.figure.Figure at 0x11875c350>"
      ]
     },
     "metadata": {},
     "output_type": "display_data"
    }
   ],
   "source": [
    "plt.scatter(df['Win%'], df['Attendance'])\n",
    "plt.title('Win % vs. Attendance')\n",
    "plt.xlabel('Win %')\n",
    "plt.ylabel('Average attendance per game')\n",
    "plt.plot(df['Win%'], df['Win%']*slope + intercept)\n",
    "plt.plot(df['Win%'], df['Win%']*model.coef_[0] + model.intercept_)\n",
    "plt.show()"
   ]
  },
  {
   "cell_type": "code",
   "execution_count": 217,
   "metadata": {
    "collapsed": false
   },
   "outputs": [],
   "source": [
    "from sklearn.metrics import mean_squared_error"
   ]
  },
  {
   "cell_type": "code",
   "execution_count": 218,
   "metadata": {
    "collapsed": false
   },
   "outputs": [
    {
     "data": {
      "text/plain": [
       "3415398.3433018033"
      ]
     },
     "execution_count": 218,
     "metadata": {},
     "output_type": "execute_result"
    }
   ],
   "source": [
    "mean_squared_error(model.predict(X), df['Attendance'])"
   ]
  },
  {
   "cell_type": "code",
   "execution_count": 220,
   "metadata": {
    "collapsed": false
   },
   "outputs": [
    {
     "name": "stdout",
     "output_type": "stream",
     "text": [
      "Residual sum of squares sklearn: 819695602.39\n"
     ]
    }
   ],
   "source": [
    "print(\"Residual sum of squares sklearn: %.2f\"\n",
    "      % np.sum((model.predict(X) - df['Attendance']) ** 2))"
   ]
  },
  {
   "cell_type": "code",
   "execution_count": 219,
   "metadata": {
    "collapsed": false
   },
   "outputs": [
    {
     "data": {
      "text/plain": [
       "3389084.2974850913"
      ]
     },
     "execution_count": 219,
     "metadata": {},
     "output_type": "execute_result"
    }
   ],
   "source": [
    "mean_squared_error(df['Win%']*float(slope)+intercept, df['Attendance'])"
   ]
  },
  {
   "cell_type": "code",
   "execution_count": 221,
   "metadata": {
    "collapsed": false
   },
   "outputs": [
    {
     "name": "stdout",
     "output_type": "stream",
     "text": [
      "Residual sum of squares scipy: 813380231.40\n"
     ]
    }
   ],
   "source": [
    "print(\"Residual sum of squares scipy: %.2f\"\n",
    "      % np.sum((df['Win%']*float(slope)+intercept - df['Attendance'].astype(float))**2))"
   ]
  },
  {
   "cell_type": "code",
   "execution_count": 242,
   "metadata": {
    "collapsed": true
   },
   "outputs": [],
   "source": [
    "df_statsmodel = df.rename(columns = {'Win%': 'WinP'})"
   ]
  },
  {
   "cell_type": "code",
   "execution_count": 266,
   "metadata": {
    "collapsed": true
   },
   "outputs": [],
   "source": [
    "import statsmodels.api as sm"
   ]
  },
  {
   "cell_type": "code",
   "execution_count": 267,
   "metadata": {
    "collapsed": false
   },
   "outputs": [],
   "source": [
    "add_cons = sm.add_constant(df['Win%'])"
   ]
  },
  {
   "cell_type": "code",
   "execution_count": 268,
   "metadata": {
    "collapsed": false
   },
   "outputs": [
    {
     "data": {
      "text/plain": [
       "Intercept      7061.828742\n",
       "add_cons[0]    7061.828742\n",
       "add_cons[1]      66.563622\n",
       "dtype: float64"
      ]
     },
     "execution_count": 268,
     "metadata": {},
     "output_type": "execute_result"
    }
   ],
   "source": [
    "import statsmodels.formula.api as smf\n",
    "\n",
    "lm = smf.ols(formula= 'Attendance~add_cons', data=df_statsmodel).fit()\n",
    "\n",
    "lm.params"
   ]
  },
  {
   "cell_type": "code",
   "execution_count": 233,
   "metadata": {
    "collapsed": false
   },
   "outputs": [
    {
     "data": {
      "text/html": [
       "<div>\n",
       "<table border=\"1\" class=\"dataframe\">\n",
       "  <thead>\n",
       "    <tr style=\"text-align: right;\">\n",
       "      <th></th>\n",
       "      <th>Year</th>\n",
       "      <th>Team and Location</th>\n",
       "      <th>FT/Game</th>\n",
       "      <th>Wins</th>\n",
       "      <th>Loss</th>\n",
       "      <th>Win%</th>\n",
       "      <th>Attendance</th>\n",
       "    </tr>\n",
       "  </thead>\n",
       "  <tbody>\n",
       "    <tr>\n",
       "      <th>0</th>\n",
       "      <td>2009</td>\n",
       "      <td>Boston Celtics</td>\n",
       "      <td>25.304878</td>\n",
       "      <td>61</td>\n",
       "      <td>21</td>\n",
       "      <td>74.390244</td>\n",
       "      <td>18624</td>\n",
       "    </tr>\n",
       "    <tr>\n",
       "      <th>1</th>\n",
       "      <td>2009</td>\n",
       "      <td>Philadelphia 76ers</td>\n",
       "      <td>27.024390</td>\n",
       "      <td>41</td>\n",
       "      <td>41</td>\n",
       "      <td>50.000000</td>\n",
       "      <td>15802</td>\n",
       "    </tr>\n",
       "    <tr>\n",
       "      <th>2</th>\n",
       "      <td>2009</td>\n",
       "      <td>New Jersey Nets</td>\n",
       "      <td>24.146341</td>\n",
       "      <td>34</td>\n",
       "      <td>48</td>\n",
       "      <td>41.463415</td>\n",
       "      <td>15147</td>\n",
       "    </tr>\n",
       "    <tr>\n",
       "      <th>3</th>\n",
       "      <td>2009</td>\n",
       "      <td>Toronto Raptors</td>\n",
       "      <td>22.695122</td>\n",
       "      <td>33</td>\n",
       "      <td>49</td>\n",
       "      <td>40.243902</td>\n",
       "      <td>18773</td>\n",
       "    </tr>\n",
       "    <tr>\n",
       "      <th>4</th>\n",
       "      <td>2009</td>\n",
       "      <td>New York Knicks</td>\n",
       "      <td>23.170732</td>\n",
       "      <td>34</td>\n",
       "      <td>48</td>\n",
       "      <td>41.463415</td>\n",
       "      <td>19287</td>\n",
       "    </tr>\n",
       "  </tbody>\n",
       "</table>\n",
       "</div>"
      ],
      "text/plain": [
       "   Year   Team and Location    FT/Game  Wins  Loss       Win%  Attendance\n",
       "0  2009      Boston Celtics  25.304878    61    21  74.390244       18624\n",
       "1  2009  Philadelphia 76ers  27.024390    41    41  50.000000       15802\n",
       "2  2009     New Jersey Nets  24.146341    34    48  41.463415       15147\n",
       "3  2009     Toronto Raptors  22.695122    33    49  40.243902       18773\n",
       "4  2009     New York Knicks  23.170732    34    48  41.463415       19287"
      ]
     },
     "execution_count": 233,
     "metadata": {},
     "output_type": "execute_result"
    }
   ],
   "source": [
    "df.head()"
   ]
  },
  {
   "cell_type": "code",
   "execution_count": 250,
   "metadata": {
    "collapsed": false
   },
   "outputs": [
    {
     "data": {
      "text/html": [
       "<div>\n",
       "<table border=\"1\" class=\"dataframe\">\n",
       "  <thead>\n",
       "    <tr style=\"text-align: right;\">\n",
       "      <th></th>\n",
       "      <th>Year</th>\n",
       "      <th>FT/Game</th>\n",
       "      <th>Wins</th>\n",
       "      <th>Loss</th>\n",
       "      <th>Win%</th>\n",
       "      <th>Attendance</th>\n",
       "    </tr>\n",
       "  </thead>\n",
       "  <tbody>\n",
       "    <tr>\n",
       "      <th>Year</th>\n",
       "      <td>5.271967</td>\n",
       "      <td>-1.301778</td>\n",
       "      <td>0.330544</td>\n",
       "      <td>0.669456</td>\n",
       "      <td>-0.209400</td>\n",
       "      <td>408.483264</td>\n",
       "    </tr>\n",
       "    <tr>\n",
       "      <th>FT/Game</th>\n",
       "      <td>-1.301778</td>\n",
       "      <td>6.091424</td>\n",
       "      <td>6.099521</td>\n",
       "      <td>-3.979500</td>\n",
       "      <td>6.234745</td>\n",
       "      <td>-30.644651</td>\n",
       "    </tr>\n",
       "    <tr>\n",
       "      <th>Wins</th>\n",
       "      <td>0.330544</td>\n",
       "      <td>6.099521</td>\n",
       "      <td>157.450418</td>\n",
       "      <td>-143.625523</td>\n",
       "      <td>187.393559</td>\n",
       "      <td>12628.862029</td>\n",
       "    </tr>\n",
       "    <tr>\n",
       "      <th>Loss</th>\n",
       "      <td>0.669456</td>\n",
       "      <td>-3.979500</td>\n",
       "      <td>-143.625523</td>\n",
       "      <td>157.892608</td>\n",
       "      <td>-187.749026</td>\n",
       "      <td>-12228.282775</td>\n",
       "    </tr>\n",
       "    <tr>\n",
       "      <th>Win%</th>\n",
       "      <td>-0.209400</td>\n",
       "      <td>6.234745</td>\n",
       "      <td>187.393559</td>\n",
       "      <td>-187.749026</td>\n",
       "      <td>234.582019</td>\n",
       "      <td>15614.628748</td>\n",
       "    </tr>\n",
       "    <tr>\n",
       "      <th>Attendance</th>\n",
       "      <td>408.483264</td>\n",
       "      <td>-30.644651</td>\n",
       "      <td>12628.862029</td>\n",
       "      <td>-12228.282775</td>\n",
       "      <td>15614.628748</td>\n",
       "      <td>4442630.804585</td>\n",
       "    </tr>\n",
       "  </tbody>\n",
       "</table>\n",
       "</div>"
      ],
      "text/plain": [
       "                  Year    FT/Game          Wins          Loss          Win%  \\\n",
       "Year          5.271967  -1.301778      0.330544      0.669456     -0.209400   \n",
       "FT/Game      -1.301778   6.091424      6.099521     -3.979500      6.234745   \n",
       "Wins          0.330544   6.099521    157.450418   -143.625523    187.393559   \n",
       "Loss          0.669456  -3.979500   -143.625523    157.892608   -187.749026   \n",
       "Win%         -0.209400   6.234745    187.393559   -187.749026    234.582019   \n",
       "Attendance  408.483264 -30.644651  12628.862029 -12228.282775  15614.628748   \n",
       "\n",
       "                Attendance  \n",
       "Year            408.483264  \n",
       "FT/Game         -30.644651  \n",
       "Wins          12628.862029  \n",
       "Loss         -12228.282775  \n",
       "Win%          15614.628748  \n",
       "Attendance  4442630.804585  "
      ]
     },
     "execution_count": 250,
     "metadata": {},
     "output_type": "execute_result"
    }
   ],
   "source": [
    "pd.DataFrame.cov(df)"
   ]
  },
  {
   "cell_type": "code",
   "execution_count": 251,
   "metadata": {
    "collapsed": true
   },
   "outputs": [],
   "source": [
    "covar = 15614.628748"
   ]
  },
  {
   "cell_type": "code",
   "execution_count": 276,
   "metadata": {
    "collapsed": false
   },
   "outputs": [
    {
     "data": {
      "text/plain": [
       "Year             2.296076\n",
       "FT/Game          2.468081\n",
       "Wins            12.547925\n",
       "Loss            12.565533\n",
       "Win%            15.316071\n",
       "Attendance    2107.754920\n",
       "dtype: float64"
      ]
     },
     "execution_count": 276,
     "metadata": {},
     "output_type": "execute_result"
    }
   ],
   "source": [
    "pd.DataFrame.std(df)"
   ]
  },
  {
   "cell_type": "code",
   "execution_count": 253,
   "metadata": {
    "collapsed": true
   },
   "outputs": [],
   "source": [
    "win_sd = 15.316071"
   ]
  },
  {
   "cell_type": "code",
   "execution_count": 255,
   "metadata": {
    "collapsed": false
   },
   "outputs": [
    {
     "data": {
      "text/plain": [
       "66.56361823461488"
      ]
     },
     "execution_count": 255,
     "metadata": {},
     "output_type": "execute_result"
    }
   ],
   "source": [
    "covar/(win_sd)**2"
   ]
  },
  {
   "cell_type": "code",
   "execution_count": 272,
   "metadata": {
    "collapsed": false
   },
   "outputs": [
    {
     "data": {
      "text/html": [
       "<table class=\"simpletable\">\n",
       "<caption>OLS Regression Results</caption>\n",
       "<tr>\n",
       "  <th>Dep. Variable:</th>       <td>Attendance</td>    <th>  R-squared:         </th> <td>   0.234</td>\n",
       "</tr>\n",
       "<tr>\n",
       "  <th>Model:</th>                   <td>OLS</td>       <th>  Adj. R-squared:    </th> <td>   0.231</td>\n",
       "</tr>\n",
       "<tr>\n",
       "  <th>Method:</th>             <td>Least Squares</td>  <th>  F-statistic:       </th> <td>   72.69</td>\n",
       "</tr>\n",
       "<tr>\n",
       "  <th>Date:</th>             <td>Fri, 17 Jun 2016</td> <th>  Prob (F-statistic):</th> <td>1.78e-15</td>\n",
       "</tr>\n",
       "<tr>\n",
       "  <th>Time:</th>                 <td>11:48:44</td>     <th>  Log-Likelihood:    </th> <td> -2144.9</td>\n",
       "</tr>\n",
       "<tr>\n",
       "  <th>No. Observations:</th>      <td>   240</td>      <th>  AIC:               </th> <td>   4294.</td>\n",
       "</tr>\n",
       "<tr>\n",
       "  <th>Df Residuals:</th>          <td>   238</td>      <th>  BIC:               </th> <td>   4301.</td>\n",
       "</tr>\n",
       "<tr>\n",
       "  <th>Df Model:</th>              <td>     1</td>      <th>                     </th>     <td> </td>   \n",
       "</tr>\n",
       "<tr>\n",
       "  <th>Covariance Type:</th>      <td>nonrobust</td>    <th>                     </th>     <td> </td>   \n",
       "</tr>\n",
       "</table>\n",
       "<table class=\"simpletable\">\n",
       "<tr>\n",
       "       <td></td>          <th>coef</th>     <th>std err</th>      <th>t</th>      <th>P>|t|</th>  <th>[0.025</th>    <th>0.975]</th>  \n",
       "</tr>\n",
       "<tr>\n",
       "  <th>Intercept</th>   <td> 7061.8287</td> <td>  204.489</td> <td>   34.534</td> <td> 0.000</td> <td> 6658.989</td> <td> 7464.669</td>\n",
       "</tr>\n",
       "<tr>\n",
       "  <th>add_cons[0]</th> <td> 7061.8287</td> <td>  204.489</td> <td>   34.534</td> <td> 0.000</td> <td> 6658.989</td> <td> 7464.669</td>\n",
       "</tr>\n",
       "<tr>\n",
       "  <th>add_cons[1]</th> <td>   66.5636</td> <td>    7.808</td> <td>    8.526</td> <td> 0.000</td> <td>   51.183</td> <td>   81.944</td>\n",
       "</tr>\n",
       "</table>\n",
       "<table class=\"simpletable\">\n",
       "<tr>\n",
       "  <th>Omnibus:</th>       <td> 3.883</td> <th>  Durbin-Watson:     </th> <td>   2.224</td>\n",
       "</tr>\n",
       "<tr>\n",
       "  <th>Prob(Omnibus):</th> <td> 0.143</td> <th>  Jarque-Bera (JB):  </th> <td>   3.344</td>\n",
       "</tr>\n",
       "<tr>\n",
       "  <th>Skew:</th>          <td> 0.199</td> <th>  Prob(JB):          </th> <td>   0.188</td>\n",
       "</tr>\n",
       "<tr>\n",
       "  <th>Kurtosis:</th>      <td> 2.581</td> <th>  Cond. No.          </th> <td>7.47e+17</td>\n",
       "</tr>\n",
       "</table>"
      ],
      "text/plain": [
       "<class 'statsmodels.iolib.summary.Summary'>\n",
       "\"\"\"\n",
       "                            OLS Regression Results                            \n",
       "==============================================================================\n",
       "Dep. Variable:             Attendance   R-squared:                       0.234\n",
       "Model:                            OLS   Adj. R-squared:                  0.231\n",
       "Method:                 Least Squares   F-statistic:                     72.69\n",
       "Date:                Fri, 17 Jun 2016   Prob (F-statistic):           1.78e-15\n",
       "Time:                        11:48:44   Log-Likelihood:                -2144.9\n",
       "No. Observations:                 240   AIC:                             4294.\n",
       "Df Residuals:                     238   BIC:                             4301.\n",
       "Df Model:                           1                                         \n",
       "Covariance Type:            nonrobust                                         \n",
       "===============================================================================\n",
       "                  coef    std err          t      P>|t|      [0.025      0.975]\n",
       "-------------------------------------------------------------------------------\n",
       "Intercept    7061.8287    204.489     34.534      0.000    6658.989    7464.669\n",
       "add_cons[0]  7061.8287    204.489     34.534      0.000    6658.989    7464.669\n",
       "add_cons[1]    66.5636      7.808      8.526      0.000      51.183      81.944\n",
       "==============================================================================\n",
       "Omnibus:                        3.883   Durbin-Watson:                   2.224\n",
       "Prob(Omnibus):                  0.143   Jarque-Bera (JB):                3.344\n",
       "Skew:                           0.199   Prob(JB):                        0.188\n",
       "Kurtosis:                       2.581   Cond. No.                     7.47e+17\n",
       "==============================================================================\n",
       "\n",
       "Warnings:\n",
       "[1] Standard Errors assume that the covariance matrix of the errors is correctly specified.\n",
       "[2] The smallest eigenvalue is 1.18e-30. This might indicate that there are\n",
       "strong multicollinearity problems or that the design matrix is singular.\n",
       "\"\"\""
      ]
     },
     "execution_count": 272,
     "metadata": {},
     "output_type": "execute_result"
    }
   ],
   "source": [
    "lm.summary()"
   ]
  },
  {
   "cell_type": "markdown",
   "metadata": {},
   "source": [
    "## 95% confidence WinP coefficient is between 51.183 and 81.944"
   ]
  },
  {
   "cell_type": "code",
   "execution_count": 292,
   "metadata": {
    "collapsed": false
   },
   "outputs": [],
   "source": [
    "per_game = 100*(1/82.0)"
   ]
  },
  {
   "cell_type": "code",
   "execution_count": 293,
   "metadata": {
    "collapsed": true
   },
   "outputs": [],
   "source": [
    "ticket_price = 55.88"
   ]
  },
  {
   "cell_type": "code",
   "execution_count": 300,
   "metadata": {
    "collapsed": true
   },
   "outputs": [],
   "source": [
    "increase_in_wins = .99"
   ]
  },
  {
   "cell_type": "code",
   "execution_count": 301,
   "metadata": {
    "collapsed": false
   },
   "outputs": [
    {
     "data": {
      "text/plain": [
       "41"
      ]
     },
     "execution_count": 301,
     "metadata": {},
     "output_type": "execute_result"
    }
   ],
   "source": [
    "home_games"
   ]
  },
  {
   "cell_type": "code",
   "execution_count": 302,
   "metadata": {
    "collapsed": false
   },
   "outputs": [
    {
     "data": {
      "text/plain": [
       "184118.97093068881"
      ]
     },
     "execution_count": 302,
     "metadata": {},
     "output_type": "execute_result"
    }
   ],
   "source": [
    "per_game*increase_in_wins*slope*ticket_price*home_games"
   ]
  },
  {
   "cell_type": "code",
   "execution_count": null,
   "metadata": {
    "collapsed": true
   },
   "outputs": [],
   "source": []
  }
 ],
 "metadata": {
  "kernelspec": {
   "display_name": "Python 2",
   "language": "python",
   "name": "python2"
  },
  "language_info": {
   "codemirror_mode": {
    "name": "ipython",
    "version": 2
   },
   "file_extension": ".py",
   "mimetype": "text/x-python",
   "name": "python",
   "nbconvert_exporter": "python",
   "pygments_lexer": "ipython2",
   "version": "2.7.11"
  }
 },
 "nbformat": 4,
 "nbformat_minor": 0
}
